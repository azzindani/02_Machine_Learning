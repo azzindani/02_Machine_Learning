{
  "cells": [
    {
      "cell_type": "markdown",
      "metadata": {
        "id": "view-in-github",
        "colab_type": "text"
      },
      "source": [
        "<a href=\"https://colab.research.google.com/github/azzindani/02_Machine_Learning/blob/main/Phishing_Legitimate.ipynb\" target=\"_parent\"><img src=\"https://colab.research.google.com/assets/colab-badge.svg\" alt=\"Open In Colab\"/></a>"
      ]
    },
    {
      "cell_type": "markdown",
      "source": [
        "## Version 20240815"
      ],
      "metadata": {
        "id": "8xNvr15NMI93"
      }
    },
    {
      "cell_type": "markdown",
      "metadata": {
        "id": "xzGjScgSt8W9"
      },
      "source": [
        "## 00 Importing Modules & Mounting Drive"
      ]
    },
    {
      "cell_type": "code",
      "execution_count": 1,
      "metadata": {
        "id": "bbJ186eYbwSV",
        "colab": {
          "base_uri": "https://localhost:8080/"
        },
        "outputId": "9975be4b-fb4f-466e-fc93-f4325ab97f46"
      },
      "outputs": [
        {
          "output_type": "stream",
          "name": "stdout",
          "text": [
            "Collecting ydata-profiling\n",
            "  Downloading ydata_profiling-4.9.0-py2.py3-none-any.whl.metadata (20 kB)\n",
            "Requirement already satisfied: scipy<1.14,>=1.4.1 in /usr/local/lib/python3.10/dist-packages (from ydata-profiling) (1.13.1)\n",
            "Requirement already satisfied: pandas!=1.4.0,<3,>1.1 in /usr/local/lib/python3.10/dist-packages (from ydata-profiling) (2.1.4)\n",
            "Requirement already satisfied: matplotlib<3.10,>=3.5 in /usr/local/lib/python3.10/dist-packages (from ydata-profiling) (3.7.1)\n",
            "Requirement already satisfied: pydantic>=2 in /usr/local/lib/python3.10/dist-packages (from ydata-profiling) (2.8.2)\n",
            "Requirement already satisfied: PyYAML<6.1,>=5.0.0 in /usr/local/lib/python3.10/dist-packages (from ydata-profiling) (6.0.2)\n",
            "Requirement already satisfied: jinja2<3.2,>=2.11.1 in /usr/local/lib/python3.10/dist-packages (from ydata-profiling) (3.1.4)\n",
            "Collecting visions<0.7.7,>=0.7.5 (from visions[type_image_path]<0.7.7,>=0.7.5->ydata-profiling)\n",
            "  Downloading visions-0.7.6-py3-none-any.whl.metadata (11 kB)\n",
            "Requirement already satisfied: numpy<2,>=1.16.0 in /usr/local/lib/python3.10/dist-packages (from ydata-profiling) (1.26.4)\n",
            "Collecting htmlmin==0.1.12 (from ydata-profiling)\n",
            "  Downloading htmlmin-0.1.12.tar.gz (19 kB)\n",
            "  Preparing metadata (setup.py) ... \u001b[?25l\u001b[?25hdone\n",
            "Collecting phik<0.13,>=0.11.1 (from ydata-profiling)\n",
            "  Downloading phik-0.12.4-cp310-cp310-manylinux_2_17_x86_64.manylinux2014_x86_64.whl.metadata (5.6 kB)\n",
            "Requirement already satisfied: requests<3,>=2.24.0 in /usr/local/lib/python3.10/dist-packages (from ydata-profiling) (2.32.3)\n",
            "Requirement already satisfied: tqdm<5,>=4.48.2 in /usr/local/lib/python3.10/dist-packages (from ydata-profiling) (4.66.5)\n",
            "Requirement already satisfied: seaborn<0.14,>=0.10.1 in /usr/local/lib/python3.10/dist-packages (from ydata-profiling) (0.13.1)\n",
            "Collecting multimethod<2,>=1.4 (from ydata-profiling)\n",
            "  Downloading multimethod-1.12-py3-none-any.whl.metadata (9.6 kB)\n",
            "Requirement already satisfied: statsmodels<1,>=0.13.2 in /usr/local/lib/python3.10/dist-packages (from ydata-profiling) (0.14.2)\n",
            "Requirement already satisfied: typeguard<5,>=3 in /usr/local/lib/python3.10/dist-packages (from ydata-profiling) (4.3.0)\n",
            "Collecting imagehash==4.3.1 (from ydata-profiling)\n",
            "  Downloading ImageHash-4.3.1-py2.py3-none-any.whl.metadata (8.0 kB)\n",
            "Requirement already satisfied: wordcloud>=1.9.1 in /usr/local/lib/python3.10/dist-packages (from ydata-profiling) (1.9.3)\n",
            "Collecting dacite>=1.8 (from ydata-profiling)\n",
            "  Downloading dacite-1.8.1-py3-none-any.whl.metadata (15 kB)\n",
            "Requirement already satisfied: numba<1,>=0.56.0 in /usr/local/lib/python3.10/dist-packages (from ydata-profiling) (0.60.0)\n",
            "Collecting PyWavelets (from imagehash==4.3.1->ydata-profiling)\n",
            "  Downloading pywavelets-1.7.0-cp310-cp310-manylinux_2_17_x86_64.manylinux2014_x86_64.whl.metadata (9.0 kB)\n",
            "Requirement already satisfied: pillow in /usr/local/lib/python3.10/dist-packages (from imagehash==4.3.1->ydata-profiling) (9.4.0)\n",
            "Requirement already satisfied: MarkupSafe>=2.0 in /usr/local/lib/python3.10/dist-packages (from jinja2<3.2,>=2.11.1->ydata-profiling) (2.1.5)\n",
            "Requirement already satisfied: contourpy>=1.0.1 in /usr/local/lib/python3.10/dist-packages (from matplotlib<3.10,>=3.5->ydata-profiling) (1.2.1)\n",
            "Requirement already satisfied: cycler>=0.10 in /usr/local/lib/python3.10/dist-packages (from matplotlib<3.10,>=3.5->ydata-profiling) (0.12.1)\n",
            "Requirement already satisfied: fonttools>=4.22.0 in /usr/local/lib/python3.10/dist-packages (from matplotlib<3.10,>=3.5->ydata-profiling) (4.53.1)\n",
            "Requirement already satisfied: kiwisolver>=1.0.1 in /usr/local/lib/python3.10/dist-packages (from matplotlib<3.10,>=3.5->ydata-profiling) (1.4.5)\n",
            "Requirement already satisfied: packaging>=20.0 in /usr/local/lib/python3.10/dist-packages (from matplotlib<3.10,>=3.5->ydata-profiling) (24.1)\n",
            "Requirement already satisfied: pyparsing>=2.3.1 in /usr/local/lib/python3.10/dist-packages (from matplotlib<3.10,>=3.5->ydata-profiling) (3.1.2)\n",
            "Requirement already satisfied: python-dateutil>=2.7 in /usr/local/lib/python3.10/dist-packages (from matplotlib<3.10,>=3.5->ydata-profiling) (2.8.2)\n",
            "Requirement already satisfied: llvmlite<0.44,>=0.43.0dev0 in /usr/local/lib/python3.10/dist-packages (from numba<1,>=0.56.0->ydata-profiling) (0.43.0)\n",
            "Requirement already satisfied: pytz>=2020.1 in /usr/local/lib/python3.10/dist-packages (from pandas!=1.4.0,<3,>1.1->ydata-profiling) (2024.1)\n",
            "Requirement already satisfied: tzdata>=2022.1 in /usr/local/lib/python3.10/dist-packages (from pandas!=1.4.0,<3,>1.1->ydata-profiling) (2024.1)\n",
            "Requirement already satisfied: joblib>=0.14.1 in /usr/local/lib/python3.10/dist-packages (from phik<0.13,>=0.11.1->ydata-profiling) (1.4.2)\n",
            "Requirement already satisfied: annotated-types>=0.4.0 in /usr/local/lib/python3.10/dist-packages (from pydantic>=2->ydata-profiling) (0.7.0)\n",
            "Requirement already satisfied: pydantic-core==2.20.1 in /usr/local/lib/python3.10/dist-packages (from pydantic>=2->ydata-profiling) (2.20.1)\n",
            "Requirement already satisfied: typing-extensions>=4.6.1 in /usr/local/lib/python3.10/dist-packages (from pydantic>=2->ydata-profiling) (4.12.2)\n",
            "Requirement already satisfied: charset-normalizer<4,>=2 in /usr/local/lib/python3.10/dist-packages (from requests<3,>=2.24.0->ydata-profiling) (3.3.2)\n",
            "Requirement already satisfied: idna<4,>=2.5 in /usr/local/lib/python3.10/dist-packages (from requests<3,>=2.24.0->ydata-profiling) (3.7)\n",
            "Requirement already satisfied: urllib3<3,>=1.21.1 in /usr/local/lib/python3.10/dist-packages (from requests<3,>=2.24.0->ydata-profiling) (2.0.7)\n",
            "Requirement already satisfied: certifi>=2017.4.17 in /usr/local/lib/python3.10/dist-packages (from requests<3,>=2.24.0->ydata-profiling) (2024.7.4)\n",
            "Requirement already satisfied: patsy>=0.5.6 in /usr/local/lib/python3.10/dist-packages (from statsmodels<1,>=0.13.2->ydata-profiling) (0.5.6)\n",
            "Requirement already satisfied: attrs>=19.3.0 in /usr/local/lib/python3.10/dist-packages (from visions<0.7.7,>=0.7.5->visions[type_image_path]<0.7.7,>=0.7.5->ydata-profiling) (24.2.0)\n",
            "Requirement already satisfied: networkx>=2.4 in /usr/local/lib/python3.10/dist-packages (from visions<0.7.7,>=0.7.5->visions[type_image_path]<0.7.7,>=0.7.5->ydata-profiling) (3.3)\n",
            "Requirement already satisfied: six in /usr/local/lib/python3.10/dist-packages (from patsy>=0.5.6->statsmodels<1,>=0.13.2->ydata-profiling) (1.16.0)\n",
            "Downloading ydata_profiling-4.9.0-py2.py3-none-any.whl (356 kB)\n",
            "\u001b[2K   \u001b[90m━━━━━━━━━━━━━━━━━━━━━━━━━━━━━━━━━━━━━━━━\u001b[0m \u001b[32m356.2/356.2 kB\u001b[0m \u001b[31m6.5 MB/s\u001b[0m eta \u001b[36m0:00:00\u001b[0m\n",
            "\u001b[?25hDownloading ImageHash-4.3.1-py2.py3-none-any.whl (296 kB)\n",
            "\u001b[2K   \u001b[90m━━━━━━━━━━━━━━━━━━━━━━━━━━━━━━━━━━━━━━━━\u001b[0m \u001b[32m296.5/296.5 kB\u001b[0m \u001b[31m5.8 MB/s\u001b[0m eta \u001b[36m0:00:00\u001b[0m\n",
            "\u001b[?25hDownloading dacite-1.8.1-py3-none-any.whl (14 kB)\n",
            "Downloading multimethod-1.12-py3-none-any.whl (10 kB)\n",
            "Downloading phik-0.12.4-cp310-cp310-manylinux_2_17_x86_64.manylinux2014_x86_64.whl (686 kB)\n",
            "\u001b[2K   \u001b[90m━━━━━━━━━━━━━━━━━━━━━━━━━━━━━━━━━━━━━━━━\u001b[0m \u001b[32m686.1/686.1 kB\u001b[0m \u001b[31m13.9 MB/s\u001b[0m eta \u001b[36m0:00:00\u001b[0m\n",
            "\u001b[?25hDownloading visions-0.7.6-py3-none-any.whl (104 kB)\n",
            "\u001b[2K   \u001b[90m━━━━━━━━━━━━━━━━━━━━━━━━━━━━━━━━━━━━━━━━\u001b[0m \u001b[32m104.8/104.8 kB\u001b[0m \u001b[31m3.7 MB/s\u001b[0m eta \u001b[36m0:00:00\u001b[0m\n",
            "\u001b[?25hDownloading pywavelets-1.7.0-cp310-cp310-manylinux_2_17_x86_64.manylinux2014_x86_64.whl (4.5 MB)\n",
            "\u001b[2K   \u001b[90m━━━━━━━━━━━━━━━━━━━━━━━━━━━━━━━━━━━━━━━━\u001b[0m \u001b[32m4.5/4.5 MB\u001b[0m \u001b[31m18.9 MB/s\u001b[0m eta \u001b[36m0:00:00\u001b[0m\n",
            "\u001b[?25hBuilding wheels for collected packages: htmlmin\n",
            "  Building wheel for htmlmin (setup.py) ... \u001b[?25l\u001b[?25hdone\n",
            "  Created wheel for htmlmin: filename=htmlmin-0.1.12-py3-none-any.whl size=27081 sha256=dca6c70ed3652aa71e7f972dae05496ea5ced37e763db6f6eaafb10da4edea47\n",
            "  Stored in directory: /root/.cache/pip/wheels/dd/91/29/a79cecb328d01739e64017b6fb9a1ab9d8cb1853098ec5966d\n",
            "Successfully built htmlmin\n",
            "Installing collected packages: htmlmin, PyWavelets, multimethod, dacite, imagehash, visions, phik, ydata-profiling\n",
            "Successfully installed PyWavelets-1.7.0 dacite-1.8.1 htmlmin-0.1.12 imagehash-4.3.1 multimethod-1.12 phik-0.12.4 visions-0.7.6 ydata-profiling-4.9.0\n"
          ]
        }
      ],
      "source": [
        "!pip install ydata-profiling\n",
        "\n",
        "import pathlib\n",
        "import datetime\n",
        "import seaborn as sns\n",
        "import matplotlib.pyplot as plt\n",
        "import geopandas as gpd\n",
        "import os\n",
        "import numpy as np\n",
        "import pandas as pd\n",
        "import sklearn\n",
        "import pickle\n",
        "import plotly.express as px\n",
        "import plotly.graph_objects as go\n",
        "import xgboost as xgb\n",
        "\n",
        "from scipy import stats as sm\n",
        "from IPython.display import Image\n",
        "from graphviz import Source\n",
        "from sklearn.model_selection import train_test_split\n",
        "from sklearn.metrics import confusion_matrix, classification_report, mean_squared_error, r2_score, accuracy_score, average_precision_score, f1_score, precision_score\n",
        "from sklearn.preprocessing import StandardScaler, MinMaxScaler, LabelEncoder, OneHotEncoder\n",
        "from sklearn.pipeline import Pipeline\n",
        "from sklearn.feature_extraction.text import CountVectorizer\n",
        "from urllib.request import urlopen\n",
        "from io import BytesIO\n",
        "from zipfile import ZipFile\n",
        "from ydata_profiling import ProfileReport\n",
        "from tabulate import tabulate\n",
        "from time import sleep\n",
        "\n",
        "%matplotlib inline"
      ]
    },
    {
      "cell_type": "code",
      "source": [
        "'''from google.colab import drive\n",
        "drive.mount('/content/drive') #'''"
      ],
      "metadata": {
        "id": "DKQdkJBZN7Oy",
        "colab": {
          "base_uri": "https://localhost:8080/",
          "height": 36
        },
        "outputId": "39050761-88e2-46fd-d404-9db0cef4f25e"
      },
      "execution_count": 2,
      "outputs": [
        {
          "output_type": "execute_result",
          "data": {
            "text/plain": [
              "\"from google.colab import drive\\ndrive.mount('/content/drive') #\""
            ],
            "application/vnd.google.colaboratory.intrinsic+json": {
              "type": "string"
            }
          },
          "metadata": {},
          "execution_count": 2
        }
      ]
    },
    {
      "cell_type": "code",
      "source": [
        "'''MAIN_PATH = str(pathlib.Path().resolve())\n",
        "WORK_PATH = MAIN_PATH + '/drive/MyDrive/Workspace'\n",
        "SOURCE_PATH = WORK_PATH + '/00_Data_Source'\n",
        "CACHE_PATH = WORK_PATH + '/00_Cache_Data' #'''"
      ],
      "metadata": {
        "id": "0Tm7yrNoN8-P",
        "colab": {
          "base_uri": "https://localhost:8080/",
          "height": 36
        },
        "outputId": "eafd3186-ec87-414c-e2bb-3ebb71979908"
      },
      "execution_count": 3,
      "outputs": [
        {
          "output_type": "execute_result",
          "data": {
            "text/plain": [
              "\"MAIN_PATH = str(pathlib.Path().resolve())\\nWORK_PATH = MAIN_PATH + '/drive/MyDrive/Workspace'\\nSOURCE_PATH = WORK_PATH + '/00_Data_Source'\\nCACHE_PATH = WORK_PATH + '/00_Cache_Data' #\""
            ],
            "application/vnd.google.colaboratory.intrinsic+json": {
              "type": "string"
            }
          },
          "metadata": {},
          "execution_count": 3
        }
      ]
    },
    {
      "cell_type": "markdown",
      "metadata": {
        "id": "0PL56c4YuH6y"
      },
      "source": [
        "## 01 Choosing & Importing Dataset"
      ]
    },
    {
      "cell_type": "markdown",
      "source": [
        "### 01.00 Importing Data from Zipfile"
      ],
      "metadata": {
        "id": "AES29-R3JUni"
      }
    },
    {
      "cell_type": "code",
      "source": [
        "'''filename = 'Diseases_And_Symptoms.zip' # replace this\n",
        "\n",
        "url = 'https://github.com/azzindani/00_Data_Source/raw/main/'+ filename\n",
        "http_response = urlopen(url)\n",
        "zipfile = ZipFile(BytesIO(http_response.read()))\n",
        "zipfile.extractall() #'''"
      ],
      "metadata": {
        "id": "OAO1VzbHJcuB",
        "colab": {
          "base_uri": "https://localhost:8080/",
          "height": 55
        },
        "outputId": "11513b65-2085-4a1f-adc2-619d7a4539fe"
      },
      "execution_count": 4,
      "outputs": [
        {
          "output_type": "execute_result",
          "data": {
            "text/plain": [
              "\"filename = 'Diseases_And_Symptoms.zip' # replace this\\n\\nurl = 'https://github.com/azzindani/00_Data_Source/raw/main/'+ filename\\nhttp_response = urlopen(url)\\nzipfile = ZipFile(BytesIO(http_response.read()))\\nzipfile.extractall() #\""
            ],
            "application/vnd.google.colaboratory.intrinsic+json": {
              "type": "string"
            }
          },
          "metadata": {},
          "execution_count": 4
        }
      ]
    },
    {
      "cell_type": "code",
      "source": [
        "os.listdir()"
      ],
      "metadata": {
        "id": "-hapLbZ9YU_h",
        "colab": {
          "base_uri": "https://localhost:8080/"
        },
        "outputId": "7f6c87db-4090-4e3a-898f-69d535a38b28"
      },
      "execution_count": 5,
      "outputs": [
        {
          "output_type": "execute_result",
          "data": {
            "text/plain": [
              "['.config', 'sample_data']"
            ]
          },
          "metadata": {},
          "execution_count": 5
        }
      ]
    },
    {
      "cell_type": "code",
      "source": [
        "'''df = pd.read_csv(os.listdir()[1], encoding = 'ISO-8859-1')#, sep = ';')\n",
        "df.shape #'''"
      ],
      "metadata": {
        "id": "j5BLnZR1Z_hQ",
        "colab": {
          "base_uri": "https://localhost:8080/",
          "height": 36
        },
        "outputId": "3d079b0c-40e7-4c21-ee45-1eda17483218"
      },
      "execution_count": 6,
      "outputs": [
        {
          "output_type": "execute_result",
          "data": {
            "text/plain": [
              "\"df = pd.read_csv(os.listdir()[1], encoding = 'ISO-8859-1')#, sep = ';')\\ndf.shape #\""
            ],
            "application/vnd.google.colaboratory.intrinsic+json": {
              "type": "string"
            }
          },
          "metadata": {},
          "execution_count": 6
        }
      ]
    },
    {
      "cell_type": "markdown",
      "metadata": {
        "id": "IqJI4S_NNrVf"
      },
      "source": [
        "### 01.01 Importing Main Data"
      ]
    },
    {
      "cell_type": "code",
      "execution_count": 7,
      "metadata": {
        "id": "XKZeeC_yuomA",
        "colab": {
          "base_uri": "https://localhost:8080/"
        },
        "outputId": "4989d220-14bb-4c0e-d078-c0bb5cbecd3d"
      },
      "outputs": [
        {
          "output_type": "execute_result",
          "data": {
            "text/plain": [
              "(10000, 50)"
            ]
          },
          "metadata": {},
          "execution_count": 7
        }
      ],
      "source": [
        "filename = 'Phishing_Legitimate.csv' # replace this\n",
        "\n",
        "url = 'https://github.com/azzindani/00_Data_Source/raw/main/'+ filename\n",
        "df = pd.read_csv(url, encoding = 'ISO-8859-1')#, sep = ';')\n",
        "df.shape #'''"
      ]
    },
    {
      "cell_type": "code",
      "execution_count": 8,
      "metadata": {
        "id": "KbzzoKIj2iUB",
        "colab": {
          "base_uri": "https://localhost:8080/",
          "height": 1000
        },
        "outputId": "9a49c40f-85d6-4294-a006-08a2cf282986"
      },
      "outputs": [
        {
          "output_type": "execute_result",
          "data": {
            "text/plain": [
              "id                                    10000\n",
              "NumDots                                  17\n",
              "SubdomainLevel                           13\n",
              "PathLevel                                18\n",
              "UrlLength                               226\n",
              "NumDash                                  25\n",
              "NumDashInHostname                        10\n",
              "AtSymbol                                  2\n",
              "TildeSymbol                               2\n",
              "NumUnderscore                            16\n",
              "NumPercent                               14\n",
              "NumQueryComponents                       19\n",
              "NumAmpersand                             16\n",
              "NumHash                                   2\n",
              "NumNumericChars                          82\n",
              "NoHttps                                   2\n",
              "RandomString                              2\n",
              "IpAddress                                 2\n",
              "DomainInSubdomains                        2\n",
              "DomainInPaths                             2\n",
              "HttpsInHostname                           1\n",
              "HostnameLength                           74\n",
              "PathLength                              147\n",
              "QueryLength                             164\n",
              "DoubleSlashInPath                         2\n",
              "NumSensitiveWords                         4\n",
              "EmbeddedBrandName                         2\n",
              "PctExtHyperlinks                       2510\n",
              "PctExtResourceUrls                     1489\n",
              "ExtFavicon                                2\n",
              "InsecureForms                             2\n",
              "RelativeFormAction                        2\n",
              "ExtFormAction                             2\n",
              "AbnormalFormAction                        2\n",
              "PctNullSelfRedirectHyperlinks          1311\n",
              "FrequentDomainNameMismatch                2\n",
              "FakeLinkInStatusBar                       2\n",
              "RightClickDisabled                        2\n",
              "PopUpWindow                               2\n",
              "SubmitInfoToEmail                         2\n",
              "IframeOrFrame                             2\n",
              "MissingTitle                              2\n",
              "ImagesOnlyInForm                          2\n",
              "SubdomainLevelRT                          3\n",
              "UrlLengthRT                               3\n",
              "PctExtResourceUrlsRT                      3\n",
              "AbnormalExtFormActionR                    3\n",
              "ExtMetaScriptLinkRT                       3\n",
              "PctExtNullSelfRedirectHyperlinksRT        3\n",
              "CLASS_LABEL                               2\n",
              "dtype: int64"
            ],
            "text/html": [
              "<div>\n",
              "<style scoped>\n",
              "    .dataframe tbody tr th:only-of-type {\n",
              "        vertical-align: middle;\n",
              "    }\n",
              "\n",
              "    .dataframe tbody tr th {\n",
              "        vertical-align: top;\n",
              "    }\n",
              "\n",
              "    .dataframe thead th {\n",
              "        text-align: right;\n",
              "    }\n",
              "</style>\n",
              "<table border=\"1\" class=\"dataframe\">\n",
              "  <thead>\n",
              "    <tr style=\"text-align: right;\">\n",
              "      <th></th>\n",
              "      <th>0</th>\n",
              "    </tr>\n",
              "  </thead>\n",
              "  <tbody>\n",
              "    <tr>\n",
              "      <th>id</th>\n",
              "      <td>10000</td>\n",
              "    </tr>\n",
              "    <tr>\n",
              "      <th>NumDots</th>\n",
              "      <td>17</td>\n",
              "    </tr>\n",
              "    <tr>\n",
              "      <th>SubdomainLevel</th>\n",
              "      <td>13</td>\n",
              "    </tr>\n",
              "    <tr>\n",
              "      <th>PathLevel</th>\n",
              "      <td>18</td>\n",
              "    </tr>\n",
              "    <tr>\n",
              "      <th>UrlLength</th>\n",
              "      <td>226</td>\n",
              "    </tr>\n",
              "    <tr>\n",
              "      <th>NumDash</th>\n",
              "      <td>25</td>\n",
              "    </tr>\n",
              "    <tr>\n",
              "      <th>NumDashInHostname</th>\n",
              "      <td>10</td>\n",
              "    </tr>\n",
              "    <tr>\n",
              "      <th>AtSymbol</th>\n",
              "      <td>2</td>\n",
              "    </tr>\n",
              "    <tr>\n",
              "      <th>TildeSymbol</th>\n",
              "      <td>2</td>\n",
              "    </tr>\n",
              "    <tr>\n",
              "      <th>NumUnderscore</th>\n",
              "      <td>16</td>\n",
              "    </tr>\n",
              "    <tr>\n",
              "      <th>NumPercent</th>\n",
              "      <td>14</td>\n",
              "    </tr>\n",
              "    <tr>\n",
              "      <th>NumQueryComponents</th>\n",
              "      <td>19</td>\n",
              "    </tr>\n",
              "    <tr>\n",
              "      <th>NumAmpersand</th>\n",
              "      <td>16</td>\n",
              "    </tr>\n",
              "    <tr>\n",
              "      <th>NumHash</th>\n",
              "      <td>2</td>\n",
              "    </tr>\n",
              "    <tr>\n",
              "      <th>NumNumericChars</th>\n",
              "      <td>82</td>\n",
              "    </tr>\n",
              "    <tr>\n",
              "      <th>NoHttps</th>\n",
              "      <td>2</td>\n",
              "    </tr>\n",
              "    <tr>\n",
              "      <th>RandomString</th>\n",
              "      <td>2</td>\n",
              "    </tr>\n",
              "    <tr>\n",
              "      <th>IpAddress</th>\n",
              "      <td>2</td>\n",
              "    </tr>\n",
              "    <tr>\n",
              "      <th>DomainInSubdomains</th>\n",
              "      <td>2</td>\n",
              "    </tr>\n",
              "    <tr>\n",
              "      <th>DomainInPaths</th>\n",
              "      <td>2</td>\n",
              "    </tr>\n",
              "    <tr>\n",
              "      <th>HttpsInHostname</th>\n",
              "      <td>1</td>\n",
              "    </tr>\n",
              "    <tr>\n",
              "      <th>HostnameLength</th>\n",
              "      <td>74</td>\n",
              "    </tr>\n",
              "    <tr>\n",
              "      <th>PathLength</th>\n",
              "      <td>147</td>\n",
              "    </tr>\n",
              "    <tr>\n",
              "      <th>QueryLength</th>\n",
              "      <td>164</td>\n",
              "    </tr>\n",
              "    <tr>\n",
              "      <th>DoubleSlashInPath</th>\n",
              "      <td>2</td>\n",
              "    </tr>\n",
              "    <tr>\n",
              "      <th>NumSensitiveWords</th>\n",
              "      <td>4</td>\n",
              "    </tr>\n",
              "    <tr>\n",
              "      <th>EmbeddedBrandName</th>\n",
              "      <td>2</td>\n",
              "    </tr>\n",
              "    <tr>\n",
              "      <th>PctExtHyperlinks</th>\n",
              "      <td>2510</td>\n",
              "    </tr>\n",
              "    <tr>\n",
              "      <th>PctExtResourceUrls</th>\n",
              "      <td>1489</td>\n",
              "    </tr>\n",
              "    <tr>\n",
              "      <th>ExtFavicon</th>\n",
              "      <td>2</td>\n",
              "    </tr>\n",
              "    <tr>\n",
              "      <th>InsecureForms</th>\n",
              "      <td>2</td>\n",
              "    </tr>\n",
              "    <tr>\n",
              "      <th>RelativeFormAction</th>\n",
              "      <td>2</td>\n",
              "    </tr>\n",
              "    <tr>\n",
              "      <th>ExtFormAction</th>\n",
              "      <td>2</td>\n",
              "    </tr>\n",
              "    <tr>\n",
              "      <th>AbnormalFormAction</th>\n",
              "      <td>2</td>\n",
              "    </tr>\n",
              "    <tr>\n",
              "      <th>PctNullSelfRedirectHyperlinks</th>\n",
              "      <td>1311</td>\n",
              "    </tr>\n",
              "    <tr>\n",
              "      <th>FrequentDomainNameMismatch</th>\n",
              "      <td>2</td>\n",
              "    </tr>\n",
              "    <tr>\n",
              "      <th>FakeLinkInStatusBar</th>\n",
              "      <td>2</td>\n",
              "    </tr>\n",
              "    <tr>\n",
              "      <th>RightClickDisabled</th>\n",
              "      <td>2</td>\n",
              "    </tr>\n",
              "    <tr>\n",
              "      <th>PopUpWindow</th>\n",
              "      <td>2</td>\n",
              "    </tr>\n",
              "    <tr>\n",
              "      <th>SubmitInfoToEmail</th>\n",
              "      <td>2</td>\n",
              "    </tr>\n",
              "    <tr>\n",
              "      <th>IframeOrFrame</th>\n",
              "      <td>2</td>\n",
              "    </tr>\n",
              "    <tr>\n",
              "      <th>MissingTitle</th>\n",
              "      <td>2</td>\n",
              "    </tr>\n",
              "    <tr>\n",
              "      <th>ImagesOnlyInForm</th>\n",
              "      <td>2</td>\n",
              "    </tr>\n",
              "    <tr>\n",
              "      <th>SubdomainLevelRT</th>\n",
              "      <td>3</td>\n",
              "    </tr>\n",
              "    <tr>\n",
              "      <th>UrlLengthRT</th>\n",
              "      <td>3</td>\n",
              "    </tr>\n",
              "    <tr>\n",
              "      <th>PctExtResourceUrlsRT</th>\n",
              "      <td>3</td>\n",
              "    </tr>\n",
              "    <tr>\n",
              "      <th>AbnormalExtFormActionR</th>\n",
              "      <td>3</td>\n",
              "    </tr>\n",
              "    <tr>\n",
              "      <th>ExtMetaScriptLinkRT</th>\n",
              "      <td>3</td>\n",
              "    </tr>\n",
              "    <tr>\n",
              "      <th>PctExtNullSelfRedirectHyperlinksRT</th>\n",
              "      <td>3</td>\n",
              "    </tr>\n",
              "    <tr>\n",
              "      <th>CLASS_LABEL</th>\n",
              "      <td>2</td>\n",
              "    </tr>\n",
              "  </tbody>\n",
              "</table>\n",
              "</div><br><label><b>dtype:</b> int64</label>"
            ]
          },
          "metadata": {},
          "execution_count": 8
        }
      ],
      "source": [
        "df.nunique()"
      ]
    },
    {
      "cell_type": "code",
      "execution_count": 9,
      "metadata": {
        "id": "St-0d98v2Myk",
        "colab": {
          "base_uri": "https://localhost:8080/",
          "height": 161
        },
        "outputId": "fce8a586-5d5f-42bb-98e6-03705cae094e"
      },
      "outputs": [
        {
          "output_type": "execute_result",
          "data": {
            "text/plain": [
              "   id  NumDots  SubdomainLevel  PathLevel  UrlLength  NumDash  \\\n",
              "0   1        3               1          5         72        0   \n",
              "1   2        3               1          3        144        0   \n",
              "\n",
              "   NumDashInHostname  AtSymbol  TildeSymbol  NumUnderscore  ...  \\\n",
              "0                  0         0            0              0  ...   \n",
              "1                  0         0            0              2  ...   \n",
              "\n",
              "   IframeOrFrame  MissingTitle  ImagesOnlyInForm  SubdomainLevelRT  \\\n",
              "0              0             0                 1                 1   \n",
              "1              0             0                 0                 1   \n",
              "\n",
              "   UrlLengthRT  PctExtResourceUrlsRT  AbnormalExtFormActionR  \\\n",
              "0            0                     1                       1   \n",
              "1           -1                     1                       1   \n",
              "\n",
              "   ExtMetaScriptLinkRT  PctExtNullSelfRedirectHyperlinksRT  CLASS_LABEL  \n",
              "0                   -1                                   1            1  \n",
              "1                    1                                   1            1  \n",
              "\n",
              "[2 rows x 50 columns]"
            ],
            "text/html": [
              "\n",
              "  <div id=\"df-404f58e6-e394-45fd-af00-3b6b7f0a9cbf\" class=\"colab-df-container\">\n",
              "    <div>\n",
              "<style scoped>\n",
              "    .dataframe tbody tr th:only-of-type {\n",
              "        vertical-align: middle;\n",
              "    }\n",
              "\n",
              "    .dataframe tbody tr th {\n",
              "        vertical-align: top;\n",
              "    }\n",
              "\n",
              "    .dataframe thead th {\n",
              "        text-align: right;\n",
              "    }\n",
              "</style>\n",
              "<table border=\"1\" class=\"dataframe\">\n",
              "  <thead>\n",
              "    <tr style=\"text-align: right;\">\n",
              "      <th></th>\n",
              "      <th>id</th>\n",
              "      <th>NumDots</th>\n",
              "      <th>SubdomainLevel</th>\n",
              "      <th>PathLevel</th>\n",
              "      <th>UrlLength</th>\n",
              "      <th>NumDash</th>\n",
              "      <th>NumDashInHostname</th>\n",
              "      <th>AtSymbol</th>\n",
              "      <th>TildeSymbol</th>\n",
              "      <th>NumUnderscore</th>\n",
              "      <th>...</th>\n",
              "      <th>IframeOrFrame</th>\n",
              "      <th>MissingTitle</th>\n",
              "      <th>ImagesOnlyInForm</th>\n",
              "      <th>SubdomainLevelRT</th>\n",
              "      <th>UrlLengthRT</th>\n",
              "      <th>PctExtResourceUrlsRT</th>\n",
              "      <th>AbnormalExtFormActionR</th>\n",
              "      <th>ExtMetaScriptLinkRT</th>\n",
              "      <th>PctExtNullSelfRedirectHyperlinksRT</th>\n",
              "      <th>CLASS_LABEL</th>\n",
              "    </tr>\n",
              "  </thead>\n",
              "  <tbody>\n",
              "    <tr>\n",
              "      <th>0</th>\n",
              "      <td>1</td>\n",
              "      <td>3</td>\n",
              "      <td>1</td>\n",
              "      <td>5</td>\n",
              "      <td>72</td>\n",
              "      <td>0</td>\n",
              "      <td>0</td>\n",
              "      <td>0</td>\n",
              "      <td>0</td>\n",
              "      <td>0</td>\n",
              "      <td>...</td>\n",
              "      <td>0</td>\n",
              "      <td>0</td>\n",
              "      <td>1</td>\n",
              "      <td>1</td>\n",
              "      <td>0</td>\n",
              "      <td>1</td>\n",
              "      <td>1</td>\n",
              "      <td>-1</td>\n",
              "      <td>1</td>\n",
              "      <td>1</td>\n",
              "    </tr>\n",
              "    <tr>\n",
              "      <th>1</th>\n",
              "      <td>2</td>\n",
              "      <td>3</td>\n",
              "      <td>1</td>\n",
              "      <td>3</td>\n",
              "      <td>144</td>\n",
              "      <td>0</td>\n",
              "      <td>0</td>\n",
              "      <td>0</td>\n",
              "      <td>0</td>\n",
              "      <td>2</td>\n",
              "      <td>...</td>\n",
              "      <td>0</td>\n",
              "      <td>0</td>\n",
              "      <td>0</td>\n",
              "      <td>1</td>\n",
              "      <td>-1</td>\n",
              "      <td>1</td>\n",
              "      <td>1</td>\n",
              "      <td>1</td>\n",
              "      <td>1</td>\n",
              "      <td>1</td>\n",
              "    </tr>\n",
              "  </tbody>\n",
              "</table>\n",
              "<p>2 rows × 50 columns</p>\n",
              "</div>\n",
              "    <div class=\"colab-df-buttons\">\n",
              "\n",
              "  <div class=\"colab-df-container\">\n",
              "    <button class=\"colab-df-convert\" onclick=\"convertToInteractive('df-404f58e6-e394-45fd-af00-3b6b7f0a9cbf')\"\n",
              "            title=\"Convert this dataframe to an interactive table.\"\n",
              "            style=\"display:none;\">\n",
              "\n",
              "  <svg xmlns=\"http://www.w3.org/2000/svg\" height=\"24px\" viewBox=\"0 -960 960 960\">\n",
              "    <path d=\"M120-120v-720h720v720H120Zm60-500h600v-160H180v160Zm220 220h160v-160H400v160Zm0 220h160v-160H400v160ZM180-400h160v-160H180v160Zm440 0h160v-160H620v160ZM180-180h160v-160H180v160Zm440 0h160v-160H620v160Z\"/>\n",
              "  </svg>\n",
              "    </button>\n",
              "\n",
              "  <style>\n",
              "    .colab-df-container {\n",
              "      display:flex;\n",
              "      gap: 12px;\n",
              "    }\n",
              "\n",
              "    .colab-df-convert {\n",
              "      background-color: #E8F0FE;\n",
              "      border: none;\n",
              "      border-radius: 50%;\n",
              "      cursor: pointer;\n",
              "      display: none;\n",
              "      fill: #1967D2;\n",
              "      height: 32px;\n",
              "      padding: 0 0 0 0;\n",
              "      width: 32px;\n",
              "    }\n",
              "\n",
              "    .colab-df-convert:hover {\n",
              "      background-color: #E2EBFA;\n",
              "      box-shadow: 0px 1px 2px rgba(60, 64, 67, 0.3), 0px 1px 3px 1px rgba(60, 64, 67, 0.15);\n",
              "      fill: #174EA6;\n",
              "    }\n",
              "\n",
              "    .colab-df-buttons div {\n",
              "      margin-bottom: 4px;\n",
              "    }\n",
              "\n",
              "    [theme=dark] .colab-df-convert {\n",
              "      background-color: #3B4455;\n",
              "      fill: #D2E3FC;\n",
              "    }\n",
              "\n",
              "    [theme=dark] .colab-df-convert:hover {\n",
              "      background-color: #434B5C;\n",
              "      box-shadow: 0px 1px 3px 1px rgba(0, 0, 0, 0.15);\n",
              "      filter: drop-shadow(0px 1px 2px rgba(0, 0, 0, 0.3));\n",
              "      fill: #FFFFFF;\n",
              "    }\n",
              "  </style>\n",
              "\n",
              "    <script>\n",
              "      const buttonEl =\n",
              "        document.querySelector('#df-404f58e6-e394-45fd-af00-3b6b7f0a9cbf button.colab-df-convert');\n",
              "      buttonEl.style.display =\n",
              "        google.colab.kernel.accessAllowed ? 'block' : 'none';\n",
              "\n",
              "      async function convertToInteractive(key) {\n",
              "        const element = document.querySelector('#df-404f58e6-e394-45fd-af00-3b6b7f0a9cbf');\n",
              "        const dataTable =\n",
              "          await google.colab.kernel.invokeFunction('convertToInteractive',\n",
              "                                                    [key], {});\n",
              "        if (!dataTable) return;\n",
              "\n",
              "        const docLinkHtml = 'Like what you see? Visit the ' +\n",
              "          '<a target=\"_blank\" href=https://colab.research.google.com/notebooks/data_table.ipynb>data table notebook</a>'\n",
              "          + ' to learn more about interactive tables.';\n",
              "        element.innerHTML = '';\n",
              "        dataTable['output_type'] = 'display_data';\n",
              "        await google.colab.output.renderOutput(dataTable, element);\n",
              "        const docLink = document.createElement('div');\n",
              "        docLink.innerHTML = docLinkHtml;\n",
              "        element.appendChild(docLink);\n",
              "      }\n",
              "    </script>\n",
              "  </div>\n",
              "\n",
              "\n",
              "<div id=\"df-570dd5c1-2a0c-4605-81f1-1707cf78d0db\">\n",
              "  <button class=\"colab-df-quickchart\" onclick=\"quickchart('df-570dd5c1-2a0c-4605-81f1-1707cf78d0db')\"\n",
              "            title=\"Suggest charts\"\n",
              "            style=\"display:none;\">\n",
              "\n",
              "<svg xmlns=\"http://www.w3.org/2000/svg\" height=\"24px\"viewBox=\"0 0 24 24\"\n",
              "     width=\"24px\">\n",
              "    <g>\n",
              "        <path d=\"M19 3H5c-1.1 0-2 .9-2 2v14c0 1.1.9 2 2 2h14c1.1 0 2-.9 2-2V5c0-1.1-.9-2-2-2zM9 17H7v-7h2v7zm4 0h-2V7h2v10zm4 0h-2v-4h2v4z\"/>\n",
              "    </g>\n",
              "</svg>\n",
              "  </button>\n",
              "\n",
              "<style>\n",
              "  .colab-df-quickchart {\n",
              "      --bg-color: #E8F0FE;\n",
              "      --fill-color: #1967D2;\n",
              "      --hover-bg-color: #E2EBFA;\n",
              "      --hover-fill-color: #174EA6;\n",
              "      --disabled-fill-color: #AAA;\n",
              "      --disabled-bg-color: #DDD;\n",
              "  }\n",
              "\n",
              "  [theme=dark] .colab-df-quickchart {\n",
              "      --bg-color: #3B4455;\n",
              "      --fill-color: #D2E3FC;\n",
              "      --hover-bg-color: #434B5C;\n",
              "      --hover-fill-color: #FFFFFF;\n",
              "      --disabled-bg-color: #3B4455;\n",
              "      --disabled-fill-color: #666;\n",
              "  }\n",
              "\n",
              "  .colab-df-quickchart {\n",
              "    background-color: var(--bg-color);\n",
              "    border: none;\n",
              "    border-radius: 50%;\n",
              "    cursor: pointer;\n",
              "    display: none;\n",
              "    fill: var(--fill-color);\n",
              "    height: 32px;\n",
              "    padding: 0;\n",
              "    width: 32px;\n",
              "  }\n",
              "\n",
              "  .colab-df-quickchart:hover {\n",
              "    background-color: var(--hover-bg-color);\n",
              "    box-shadow: 0 1px 2px rgba(60, 64, 67, 0.3), 0 1px 3px 1px rgba(60, 64, 67, 0.15);\n",
              "    fill: var(--button-hover-fill-color);\n",
              "  }\n",
              "\n",
              "  .colab-df-quickchart-complete:disabled,\n",
              "  .colab-df-quickchart-complete:disabled:hover {\n",
              "    background-color: var(--disabled-bg-color);\n",
              "    fill: var(--disabled-fill-color);\n",
              "    box-shadow: none;\n",
              "  }\n",
              "\n",
              "  .colab-df-spinner {\n",
              "    border: 2px solid var(--fill-color);\n",
              "    border-color: transparent;\n",
              "    border-bottom-color: var(--fill-color);\n",
              "    animation:\n",
              "      spin 1s steps(1) infinite;\n",
              "  }\n",
              "\n",
              "  @keyframes spin {\n",
              "    0% {\n",
              "      border-color: transparent;\n",
              "      border-bottom-color: var(--fill-color);\n",
              "      border-left-color: var(--fill-color);\n",
              "    }\n",
              "    20% {\n",
              "      border-color: transparent;\n",
              "      border-left-color: var(--fill-color);\n",
              "      border-top-color: var(--fill-color);\n",
              "    }\n",
              "    30% {\n",
              "      border-color: transparent;\n",
              "      border-left-color: var(--fill-color);\n",
              "      border-top-color: var(--fill-color);\n",
              "      border-right-color: var(--fill-color);\n",
              "    }\n",
              "    40% {\n",
              "      border-color: transparent;\n",
              "      border-right-color: var(--fill-color);\n",
              "      border-top-color: var(--fill-color);\n",
              "    }\n",
              "    60% {\n",
              "      border-color: transparent;\n",
              "      border-right-color: var(--fill-color);\n",
              "    }\n",
              "    80% {\n",
              "      border-color: transparent;\n",
              "      border-right-color: var(--fill-color);\n",
              "      border-bottom-color: var(--fill-color);\n",
              "    }\n",
              "    90% {\n",
              "      border-color: transparent;\n",
              "      border-bottom-color: var(--fill-color);\n",
              "    }\n",
              "  }\n",
              "</style>\n",
              "\n",
              "  <script>\n",
              "    async function quickchart(key) {\n",
              "      const quickchartButtonEl =\n",
              "        document.querySelector('#' + key + ' button');\n",
              "      quickchartButtonEl.disabled = true;  // To prevent multiple clicks.\n",
              "      quickchartButtonEl.classList.add('colab-df-spinner');\n",
              "      try {\n",
              "        const charts = await google.colab.kernel.invokeFunction(\n",
              "            'suggestCharts', [key], {});\n",
              "      } catch (error) {\n",
              "        console.error('Error during call to suggestCharts:', error);\n",
              "      }\n",
              "      quickchartButtonEl.classList.remove('colab-df-spinner');\n",
              "      quickchartButtonEl.classList.add('colab-df-quickchart-complete');\n",
              "    }\n",
              "    (() => {\n",
              "      let quickchartButtonEl =\n",
              "        document.querySelector('#df-570dd5c1-2a0c-4605-81f1-1707cf78d0db button');\n",
              "      quickchartButtonEl.style.display =\n",
              "        google.colab.kernel.accessAllowed ? 'block' : 'none';\n",
              "    })();\n",
              "  </script>\n",
              "</div>\n",
              "\n",
              "    </div>\n",
              "  </div>\n"
            ],
            "application/vnd.google.colaboratory.intrinsic+json": {
              "type": "dataframe",
              "variable_name": "df"
            }
          },
          "metadata": {},
          "execution_count": 9
        }
      ],
      "source": [
        "df.head(2)"
      ]
    },
    {
      "cell_type": "code",
      "execution_count": 10,
      "metadata": {
        "id": "5-9KO3Mi2lKG",
        "colab": {
          "base_uri": "https://localhost:8080/"
        },
        "outputId": "52440a46-8bf6-44cd-cb61-9fe80884d39a"
      },
      "outputs": [
        {
          "output_type": "stream",
          "name": "stdout",
          "text": [
            "<class 'pandas.core.frame.DataFrame'>\n",
            "RangeIndex: 10000 entries, 0 to 9999\n",
            "Data columns (total 50 columns):\n",
            " #   Column                              Non-Null Count  Dtype  \n",
            "---  ------                              --------------  -----  \n",
            " 0   id                                  10000 non-null  int64  \n",
            " 1   NumDots                             10000 non-null  int64  \n",
            " 2   SubdomainLevel                      10000 non-null  int64  \n",
            " 3   PathLevel                           10000 non-null  int64  \n",
            " 4   UrlLength                           10000 non-null  int64  \n",
            " 5   NumDash                             10000 non-null  int64  \n",
            " 6   NumDashInHostname                   10000 non-null  int64  \n",
            " 7   AtSymbol                            10000 non-null  int64  \n",
            " 8   TildeSymbol                         10000 non-null  int64  \n",
            " 9   NumUnderscore                       10000 non-null  int64  \n",
            " 10  NumPercent                          10000 non-null  int64  \n",
            " 11  NumQueryComponents                  10000 non-null  int64  \n",
            " 12  NumAmpersand                        10000 non-null  int64  \n",
            " 13  NumHash                             10000 non-null  int64  \n",
            " 14  NumNumericChars                     10000 non-null  int64  \n",
            " 15  NoHttps                             10000 non-null  int64  \n",
            " 16  RandomString                        10000 non-null  int64  \n",
            " 17  IpAddress                           10000 non-null  int64  \n",
            " 18  DomainInSubdomains                  10000 non-null  int64  \n",
            " 19  DomainInPaths                       10000 non-null  int64  \n",
            " 20  HttpsInHostname                     10000 non-null  int64  \n",
            " 21  HostnameLength                      10000 non-null  int64  \n",
            " 22  PathLength                          10000 non-null  int64  \n",
            " 23  QueryLength                         10000 non-null  int64  \n",
            " 24  DoubleSlashInPath                   10000 non-null  int64  \n",
            " 25  NumSensitiveWords                   10000 non-null  int64  \n",
            " 26  EmbeddedBrandName                   10000 non-null  int64  \n",
            " 27  PctExtHyperlinks                    10000 non-null  float64\n",
            " 28  PctExtResourceUrls                  10000 non-null  float64\n",
            " 29  ExtFavicon                          10000 non-null  int64  \n",
            " 30  InsecureForms                       10000 non-null  int64  \n",
            " 31  RelativeFormAction                  10000 non-null  int64  \n",
            " 32  ExtFormAction                       10000 non-null  int64  \n",
            " 33  AbnormalFormAction                  10000 non-null  int64  \n",
            " 34  PctNullSelfRedirectHyperlinks       10000 non-null  float64\n",
            " 35  FrequentDomainNameMismatch          10000 non-null  int64  \n",
            " 36  FakeLinkInStatusBar                 10000 non-null  int64  \n",
            " 37  RightClickDisabled                  10000 non-null  int64  \n",
            " 38  PopUpWindow                         10000 non-null  int64  \n",
            " 39  SubmitInfoToEmail                   10000 non-null  int64  \n",
            " 40  IframeOrFrame                       10000 non-null  int64  \n",
            " 41  MissingTitle                        10000 non-null  int64  \n",
            " 42  ImagesOnlyInForm                    10000 non-null  int64  \n",
            " 43  SubdomainLevelRT                    10000 non-null  int64  \n",
            " 44  UrlLengthRT                         10000 non-null  int64  \n",
            " 45  PctExtResourceUrlsRT                10000 non-null  int64  \n",
            " 46  AbnormalExtFormActionR              10000 non-null  int64  \n",
            " 47  ExtMetaScriptLinkRT                 10000 non-null  int64  \n",
            " 48  PctExtNullSelfRedirectHyperlinksRT  10000 non-null  int64  \n",
            " 49  CLASS_LABEL                         10000 non-null  int64  \n",
            "dtypes: float64(3), int64(47)\n",
            "memory usage: 3.8 MB\n"
          ]
        }
      ],
      "source": [
        "df.info()"
      ]
    },
    {
      "cell_type": "code",
      "source": [
        "for column in df.columns:\n",
        "  if df[column].dtypes == 'object':\n",
        "    print(column)\n",
        "    print('-' * 100)\n",
        "    print(df[column].unique())\n",
        "    print('=' * 100)"
      ],
      "metadata": {
        "id": "tlSMRYlQuklR"
      },
      "execution_count": 11,
      "outputs": []
    },
    {
      "cell_type": "markdown",
      "metadata": {
        "id": "ijGWg9ve51iA"
      },
      "source": [
        "### 01.02 Importing Geo Data"
      ]
    },
    {
      "cell_type": "code",
      "execution_count": 12,
      "metadata": {
        "id": "ci2aFwWG51Gn",
        "colab": {
          "base_uri": "https://localhost:8080/",
          "height": 36
        },
        "outputId": "a8be18c4-c1e2-43fd-82eb-f6999910f304"
      },
      "outputs": [
        {
          "output_type": "execute_result",
          "data": {
            "text/plain": [
              "\"geo_path = 'https://raw.githubusercontent.com/PublicaMundi/MappingAPI/master/data/geojson/us-states.json' # replace this\\n\\ngdf = gpd.read_file(geo_path)\\ngdf.head(2) #\""
            ],
            "application/vnd.google.colaboratory.intrinsic+json": {
              "type": "string"
            }
          },
          "metadata": {},
          "execution_count": 12
        }
      ],
      "source": [
        "'''geo_path = 'https://raw.githubusercontent.com/PublicaMundi/MappingAPI/master/data/geojson/us-states.json' # replace this\n",
        "\n",
        "gdf = gpd.read_file(geo_path)\n",
        "gdf.head(2) #'''"
      ]
    },
    {
      "cell_type": "code",
      "execution_count": 13,
      "metadata": {
        "id": "MAH6j1dF58sH",
        "colab": {
          "base_uri": "https://localhost:8080/",
          "height": 36
        },
        "outputId": "753a580a-4a71-4f76-edbb-baae457c85a2"
      },
      "outputs": [
        {
          "output_type": "execute_result",
          "data": {
            "text/plain": [
              "\"gdf = gdf.rename(columns = {'name' : 'State'})\\ngdf = gdf[['State', 'geometry']]\\ngdf.head(2) #\""
            ],
            "application/vnd.google.colaboratory.intrinsic+json": {
              "type": "string"
            }
          },
          "metadata": {},
          "execution_count": 13
        }
      ],
      "source": [
        "'''gdf = gdf.rename(columns = {'name' : 'State'})\n",
        "gdf = gdf[['State', 'geometry']]\n",
        "gdf.head(2) #'''"
      ]
    },
    {
      "cell_type": "markdown",
      "metadata": {
        "id": "bDb0JNRq5-kL"
      },
      "source": [
        "### 01.03 Importing Additional Data (for enrichment)"
      ]
    },
    {
      "cell_type": "markdown",
      "source": [
        "### 01.04 Dataframe Back Up"
      ],
      "metadata": {
        "id": "xUoE7lZKuRXY"
      }
    },
    {
      "cell_type": "code",
      "source": [
        "df_bu = df.copy()"
      ],
      "metadata": {
        "id": "IE_4gRcluVme"
      },
      "execution_count": 14,
      "outputs": []
    },
    {
      "cell_type": "markdown",
      "metadata": {
        "id": "Ofv3eTv72nkR"
      },
      "source": [
        "## 02 Data Structuring"
      ]
    },
    {
      "cell_type": "markdown",
      "metadata": {
        "id": "skphEhYa2sj-"
      },
      "source": [
        "### 02.01 Selecting & Dropping Variables"
      ]
    },
    {
      "cell_type": "code",
      "source": [
        "column_list = [] # fill this\n",
        "\n",
        "df = df.drop(column_list, axis = 1)\n",
        "df.head(2) #'''"
      ],
      "metadata": {
        "id": "romlgFiBrwL8",
        "colab": {
          "base_uri": "https://localhost:8080/",
          "height": 161
        },
        "outputId": "84b35778-a59e-4bbe-8581-09b22e9179e2"
      },
      "execution_count": 15,
      "outputs": [
        {
          "output_type": "execute_result",
          "data": {
            "text/plain": [
              "   id  NumDots  SubdomainLevel  PathLevel  UrlLength  NumDash  \\\n",
              "0   1        3               1          5         72        0   \n",
              "1   2        3               1          3        144        0   \n",
              "\n",
              "   NumDashInHostname  AtSymbol  TildeSymbol  NumUnderscore  ...  \\\n",
              "0                  0         0            0              0  ...   \n",
              "1                  0         0            0              2  ...   \n",
              "\n",
              "   IframeOrFrame  MissingTitle  ImagesOnlyInForm  SubdomainLevelRT  \\\n",
              "0              0             0                 1                 1   \n",
              "1              0             0                 0                 1   \n",
              "\n",
              "   UrlLengthRT  PctExtResourceUrlsRT  AbnormalExtFormActionR  \\\n",
              "0            0                     1                       1   \n",
              "1           -1                     1                       1   \n",
              "\n",
              "   ExtMetaScriptLinkRT  PctExtNullSelfRedirectHyperlinksRT  CLASS_LABEL  \n",
              "0                   -1                                   1            1  \n",
              "1                    1                                   1            1  \n",
              "\n",
              "[2 rows x 50 columns]"
            ],
            "text/html": [
              "\n",
              "  <div id=\"df-c1634df1-fa5c-481f-9edf-9249e871901b\" class=\"colab-df-container\">\n",
              "    <div>\n",
              "<style scoped>\n",
              "    .dataframe tbody tr th:only-of-type {\n",
              "        vertical-align: middle;\n",
              "    }\n",
              "\n",
              "    .dataframe tbody tr th {\n",
              "        vertical-align: top;\n",
              "    }\n",
              "\n",
              "    .dataframe thead th {\n",
              "        text-align: right;\n",
              "    }\n",
              "</style>\n",
              "<table border=\"1\" class=\"dataframe\">\n",
              "  <thead>\n",
              "    <tr style=\"text-align: right;\">\n",
              "      <th></th>\n",
              "      <th>id</th>\n",
              "      <th>NumDots</th>\n",
              "      <th>SubdomainLevel</th>\n",
              "      <th>PathLevel</th>\n",
              "      <th>UrlLength</th>\n",
              "      <th>NumDash</th>\n",
              "      <th>NumDashInHostname</th>\n",
              "      <th>AtSymbol</th>\n",
              "      <th>TildeSymbol</th>\n",
              "      <th>NumUnderscore</th>\n",
              "      <th>...</th>\n",
              "      <th>IframeOrFrame</th>\n",
              "      <th>MissingTitle</th>\n",
              "      <th>ImagesOnlyInForm</th>\n",
              "      <th>SubdomainLevelRT</th>\n",
              "      <th>UrlLengthRT</th>\n",
              "      <th>PctExtResourceUrlsRT</th>\n",
              "      <th>AbnormalExtFormActionR</th>\n",
              "      <th>ExtMetaScriptLinkRT</th>\n",
              "      <th>PctExtNullSelfRedirectHyperlinksRT</th>\n",
              "      <th>CLASS_LABEL</th>\n",
              "    </tr>\n",
              "  </thead>\n",
              "  <tbody>\n",
              "    <tr>\n",
              "      <th>0</th>\n",
              "      <td>1</td>\n",
              "      <td>3</td>\n",
              "      <td>1</td>\n",
              "      <td>5</td>\n",
              "      <td>72</td>\n",
              "      <td>0</td>\n",
              "      <td>0</td>\n",
              "      <td>0</td>\n",
              "      <td>0</td>\n",
              "      <td>0</td>\n",
              "      <td>...</td>\n",
              "      <td>0</td>\n",
              "      <td>0</td>\n",
              "      <td>1</td>\n",
              "      <td>1</td>\n",
              "      <td>0</td>\n",
              "      <td>1</td>\n",
              "      <td>1</td>\n",
              "      <td>-1</td>\n",
              "      <td>1</td>\n",
              "      <td>1</td>\n",
              "    </tr>\n",
              "    <tr>\n",
              "      <th>1</th>\n",
              "      <td>2</td>\n",
              "      <td>3</td>\n",
              "      <td>1</td>\n",
              "      <td>3</td>\n",
              "      <td>144</td>\n",
              "      <td>0</td>\n",
              "      <td>0</td>\n",
              "      <td>0</td>\n",
              "      <td>0</td>\n",
              "      <td>2</td>\n",
              "      <td>...</td>\n",
              "      <td>0</td>\n",
              "      <td>0</td>\n",
              "      <td>0</td>\n",
              "      <td>1</td>\n",
              "      <td>-1</td>\n",
              "      <td>1</td>\n",
              "      <td>1</td>\n",
              "      <td>1</td>\n",
              "      <td>1</td>\n",
              "      <td>1</td>\n",
              "    </tr>\n",
              "  </tbody>\n",
              "</table>\n",
              "<p>2 rows × 50 columns</p>\n",
              "</div>\n",
              "    <div class=\"colab-df-buttons\">\n",
              "\n",
              "  <div class=\"colab-df-container\">\n",
              "    <button class=\"colab-df-convert\" onclick=\"convertToInteractive('df-c1634df1-fa5c-481f-9edf-9249e871901b')\"\n",
              "            title=\"Convert this dataframe to an interactive table.\"\n",
              "            style=\"display:none;\">\n",
              "\n",
              "  <svg xmlns=\"http://www.w3.org/2000/svg\" height=\"24px\" viewBox=\"0 -960 960 960\">\n",
              "    <path d=\"M120-120v-720h720v720H120Zm60-500h600v-160H180v160Zm220 220h160v-160H400v160Zm0 220h160v-160H400v160ZM180-400h160v-160H180v160Zm440 0h160v-160H620v160ZM180-180h160v-160H180v160Zm440 0h160v-160H620v160Z\"/>\n",
              "  </svg>\n",
              "    </button>\n",
              "\n",
              "  <style>\n",
              "    .colab-df-container {\n",
              "      display:flex;\n",
              "      gap: 12px;\n",
              "    }\n",
              "\n",
              "    .colab-df-convert {\n",
              "      background-color: #E8F0FE;\n",
              "      border: none;\n",
              "      border-radius: 50%;\n",
              "      cursor: pointer;\n",
              "      display: none;\n",
              "      fill: #1967D2;\n",
              "      height: 32px;\n",
              "      padding: 0 0 0 0;\n",
              "      width: 32px;\n",
              "    }\n",
              "\n",
              "    .colab-df-convert:hover {\n",
              "      background-color: #E2EBFA;\n",
              "      box-shadow: 0px 1px 2px rgba(60, 64, 67, 0.3), 0px 1px 3px 1px rgba(60, 64, 67, 0.15);\n",
              "      fill: #174EA6;\n",
              "    }\n",
              "\n",
              "    .colab-df-buttons div {\n",
              "      margin-bottom: 4px;\n",
              "    }\n",
              "\n",
              "    [theme=dark] .colab-df-convert {\n",
              "      background-color: #3B4455;\n",
              "      fill: #D2E3FC;\n",
              "    }\n",
              "\n",
              "    [theme=dark] .colab-df-convert:hover {\n",
              "      background-color: #434B5C;\n",
              "      box-shadow: 0px 1px 3px 1px rgba(0, 0, 0, 0.15);\n",
              "      filter: drop-shadow(0px 1px 2px rgba(0, 0, 0, 0.3));\n",
              "      fill: #FFFFFF;\n",
              "    }\n",
              "  </style>\n",
              "\n",
              "    <script>\n",
              "      const buttonEl =\n",
              "        document.querySelector('#df-c1634df1-fa5c-481f-9edf-9249e871901b button.colab-df-convert');\n",
              "      buttonEl.style.display =\n",
              "        google.colab.kernel.accessAllowed ? 'block' : 'none';\n",
              "\n",
              "      async function convertToInteractive(key) {\n",
              "        const element = document.querySelector('#df-c1634df1-fa5c-481f-9edf-9249e871901b');\n",
              "        const dataTable =\n",
              "          await google.colab.kernel.invokeFunction('convertToInteractive',\n",
              "                                                    [key], {});\n",
              "        if (!dataTable) return;\n",
              "\n",
              "        const docLinkHtml = 'Like what you see? Visit the ' +\n",
              "          '<a target=\"_blank\" href=https://colab.research.google.com/notebooks/data_table.ipynb>data table notebook</a>'\n",
              "          + ' to learn more about interactive tables.';\n",
              "        element.innerHTML = '';\n",
              "        dataTable['output_type'] = 'display_data';\n",
              "        await google.colab.output.renderOutput(dataTable, element);\n",
              "        const docLink = document.createElement('div');\n",
              "        docLink.innerHTML = docLinkHtml;\n",
              "        element.appendChild(docLink);\n",
              "      }\n",
              "    </script>\n",
              "  </div>\n",
              "\n",
              "\n",
              "<div id=\"df-6e167678-d27a-4895-83e1-dab95c6dd90b\">\n",
              "  <button class=\"colab-df-quickchart\" onclick=\"quickchart('df-6e167678-d27a-4895-83e1-dab95c6dd90b')\"\n",
              "            title=\"Suggest charts\"\n",
              "            style=\"display:none;\">\n",
              "\n",
              "<svg xmlns=\"http://www.w3.org/2000/svg\" height=\"24px\"viewBox=\"0 0 24 24\"\n",
              "     width=\"24px\">\n",
              "    <g>\n",
              "        <path d=\"M19 3H5c-1.1 0-2 .9-2 2v14c0 1.1.9 2 2 2h14c1.1 0 2-.9 2-2V5c0-1.1-.9-2-2-2zM9 17H7v-7h2v7zm4 0h-2V7h2v10zm4 0h-2v-4h2v4z\"/>\n",
              "    </g>\n",
              "</svg>\n",
              "  </button>\n",
              "\n",
              "<style>\n",
              "  .colab-df-quickchart {\n",
              "      --bg-color: #E8F0FE;\n",
              "      --fill-color: #1967D2;\n",
              "      --hover-bg-color: #E2EBFA;\n",
              "      --hover-fill-color: #174EA6;\n",
              "      --disabled-fill-color: #AAA;\n",
              "      --disabled-bg-color: #DDD;\n",
              "  }\n",
              "\n",
              "  [theme=dark] .colab-df-quickchart {\n",
              "      --bg-color: #3B4455;\n",
              "      --fill-color: #D2E3FC;\n",
              "      --hover-bg-color: #434B5C;\n",
              "      --hover-fill-color: #FFFFFF;\n",
              "      --disabled-bg-color: #3B4455;\n",
              "      --disabled-fill-color: #666;\n",
              "  }\n",
              "\n",
              "  .colab-df-quickchart {\n",
              "    background-color: var(--bg-color);\n",
              "    border: none;\n",
              "    border-radius: 50%;\n",
              "    cursor: pointer;\n",
              "    display: none;\n",
              "    fill: var(--fill-color);\n",
              "    height: 32px;\n",
              "    padding: 0;\n",
              "    width: 32px;\n",
              "  }\n",
              "\n",
              "  .colab-df-quickchart:hover {\n",
              "    background-color: var(--hover-bg-color);\n",
              "    box-shadow: 0 1px 2px rgba(60, 64, 67, 0.3), 0 1px 3px 1px rgba(60, 64, 67, 0.15);\n",
              "    fill: var(--button-hover-fill-color);\n",
              "  }\n",
              "\n",
              "  .colab-df-quickchart-complete:disabled,\n",
              "  .colab-df-quickchart-complete:disabled:hover {\n",
              "    background-color: var(--disabled-bg-color);\n",
              "    fill: var(--disabled-fill-color);\n",
              "    box-shadow: none;\n",
              "  }\n",
              "\n",
              "  .colab-df-spinner {\n",
              "    border: 2px solid var(--fill-color);\n",
              "    border-color: transparent;\n",
              "    border-bottom-color: var(--fill-color);\n",
              "    animation:\n",
              "      spin 1s steps(1) infinite;\n",
              "  }\n",
              "\n",
              "  @keyframes spin {\n",
              "    0% {\n",
              "      border-color: transparent;\n",
              "      border-bottom-color: var(--fill-color);\n",
              "      border-left-color: var(--fill-color);\n",
              "    }\n",
              "    20% {\n",
              "      border-color: transparent;\n",
              "      border-left-color: var(--fill-color);\n",
              "      border-top-color: var(--fill-color);\n",
              "    }\n",
              "    30% {\n",
              "      border-color: transparent;\n",
              "      border-left-color: var(--fill-color);\n",
              "      border-top-color: var(--fill-color);\n",
              "      border-right-color: var(--fill-color);\n",
              "    }\n",
              "    40% {\n",
              "      border-color: transparent;\n",
              "      border-right-color: var(--fill-color);\n",
              "      border-top-color: var(--fill-color);\n",
              "    }\n",
              "    60% {\n",
              "      border-color: transparent;\n",
              "      border-right-color: var(--fill-color);\n",
              "    }\n",
              "    80% {\n",
              "      border-color: transparent;\n",
              "      border-right-color: var(--fill-color);\n",
              "      border-bottom-color: var(--fill-color);\n",
              "    }\n",
              "    90% {\n",
              "      border-color: transparent;\n",
              "      border-bottom-color: var(--fill-color);\n",
              "    }\n",
              "  }\n",
              "</style>\n",
              "\n",
              "  <script>\n",
              "    async function quickchart(key) {\n",
              "      const quickchartButtonEl =\n",
              "        document.querySelector('#' + key + ' button');\n",
              "      quickchartButtonEl.disabled = true;  // To prevent multiple clicks.\n",
              "      quickchartButtonEl.classList.add('colab-df-spinner');\n",
              "      try {\n",
              "        const charts = await google.colab.kernel.invokeFunction(\n",
              "            'suggestCharts', [key], {});\n",
              "      } catch (error) {\n",
              "        console.error('Error during call to suggestCharts:', error);\n",
              "      }\n",
              "      quickchartButtonEl.classList.remove('colab-df-spinner');\n",
              "      quickchartButtonEl.classList.add('colab-df-quickchart-complete');\n",
              "    }\n",
              "    (() => {\n",
              "      let quickchartButtonEl =\n",
              "        document.querySelector('#df-6e167678-d27a-4895-83e1-dab95c6dd90b button');\n",
              "      quickchartButtonEl.style.display =\n",
              "        google.colab.kernel.accessAllowed ? 'block' : 'none';\n",
              "    })();\n",
              "  </script>\n",
              "</div>\n",
              "\n",
              "    </div>\n",
              "  </div>\n"
            ],
            "application/vnd.google.colaboratory.intrinsic+json": {
              "type": "dataframe",
              "variable_name": "df"
            }
          },
          "metadata": {},
          "execution_count": 15
        }
      ]
    },
    {
      "cell_type": "markdown",
      "metadata": {
        "id": "8kkSIuDI2zpY"
      },
      "source": [
        "### 02.02 Cleaning Text Object"
      ]
    },
    {
      "cell_type": "markdown",
      "metadata": {
        "id": "gnGCmxzr22a6"
      },
      "source": [
        "#### 02.02.01 Convert Header to Proper Text"
      ]
    },
    {
      "cell_type": "code",
      "execution_count": 16,
      "metadata": {
        "id": "pxibEhsD2xf-",
        "colab": {
          "base_uri": "https://localhost:8080/",
          "height": 36
        },
        "outputId": "d7a7c591-fc1f-4f4d-8b9e-de3ee886d793"
      },
      "outputs": [
        {
          "output_type": "execute_result",
          "data": {
            "text/plain": [
              "'for x in df.columns:\\n  y = x.title()\\n  df = df.rename(columns = {x : y}) #'"
            ],
            "application/vnd.google.colaboratory.intrinsic+json": {
              "type": "string"
            }
          },
          "metadata": {},
          "execution_count": 16
        }
      ],
      "source": [
        "'''for x in df.columns:\n",
        "  y = x.title()\n",
        "  df = df.rename(columns = {x : y}) #'''"
      ]
    },
    {
      "cell_type": "markdown",
      "metadata": {
        "id": "I8-W_5Pq25j4"
      },
      "source": [
        "#### 02.02.02 Strip Abnormal Spaces"
      ]
    },
    {
      "cell_type": "code",
      "execution_count": 17,
      "metadata": {
        "id": "IHBwRW6P27s0",
        "colab": {
          "base_uri": "https://localhost:8080/",
          "height": 36
        },
        "outputId": "c538367a-6d95-4fc1-d84a-f0e617636030"
      },
      "outputs": [
        {
          "output_type": "execute_result",
          "data": {
            "text/plain": [
              "\"for x in df.columns:\\n  if df[x].dtypes == 'object':\\n    try:\\n      df[x] = df[x].str.strip()\\n    except:\\n      pass #\""
            ],
            "application/vnd.google.colaboratory.intrinsic+json": {
              "type": "string"
            }
          },
          "metadata": {},
          "execution_count": 17
        }
      ],
      "source": [
        "'''for x in df.columns:\n",
        "  if df[x].dtypes == 'object':\n",
        "    try:\n",
        "      df[x] = df[x].str.strip()\n",
        "    except:\n",
        "      pass #'''"
      ]
    },
    {
      "cell_type": "markdown",
      "metadata": {
        "id": "3UdjluOC2_f6"
      },
      "source": [
        "#### 02.02.03 Convert Object Content to Proper Text"
      ]
    },
    {
      "cell_type": "code",
      "execution_count": 18,
      "metadata": {
        "id": "PvP2ww0K3Bll",
        "colab": {
          "base_uri": "https://localhost:8080/",
          "height": 36
        },
        "outputId": "52ef3e99-ac16-4924-b73f-835a2c91d1ea"
      },
      "outputs": [
        {
          "output_type": "execute_result",
          "data": {
            "text/plain": [
              "\"for x in df.columns:\\n  if df[x].dtypes == 'object':\\n    for a in df[x].unique():\\n      b = a.title()\\n      df[x] = df[x].replace(a, b)\\n  else:\\n    pass #\""
            ],
            "application/vnd.google.colaboratory.intrinsic+json": {
              "type": "string"
            }
          },
          "metadata": {},
          "execution_count": 18
        }
      ],
      "source": [
        "'''for x in df.columns:\n",
        "  if df[x].dtypes == 'object':\n",
        "    for a in df[x].unique():\n",
        "      b = a.title()\n",
        "      df[x] = df[x].replace(a, b)\n",
        "  else:\n",
        "    pass #'''"
      ]
    },
    {
      "cell_type": "markdown",
      "metadata": {
        "id": "qqhG5IiB3F-S"
      },
      "source": [
        "### 02.03 Coverting Data"
      ]
    },
    {
      "cell_type": "markdown",
      "metadata": {
        "id": "PE5qM6Dw3GkP"
      },
      "source": [
        "#### 02.03.01 Convert to date"
      ]
    },
    {
      "cell_type": "code",
      "execution_count": 19,
      "metadata": {
        "id": "RUoX8lYp3IqU",
        "colab": {
          "base_uri": "https://localhost:8080/",
          "height": 161
        },
        "outputId": "987b76d5-491f-4728-a0e8-960af96d33f8"
      },
      "outputs": [
        {
          "output_type": "execute_result",
          "data": {
            "text/plain": [
              "   id  NumDots  SubdomainLevel  PathLevel  UrlLength  NumDash  \\\n",
              "0   1        3               1          5         72        0   \n",
              "1   2        3               1          3        144        0   \n",
              "\n",
              "   NumDashInHostname  AtSymbol  TildeSymbol  NumUnderscore  ...  \\\n",
              "0                  0         0            0              0  ...   \n",
              "1                  0         0            0              2  ...   \n",
              "\n",
              "   IframeOrFrame  MissingTitle  ImagesOnlyInForm  SubdomainLevelRT  \\\n",
              "0              0             0                 1                 1   \n",
              "1              0             0                 0                 1   \n",
              "\n",
              "   UrlLengthRT  PctExtResourceUrlsRT  AbnormalExtFormActionR  \\\n",
              "0            0                     1                       1   \n",
              "1           -1                     1                       1   \n",
              "\n",
              "   ExtMetaScriptLinkRT  PctExtNullSelfRedirectHyperlinksRT  CLASS_LABEL  \n",
              "0                   -1                                   1            1  \n",
              "1                    1                                   1            1  \n",
              "\n",
              "[2 rows x 50 columns]"
            ],
            "text/html": [
              "\n",
              "  <div id=\"df-4d6230e0-acb7-4ee5-8fb8-0361ca7b4cfc\" class=\"colab-df-container\">\n",
              "    <div>\n",
              "<style scoped>\n",
              "    .dataframe tbody tr th:only-of-type {\n",
              "        vertical-align: middle;\n",
              "    }\n",
              "\n",
              "    .dataframe tbody tr th {\n",
              "        vertical-align: top;\n",
              "    }\n",
              "\n",
              "    .dataframe thead th {\n",
              "        text-align: right;\n",
              "    }\n",
              "</style>\n",
              "<table border=\"1\" class=\"dataframe\">\n",
              "  <thead>\n",
              "    <tr style=\"text-align: right;\">\n",
              "      <th></th>\n",
              "      <th>id</th>\n",
              "      <th>NumDots</th>\n",
              "      <th>SubdomainLevel</th>\n",
              "      <th>PathLevel</th>\n",
              "      <th>UrlLength</th>\n",
              "      <th>NumDash</th>\n",
              "      <th>NumDashInHostname</th>\n",
              "      <th>AtSymbol</th>\n",
              "      <th>TildeSymbol</th>\n",
              "      <th>NumUnderscore</th>\n",
              "      <th>...</th>\n",
              "      <th>IframeOrFrame</th>\n",
              "      <th>MissingTitle</th>\n",
              "      <th>ImagesOnlyInForm</th>\n",
              "      <th>SubdomainLevelRT</th>\n",
              "      <th>UrlLengthRT</th>\n",
              "      <th>PctExtResourceUrlsRT</th>\n",
              "      <th>AbnormalExtFormActionR</th>\n",
              "      <th>ExtMetaScriptLinkRT</th>\n",
              "      <th>PctExtNullSelfRedirectHyperlinksRT</th>\n",
              "      <th>CLASS_LABEL</th>\n",
              "    </tr>\n",
              "  </thead>\n",
              "  <tbody>\n",
              "    <tr>\n",
              "      <th>0</th>\n",
              "      <td>1</td>\n",
              "      <td>3</td>\n",
              "      <td>1</td>\n",
              "      <td>5</td>\n",
              "      <td>72</td>\n",
              "      <td>0</td>\n",
              "      <td>0</td>\n",
              "      <td>0</td>\n",
              "      <td>0</td>\n",
              "      <td>0</td>\n",
              "      <td>...</td>\n",
              "      <td>0</td>\n",
              "      <td>0</td>\n",
              "      <td>1</td>\n",
              "      <td>1</td>\n",
              "      <td>0</td>\n",
              "      <td>1</td>\n",
              "      <td>1</td>\n",
              "      <td>-1</td>\n",
              "      <td>1</td>\n",
              "      <td>1</td>\n",
              "    </tr>\n",
              "    <tr>\n",
              "      <th>1</th>\n",
              "      <td>2</td>\n",
              "      <td>3</td>\n",
              "      <td>1</td>\n",
              "      <td>3</td>\n",
              "      <td>144</td>\n",
              "      <td>0</td>\n",
              "      <td>0</td>\n",
              "      <td>0</td>\n",
              "      <td>0</td>\n",
              "      <td>2</td>\n",
              "      <td>...</td>\n",
              "      <td>0</td>\n",
              "      <td>0</td>\n",
              "      <td>0</td>\n",
              "      <td>1</td>\n",
              "      <td>-1</td>\n",
              "      <td>1</td>\n",
              "      <td>1</td>\n",
              "      <td>1</td>\n",
              "      <td>1</td>\n",
              "      <td>1</td>\n",
              "    </tr>\n",
              "  </tbody>\n",
              "</table>\n",
              "<p>2 rows × 50 columns</p>\n",
              "</div>\n",
              "    <div class=\"colab-df-buttons\">\n",
              "\n",
              "  <div class=\"colab-df-container\">\n",
              "    <button class=\"colab-df-convert\" onclick=\"convertToInteractive('df-4d6230e0-acb7-4ee5-8fb8-0361ca7b4cfc')\"\n",
              "            title=\"Convert this dataframe to an interactive table.\"\n",
              "            style=\"display:none;\">\n",
              "\n",
              "  <svg xmlns=\"http://www.w3.org/2000/svg\" height=\"24px\" viewBox=\"0 -960 960 960\">\n",
              "    <path d=\"M120-120v-720h720v720H120Zm60-500h600v-160H180v160Zm220 220h160v-160H400v160Zm0 220h160v-160H400v160ZM180-400h160v-160H180v160Zm440 0h160v-160H620v160ZM180-180h160v-160H180v160Zm440 0h160v-160H620v160Z\"/>\n",
              "  </svg>\n",
              "    </button>\n",
              "\n",
              "  <style>\n",
              "    .colab-df-container {\n",
              "      display:flex;\n",
              "      gap: 12px;\n",
              "    }\n",
              "\n",
              "    .colab-df-convert {\n",
              "      background-color: #E8F0FE;\n",
              "      border: none;\n",
              "      border-radius: 50%;\n",
              "      cursor: pointer;\n",
              "      display: none;\n",
              "      fill: #1967D2;\n",
              "      height: 32px;\n",
              "      padding: 0 0 0 0;\n",
              "      width: 32px;\n",
              "    }\n",
              "\n",
              "    .colab-df-convert:hover {\n",
              "      background-color: #E2EBFA;\n",
              "      box-shadow: 0px 1px 2px rgba(60, 64, 67, 0.3), 0px 1px 3px 1px rgba(60, 64, 67, 0.15);\n",
              "      fill: #174EA6;\n",
              "    }\n",
              "\n",
              "    .colab-df-buttons div {\n",
              "      margin-bottom: 4px;\n",
              "    }\n",
              "\n",
              "    [theme=dark] .colab-df-convert {\n",
              "      background-color: #3B4455;\n",
              "      fill: #D2E3FC;\n",
              "    }\n",
              "\n",
              "    [theme=dark] .colab-df-convert:hover {\n",
              "      background-color: #434B5C;\n",
              "      box-shadow: 0px 1px 3px 1px rgba(0, 0, 0, 0.15);\n",
              "      filter: drop-shadow(0px 1px 2px rgba(0, 0, 0, 0.3));\n",
              "      fill: #FFFFFF;\n",
              "    }\n",
              "  </style>\n",
              "\n",
              "    <script>\n",
              "      const buttonEl =\n",
              "        document.querySelector('#df-4d6230e0-acb7-4ee5-8fb8-0361ca7b4cfc button.colab-df-convert');\n",
              "      buttonEl.style.display =\n",
              "        google.colab.kernel.accessAllowed ? 'block' : 'none';\n",
              "\n",
              "      async function convertToInteractive(key) {\n",
              "        const element = document.querySelector('#df-4d6230e0-acb7-4ee5-8fb8-0361ca7b4cfc');\n",
              "        const dataTable =\n",
              "          await google.colab.kernel.invokeFunction('convertToInteractive',\n",
              "                                                    [key], {});\n",
              "        if (!dataTable) return;\n",
              "\n",
              "        const docLinkHtml = 'Like what you see? Visit the ' +\n",
              "          '<a target=\"_blank\" href=https://colab.research.google.com/notebooks/data_table.ipynb>data table notebook</a>'\n",
              "          + ' to learn more about interactive tables.';\n",
              "        element.innerHTML = '';\n",
              "        dataTable['output_type'] = 'display_data';\n",
              "        await google.colab.output.renderOutput(dataTable, element);\n",
              "        const docLink = document.createElement('div');\n",
              "        docLink.innerHTML = docLinkHtml;\n",
              "        element.appendChild(docLink);\n",
              "      }\n",
              "    </script>\n",
              "  </div>\n",
              "\n",
              "\n",
              "<div id=\"df-bf672772-f66c-4d85-af73-8e8f0d93f4a0\">\n",
              "  <button class=\"colab-df-quickchart\" onclick=\"quickchart('df-bf672772-f66c-4d85-af73-8e8f0d93f4a0')\"\n",
              "            title=\"Suggest charts\"\n",
              "            style=\"display:none;\">\n",
              "\n",
              "<svg xmlns=\"http://www.w3.org/2000/svg\" height=\"24px\"viewBox=\"0 0 24 24\"\n",
              "     width=\"24px\">\n",
              "    <g>\n",
              "        <path d=\"M19 3H5c-1.1 0-2 .9-2 2v14c0 1.1.9 2 2 2h14c1.1 0 2-.9 2-2V5c0-1.1-.9-2-2-2zM9 17H7v-7h2v7zm4 0h-2V7h2v10zm4 0h-2v-4h2v4z\"/>\n",
              "    </g>\n",
              "</svg>\n",
              "  </button>\n",
              "\n",
              "<style>\n",
              "  .colab-df-quickchart {\n",
              "      --bg-color: #E8F0FE;\n",
              "      --fill-color: #1967D2;\n",
              "      --hover-bg-color: #E2EBFA;\n",
              "      --hover-fill-color: #174EA6;\n",
              "      --disabled-fill-color: #AAA;\n",
              "      --disabled-bg-color: #DDD;\n",
              "  }\n",
              "\n",
              "  [theme=dark] .colab-df-quickchart {\n",
              "      --bg-color: #3B4455;\n",
              "      --fill-color: #D2E3FC;\n",
              "      --hover-bg-color: #434B5C;\n",
              "      --hover-fill-color: #FFFFFF;\n",
              "      --disabled-bg-color: #3B4455;\n",
              "      --disabled-fill-color: #666;\n",
              "  }\n",
              "\n",
              "  .colab-df-quickchart {\n",
              "    background-color: var(--bg-color);\n",
              "    border: none;\n",
              "    border-radius: 50%;\n",
              "    cursor: pointer;\n",
              "    display: none;\n",
              "    fill: var(--fill-color);\n",
              "    height: 32px;\n",
              "    padding: 0;\n",
              "    width: 32px;\n",
              "  }\n",
              "\n",
              "  .colab-df-quickchart:hover {\n",
              "    background-color: var(--hover-bg-color);\n",
              "    box-shadow: 0 1px 2px rgba(60, 64, 67, 0.3), 0 1px 3px 1px rgba(60, 64, 67, 0.15);\n",
              "    fill: var(--button-hover-fill-color);\n",
              "  }\n",
              "\n",
              "  .colab-df-quickchart-complete:disabled,\n",
              "  .colab-df-quickchart-complete:disabled:hover {\n",
              "    background-color: var(--disabled-bg-color);\n",
              "    fill: var(--disabled-fill-color);\n",
              "    box-shadow: none;\n",
              "  }\n",
              "\n",
              "  .colab-df-spinner {\n",
              "    border: 2px solid var(--fill-color);\n",
              "    border-color: transparent;\n",
              "    border-bottom-color: var(--fill-color);\n",
              "    animation:\n",
              "      spin 1s steps(1) infinite;\n",
              "  }\n",
              "\n",
              "  @keyframes spin {\n",
              "    0% {\n",
              "      border-color: transparent;\n",
              "      border-bottom-color: var(--fill-color);\n",
              "      border-left-color: var(--fill-color);\n",
              "    }\n",
              "    20% {\n",
              "      border-color: transparent;\n",
              "      border-left-color: var(--fill-color);\n",
              "      border-top-color: var(--fill-color);\n",
              "    }\n",
              "    30% {\n",
              "      border-color: transparent;\n",
              "      border-left-color: var(--fill-color);\n",
              "      border-top-color: var(--fill-color);\n",
              "      border-right-color: var(--fill-color);\n",
              "    }\n",
              "    40% {\n",
              "      border-color: transparent;\n",
              "      border-right-color: var(--fill-color);\n",
              "      border-top-color: var(--fill-color);\n",
              "    }\n",
              "    60% {\n",
              "      border-color: transparent;\n",
              "      border-right-color: var(--fill-color);\n",
              "    }\n",
              "    80% {\n",
              "      border-color: transparent;\n",
              "      border-right-color: var(--fill-color);\n",
              "      border-bottom-color: var(--fill-color);\n",
              "    }\n",
              "    90% {\n",
              "      border-color: transparent;\n",
              "      border-bottom-color: var(--fill-color);\n",
              "    }\n",
              "  }\n",
              "</style>\n",
              "\n",
              "  <script>\n",
              "    async function quickchart(key) {\n",
              "      const quickchartButtonEl =\n",
              "        document.querySelector('#' + key + ' button');\n",
              "      quickchartButtonEl.disabled = true;  // To prevent multiple clicks.\n",
              "      quickchartButtonEl.classList.add('colab-df-spinner');\n",
              "      try {\n",
              "        const charts = await google.colab.kernel.invokeFunction(\n",
              "            'suggestCharts', [key], {});\n",
              "      } catch (error) {\n",
              "        console.error('Error during call to suggestCharts:', error);\n",
              "      }\n",
              "      quickchartButtonEl.classList.remove('colab-df-spinner');\n",
              "      quickchartButtonEl.classList.add('colab-df-quickchart-complete');\n",
              "    }\n",
              "    (() => {\n",
              "      let quickchartButtonEl =\n",
              "        document.querySelector('#df-bf672772-f66c-4d85-af73-8e8f0d93f4a0 button');\n",
              "      quickchartButtonEl.style.display =\n",
              "        google.colab.kernel.accessAllowed ? 'block' : 'none';\n",
              "    })();\n",
              "  </script>\n",
              "</div>\n",
              "\n",
              "    </div>\n",
              "  </div>\n"
            ],
            "application/vnd.google.colaboratory.intrinsic+json": {
              "type": "dataframe",
              "variable_name": "df"
            }
          },
          "metadata": {},
          "execution_count": 19
        }
      ],
      "source": [
        "df.head(2)"
      ]
    },
    {
      "cell_type": "code",
      "execution_count": 20,
      "metadata": {
        "id": "kesMHW843OfM"
      },
      "outputs": [],
      "source": [
        "column_list = ['Activity Period Start Date'] # fill this\n",
        "\n",
        "for x in column_list:\n",
        "  try:\n",
        "    df[x] = pd.to_datetime(df[x])\n",
        "  except:\n",
        "    pass #'''"
      ]
    },
    {
      "cell_type": "markdown",
      "metadata": {
        "id": "vC8vfIaj3az_"
      },
      "source": [
        "#### 02.03.02 Convert to integer"
      ]
    },
    {
      "cell_type": "code",
      "source": [
        "column_list = [] # fill this\n",
        "\n",
        "for x in column_list:\n",
        "  df[x] = df[x].astype('int') #'''"
      ],
      "metadata": {
        "id": "Ye7fsH6Wuv3g"
      },
      "execution_count": 21,
      "outputs": []
    },
    {
      "cell_type": "markdown",
      "metadata": {
        "id": "oNIzzPN43gCn"
      },
      "source": [
        "#### 02.03.03 Convert to Object (if necessary)"
      ]
    },
    {
      "cell_type": "code",
      "source": [
        "column_list = [] # fill this\n",
        "\n",
        "for x in column_list:\n",
        "  df[x] = df[x].astype('str') #'''"
      ],
      "metadata": {
        "id": "piio0k-LvUyv"
      },
      "execution_count": 22,
      "outputs": []
    },
    {
      "cell_type": "markdown",
      "metadata": {
        "id": "Yrd9pcfG3khR"
      },
      "source": [
        "#### 02.03.04 Replace 0 to Nan (if necessary)"
      ]
    },
    {
      "cell_type": "code",
      "execution_count": 23,
      "metadata": {
        "id": "aBUvvU8k3mk-"
      },
      "outputs": [],
      "source": [
        "#df = df.replace(0, np.nan)"
      ]
    },
    {
      "cell_type": "markdown",
      "source": [
        "#### 02.03.05 Filling 0 to Nan"
      ],
      "metadata": {
        "id": "Y14i2NUAn-Wb"
      }
    },
    {
      "cell_type": "code",
      "source": [
        "'''for column in df.columns:\n",
        "  if df[column].dtype == 'float64' or df[column].dtype == 'int64':\n",
        "    df[column] = df[column].fillna(0)\n",
        "    print(column)\n",
        "  else:\n",
        "    pass #'''"
      ],
      "metadata": {
        "id": "eQfT9gTToGoz",
        "colab": {
          "base_uri": "https://localhost:8080/",
          "height": 36
        },
        "outputId": "ef824a91-0eca-4f48-bc50-bbd3242937bf"
      },
      "execution_count": 24,
      "outputs": [
        {
          "output_type": "execute_result",
          "data": {
            "text/plain": [
              "\"for column in df.columns:\\n  if df[column].dtype == 'float64' or df[column].dtype == 'int64':\\n    df[column] = df[column].fillna(0)\\n    print(column)\\n  else:\\n    pass #\""
            ],
            "application/vnd.google.colaboratory.intrinsic+json": {
              "type": "string"
            }
          },
          "metadata": {},
          "execution_count": 24
        }
      ]
    },
    {
      "cell_type": "markdown",
      "source": [
        "#### 02.03.06 Dropping Nan"
      ],
      "metadata": {
        "id": "hrhWfBDaDkvl"
      }
    },
    {
      "cell_type": "code",
      "source": [
        "#df = df.dropna()"
      ],
      "metadata": {
        "id": "VcvD1FDqDliP"
      },
      "execution_count": 25,
      "outputs": []
    },
    {
      "cell_type": "markdown",
      "metadata": {
        "id": "zZ5wzm6u3p8b"
      },
      "source": [
        "## 03 Data Cleaning"
      ]
    },
    {
      "cell_type": "markdown",
      "metadata": {
        "id": "RAq3ZBRe3tuv"
      },
      "source": [
        "### 03.01 Replacing Variable Component"
      ]
    },
    {
      "cell_type": "code",
      "source": [
        "'''value_dict = {} # fill this\n",
        "\n",
        "column_name = ''\n",
        "\n",
        "df[column_name] = df[column_name].replace(value_dict) #'''"
      ],
      "metadata": {
        "id": "_4di37C9vi0L",
        "colab": {
          "base_uri": "https://localhost:8080/",
          "height": 36
        },
        "outputId": "2bf4f8ea-9cd2-4f0d-a1ae-b7e4b7513599"
      },
      "execution_count": 26,
      "outputs": [
        {
          "output_type": "execute_result",
          "data": {
            "text/plain": [
              "\"value_dict = {} # fill this\\n\\ncolumn_name = ''\\n\\ndf[column_name] = df[column_name].replace(value_dict) #\""
            ],
            "application/vnd.google.colaboratory.intrinsic+json": {
              "type": "string"
            }
          },
          "metadata": {},
          "execution_count": 26
        }
      ]
    },
    {
      "cell_type": "markdown",
      "metadata": {
        "id": "UhN7QUOc3xcM"
      },
      "source": [
        "### 03.02 Add New Variable"
      ]
    },
    {
      "cell_type": "markdown",
      "source": [
        "#### 03.02.01 Add by Math Calculation"
      ],
      "metadata": {
        "id": "o11m0VqGyHxJ"
      }
    },
    {
      "cell_type": "code",
      "source": [
        "'''new_var = '' # fill this\n",
        "obj_var1 = '' # fill this\n",
        "obj_var2 = '' # fill this\n",
        "\n",
        "df[new_var] = df[obj_var1] * df [obj_var2] #'''"
      ],
      "metadata": {
        "id": "lGpjGoVcxrkk",
        "colab": {
          "base_uri": "https://localhost:8080/",
          "height": 36
        },
        "outputId": "8e07cf9d-a168-40ea-8cba-6dc62d8266a0"
      },
      "execution_count": 27,
      "outputs": [
        {
          "output_type": "execute_result",
          "data": {
            "text/plain": [
              "\"new_var = '' # fill this\\nobj_var1 = '' # fill this\\nobj_var2 = '' # fill this\\n\\ndf[new_var] = df[obj_var1] * df [obj_var2] #\""
            ],
            "application/vnd.google.colaboratory.intrinsic+json": {
              "type": "string"
            }
          },
          "metadata": {},
          "execution_count": 27
        }
      ]
    },
    {
      "cell_type": "markdown",
      "source": [
        "#### 03.02.02 Add by Replacing \"Other\""
      ],
      "metadata": {
        "id": "GyvnQq22yRJW"
      }
    },
    {
      "cell_type": "code",
      "source": [
        "'''column_name = '' # fill this\n",
        "\n",
        "df[column_name].value_counts() #'''"
      ],
      "metadata": {
        "id": "_jw38_9QyQVC",
        "colab": {
          "base_uri": "https://localhost:8080/",
          "height": 36
        },
        "outputId": "97c8b3a7-6d92-47dd-8aaa-73745f84ac3b"
      },
      "execution_count": 28,
      "outputs": [
        {
          "output_type": "execute_result",
          "data": {
            "text/plain": [
              "\"column_name = '' # fill this\\n\\ndf[column_name].value_counts() #\""
            ],
            "application/vnd.google.colaboratory.intrinsic+json": {
              "type": "string"
            }
          },
          "metadata": {},
          "execution_count": 28
        }
      ]
    },
    {
      "cell_type": "code",
      "source": [
        "'''value_thres = 1300\n",
        "\n",
        "replace_list = []\n",
        "\n",
        "df_dict = df[column_name].value_counts().to_dict()\n",
        "for i in df_dict:\n",
        "  if df_dict[i] < value_thres:\n",
        "    replace_list.append(i)\n",
        "\n",
        "replace_list #'''"
      ],
      "metadata": {
        "id": "kZJA4Fnfymrm",
        "colab": {
          "base_uri": "https://localhost:8080/",
          "height": 36
        },
        "outputId": "8986d5c4-1ab7-4dc3-f92a-dbda6606f8b9"
      },
      "execution_count": 29,
      "outputs": [
        {
          "output_type": "execute_result",
          "data": {
            "text/plain": [
              "'value_thres = 1300\\n\\nreplace_list = []\\n\\ndf_dict = df[column_name].value_counts().to_dict()\\nfor i in df_dict:\\n  if df_dict[i] < value_thres:\\n    replace_list.append(i)\\n\\nreplace_list #'"
            ],
            "application/vnd.google.colaboratory.intrinsic+json": {
              "type": "string"
            }
          },
          "metadata": {},
          "execution_count": 29
        }
      ]
    },
    {
      "cell_type": "code",
      "source": [
        "'''df[column_name] = df[column_name].copy().replace(to_replace = replace_list, value = 'Other') #'''"
      ],
      "metadata": {
        "id": "nkTtUFjLy1fZ",
        "colab": {
          "base_uri": "https://localhost:8080/",
          "height": 36
        },
        "outputId": "14a5f45d-3d21-44b8-d5de-e65ad22e1d4e"
      },
      "execution_count": 30,
      "outputs": [
        {
          "output_type": "execute_result",
          "data": {
            "text/plain": [
              "\"df[column_name] = df[column_name].copy().replace(to_replace = replace_list, value = 'Other') #\""
            ],
            "application/vnd.google.colaboratory.intrinsic+json": {
              "type": "string"
            }
          },
          "metadata": {},
          "execution_count": 30
        }
      ]
    },
    {
      "cell_type": "markdown",
      "metadata": {
        "id": "zNL31wAI31lM"
      },
      "source": [
        "### 03.03 Inaccuracies"
      ]
    },
    {
      "cell_type": "code",
      "source": [
        "column_list = [] # fill this\n",
        "\n",
        "for x in column_list:\n",
        "  try:\n",
        "    df[x] = df[x].replace('0', np.nan)\n",
        "    df = df.dropna()\n",
        "  except:\n",
        "    pass"
      ],
      "metadata": {
        "id": "sRqdwAhJzAPj"
      },
      "execution_count": 31,
      "outputs": []
    },
    {
      "cell_type": "markdown",
      "metadata": {
        "id": "Mn22d9xs4I6o"
      },
      "source": [
        "### 03.04 Handling"
      ]
    },
    {
      "cell_type": "markdown",
      "source": [
        "##### Data Distribution Check (Before)"
      ],
      "metadata": {
        "id": "ZB1pnlApyd8U"
      }
    },
    {
      "cell_type": "code",
      "execution_count": 32,
      "metadata": {
        "id": "llH-hNJ2_sPy",
        "colab": {
          "base_uri": "https://localhost:8080/",
          "height": 161
        },
        "outputId": "def27179-193b-4913-c9ba-c273697e6d97"
      },
      "outputs": [
        {
          "output_type": "execute_result",
          "data": {
            "text/plain": [
              "   id  NumDots  SubdomainLevel  PathLevel  UrlLength  NumDash  \\\n",
              "0   1        3               1          5         72        0   \n",
              "1   2        3               1          3        144        0   \n",
              "\n",
              "   NumDashInHostname  AtSymbol  TildeSymbol  NumUnderscore  ...  \\\n",
              "0                  0         0            0              0  ...   \n",
              "1                  0         0            0              2  ...   \n",
              "\n",
              "   IframeOrFrame  MissingTitle  ImagesOnlyInForm  SubdomainLevelRT  \\\n",
              "0              0             0                 1                 1   \n",
              "1              0             0                 0                 1   \n",
              "\n",
              "   UrlLengthRT  PctExtResourceUrlsRT  AbnormalExtFormActionR  \\\n",
              "0            0                     1                       1   \n",
              "1           -1                     1                       1   \n",
              "\n",
              "   ExtMetaScriptLinkRT  PctExtNullSelfRedirectHyperlinksRT  CLASS_LABEL  \n",
              "0                   -1                                   1            1  \n",
              "1                    1                                   1            1  \n",
              "\n",
              "[2 rows x 50 columns]"
            ],
            "text/html": [
              "\n",
              "  <div id=\"df-2d69459f-c60d-416f-b660-0ca3ee8113fc\" class=\"colab-df-container\">\n",
              "    <div>\n",
              "<style scoped>\n",
              "    .dataframe tbody tr th:only-of-type {\n",
              "        vertical-align: middle;\n",
              "    }\n",
              "\n",
              "    .dataframe tbody tr th {\n",
              "        vertical-align: top;\n",
              "    }\n",
              "\n",
              "    .dataframe thead th {\n",
              "        text-align: right;\n",
              "    }\n",
              "</style>\n",
              "<table border=\"1\" class=\"dataframe\">\n",
              "  <thead>\n",
              "    <tr style=\"text-align: right;\">\n",
              "      <th></th>\n",
              "      <th>id</th>\n",
              "      <th>NumDots</th>\n",
              "      <th>SubdomainLevel</th>\n",
              "      <th>PathLevel</th>\n",
              "      <th>UrlLength</th>\n",
              "      <th>NumDash</th>\n",
              "      <th>NumDashInHostname</th>\n",
              "      <th>AtSymbol</th>\n",
              "      <th>TildeSymbol</th>\n",
              "      <th>NumUnderscore</th>\n",
              "      <th>...</th>\n",
              "      <th>IframeOrFrame</th>\n",
              "      <th>MissingTitle</th>\n",
              "      <th>ImagesOnlyInForm</th>\n",
              "      <th>SubdomainLevelRT</th>\n",
              "      <th>UrlLengthRT</th>\n",
              "      <th>PctExtResourceUrlsRT</th>\n",
              "      <th>AbnormalExtFormActionR</th>\n",
              "      <th>ExtMetaScriptLinkRT</th>\n",
              "      <th>PctExtNullSelfRedirectHyperlinksRT</th>\n",
              "      <th>CLASS_LABEL</th>\n",
              "    </tr>\n",
              "  </thead>\n",
              "  <tbody>\n",
              "    <tr>\n",
              "      <th>0</th>\n",
              "      <td>1</td>\n",
              "      <td>3</td>\n",
              "      <td>1</td>\n",
              "      <td>5</td>\n",
              "      <td>72</td>\n",
              "      <td>0</td>\n",
              "      <td>0</td>\n",
              "      <td>0</td>\n",
              "      <td>0</td>\n",
              "      <td>0</td>\n",
              "      <td>...</td>\n",
              "      <td>0</td>\n",
              "      <td>0</td>\n",
              "      <td>1</td>\n",
              "      <td>1</td>\n",
              "      <td>0</td>\n",
              "      <td>1</td>\n",
              "      <td>1</td>\n",
              "      <td>-1</td>\n",
              "      <td>1</td>\n",
              "      <td>1</td>\n",
              "    </tr>\n",
              "    <tr>\n",
              "      <th>1</th>\n",
              "      <td>2</td>\n",
              "      <td>3</td>\n",
              "      <td>1</td>\n",
              "      <td>3</td>\n",
              "      <td>144</td>\n",
              "      <td>0</td>\n",
              "      <td>0</td>\n",
              "      <td>0</td>\n",
              "      <td>0</td>\n",
              "      <td>2</td>\n",
              "      <td>...</td>\n",
              "      <td>0</td>\n",
              "      <td>0</td>\n",
              "      <td>0</td>\n",
              "      <td>1</td>\n",
              "      <td>-1</td>\n",
              "      <td>1</td>\n",
              "      <td>1</td>\n",
              "      <td>1</td>\n",
              "      <td>1</td>\n",
              "      <td>1</td>\n",
              "    </tr>\n",
              "  </tbody>\n",
              "</table>\n",
              "<p>2 rows × 50 columns</p>\n",
              "</div>\n",
              "    <div class=\"colab-df-buttons\">\n",
              "\n",
              "  <div class=\"colab-df-container\">\n",
              "    <button class=\"colab-df-convert\" onclick=\"convertToInteractive('df-2d69459f-c60d-416f-b660-0ca3ee8113fc')\"\n",
              "            title=\"Convert this dataframe to an interactive table.\"\n",
              "            style=\"display:none;\">\n",
              "\n",
              "  <svg xmlns=\"http://www.w3.org/2000/svg\" height=\"24px\" viewBox=\"0 -960 960 960\">\n",
              "    <path d=\"M120-120v-720h720v720H120Zm60-500h600v-160H180v160Zm220 220h160v-160H400v160Zm0 220h160v-160H400v160ZM180-400h160v-160H180v160Zm440 0h160v-160H620v160ZM180-180h160v-160H180v160Zm440 0h160v-160H620v160Z\"/>\n",
              "  </svg>\n",
              "    </button>\n",
              "\n",
              "  <style>\n",
              "    .colab-df-container {\n",
              "      display:flex;\n",
              "      gap: 12px;\n",
              "    }\n",
              "\n",
              "    .colab-df-convert {\n",
              "      background-color: #E8F0FE;\n",
              "      border: none;\n",
              "      border-radius: 50%;\n",
              "      cursor: pointer;\n",
              "      display: none;\n",
              "      fill: #1967D2;\n",
              "      height: 32px;\n",
              "      padding: 0 0 0 0;\n",
              "      width: 32px;\n",
              "    }\n",
              "\n",
              "    .colab-df-convert:hover {\n",
              "      background-color: #E2EBFA;\n",
              "      box-shadow: 0px 1px 2px rgba(60, 64, 67, 0.3), 0px 1px 3px 1px rgba(60, 64, 67, 0.15);\n",
              "      fill: #174EA6;\n",
              "    }\n",
              "\n",
              "    .colab-df-buttons div {\n",
              "      margin-bottom: 4px;\n",
              "    }\n",
              "\n",
              "    [theme=dark] .colab-df-convert {\n",
              "      background-color: #3B4455;\n",
              "      fill: #D2E3FC;\n",
              "    }\n",
              "\n",
              "    [theme=dark] .colab-df-convert:hover {\n",
              "      background-color: #434B5C;\n",
              "      box-shadow: 0px 1px 3px 1px rgba(0, 0, 0, 0.15);\n",
              "      filter: drop-shadow(0px 1px 2px rgba(0, 0, 0, 0.3));\n",
              "      fill: #FFFFFF;\n",
              "    }\n",
              "  </style>\n",
              "\n",
              "    <script>\n",
              "      const buttonEl =\n",
              "        document.querySelector('#df-2d69459f-c60d-416f-b660-0ca3ee8113fc button.colab-df-convert');\n",
              "      buttonEl.style.display =\n",
              "        google.colab.kernel.accessAllowed ? 'block' : 'none';\n",
              "\n",
              "      async function convertToInteractive(key) {\n",
              "        const element = document.querySelector('#df-2d69459f-c60d-416f-b660-0ca3ee8113fc');\n",
              "        const dataTable =\n",
              "          await google.colab.kernel.invokeFunction('convertToInteractive',\n",
              "                                                    [key], {});\n",
              "        if (!dataTable) return;\n",
              "\n",
              "        const docLinkHtml = 'Like what you see? Visit the ' +\n",
              "          '<a target=\"_blank\" href=https://colab.research.google.com/notebooks/data_table.ipynb>data table notebook</a>'\n",
              "          + ' to learn more about interactive tables.';\n",
              "        element.innerHTML = '';\n",
              "        dataTable['output_type'] = 'display_data';\n",
              "        await google.colab.output.renderOutput(dataTable, element);\n",
              "        const docLink = document.createElement('div');\n",
              "        docLink.innerHTML = docLinkHtml;\n",
              "        element.appendChild(docLink);\n",
              "      }\n",
              "    </script>\n",
              "  </div>\n",
              "\n",
              "\n",
              "<div id=\"df-f85fb262-4bd8-4bcf-be10-597633e175a3\">\n",
              "  <button class=\"colab-df-quickchart\" onclick=\"quickchart('df-f85fb262-4bd8-4bcf-be10-597633e175a3')\"\n",
              "            title=\"Suggest charts\"\n",
              "            style=\"display:none;\">\n",
              "\n",
              "<svg xmlns=\"http://www.w3.org/2000/svg\" height=\"24px\"viewBox=\"0 0 24 24\"\n",
              "     width=\"24px\">\n",
              "    <g>\n",
              "        <path d=\"M19 3H5c-1.1 0-2 .9-2 2v14c0 1.1.9 2 2 2h14c1.1 0 2-.9 2-2V5c0-1.1-.9-2-2-2zM9 17H7v-7h2v7zm4 0h-2V7h2v10zm4 0h-2v-4h2v4z\"/>\n",
              "    </g>\n",
              "</svg>\n",
              "  </button>\n",
              "\n",
              "<style>\n",
              "  .colab-df-quickchart {\n",
              "      --bg-color: #E8F0FE;\n",
              "      --fill-color: #1967D2;\n",
              "      --hover-bg-color: #E2EBFA;\n",
              "      --hover-fill-color: #174EA6;\n",
              "      --disabled-fill-color: #AAA;\n",
              "      --disabled-bg-color: #DDD;\n",
              "  }\n",
              "\n",
              "  [theme=dark] .colab-df-quickchart {\n",
              "      --bg-color: #3B4455;\n",
              "      --fill-color: #D2E3FC;\n",
              "      --hover-bg-color: #434B5C;\n",
              "      --hover-fill-color: #FFFFFF;\n",
              "      --disabled-bg-color: #3B4455;\n",
              "      --disabled-fill-color: #666;\n",
              "  }\n",
              "\n",
              "  .colab-df-quickchart {\n",
              "    background-color: var(--bg-color);\n",
              "    border: none;\n",
              "    border-radius: 50%;\n",
              "    cursor: pointer;\n",
              "    display: none;\n",
              "    fill: var(--fill-color);\n",
              "    height: 32px;\n",
              "    padding: 0;\n",
              "    width: 32px;\n",
              "  }\n",
              "\n",
              "  .colab-df-quickchart:hover {\n",
              "    background-color: var(--hover-bg-color);\n",
              "    box-shadow: 0 1px 2px rgba(60, 64, 67, 0.3), 0 1px 3px 1px rgba(60, 64, 67, 0.15);\n",
              "    fill: var(--button-hover-fill-color);\n",
              "  }\n",
              "\n",
              "  .colab-df-quickchart-complete:disabled,\n",
              "  .colab-df-quickchart-complete:disabled:hover {\n",
              "    background-color: var(--disabled-bg-color);\n",
              "    fill: var(--disabled-fill-color);\n",
              "    box-shadow: none;\n",
              "  }\n",
              "\n",
              "  .colab-df-spinner {\n",
              "    border: 2px solid var(--fill-color);\n",
              "    border-color: transparent;\n",
              "    border-bottom-color: var(--fill-color);\n",
              "    animation:\n",
              "      spin 1s steps(1) infinite;\n",
              "  }\n",
              "\n",
              "  @keyframes spin {\n",
              "    0% {\n",
              "      border-color: transparent;\n",
              "      border-bottom-color: var(--fill-color);\n",
              "      border-left-color: var(--fill-color);\n",
              "    }\n",
              "    20% {\n",
              "      border-color: transparent;\n",
              "      border-left-color: var(--fill-color);\n",
              "      border-top-color: var(--fill-color);\n",
              "    }\n",
              "    30% {\n",
              "      border-color: transparent;\n",
              "      border-left-color: var(--fill-color);\n",
              "      border-top-color: var(--fill-color);\n",
              "      border-right-color: var(--fill-color);\n",
              "    }\n",
              "    40% {\n",
              "      border-color: transparent;\n",
              "      border-right-color: var(--fill-color);\n",
              "      border-top-color: var(--fill-color);\n",
              "    }\n",
              "    60% {\n",
              "      border-color: transparent;\n",
              "      border-right-color: var(--fill-color);\n",
              "    }\n",
              "    80% {\n",
              "      border-color: transparent;\n",
              "      border-right-color: var(--fill-color);\n",
              "      border-bottom-color: var(--fill-color);\n",
              "    }\n",
              "    90% {\n",
              "      border-color: transparent;\n",
              "      border-bottom-color: var(--fill-color);\n",
              "    }\n",
              "  }\n",
              "</style>\n",
              "\n",
              "  <script>\n",
              "    async function quickchart(key) {\n",
              "      const quickchartButtonEl =\n",
              "        document.querySelector('#' + key + ' button');\n",
              "      quickchartButtonEl.disabled = true;  // To prevent multiple clicks.\n",
              "      quickchartButtonEl.classList.add('colab-df-spinner');\n",
              "      try {\n",
              "        const charts = await google.colab.kernel.invokeFunction(\n",
              "            'suggestCharts', [key], {});\n",
              "      } catch (error) {\n",
              "        console.error('Error during call to suggestCharts:', error);\n",
              "      }\n",
              "      quickchartButtonEl.classList.remove('colab-df-spinner');\n",
              "      quickchartButtonEl.classList.add('colab-df-quickchart-complete');\n",
              "    }\n",
              "    (() => {\n",
              "      let quickchartButtonEl =\n",
              "        document.querySelector('#df-f85fb262-4bd8-4bcf-be10-597633e175a3 button');\n",
              "      quickchartButtonEl.style.display =\n",
              "        google.colab.kernel.accessAllowed ? 'block' : 'none';\n",
              "    })();\n",
              "  </script>\n",
              "</div>\n",
              "\n",
              "    </div>\n",
              "  </div>\n"
            ],
            "application/vnd.google.colaboratory.intrinsic+json": {
              "type": "dataframe",
              "variable_name": "df"
            }
          },
          "metadata": {},
          "execution_count": 32
        }
      ],
      "source": [
        "df.head(2)"
      ]
    },
    {
      "cell_type": "code",
      "source": [
        "df.info()"
      ],
      "metadata": {
        "id": "voNuk-oirOx2",
        "colab": {
          "base_uri": "https://localhost:8080/"
        },
        "outputId": "ad960bd1-e439-4074-d2ab-dd8b0011fb71"
      },
      "execution_count": 33,
      "outputs": [
        {
          "output_type": "stream",
          "name": "stdout",
          "text": [
            "<class 'pandas.core.frame.DataFrame'>\n",
            "RangeIndex: 10000 entries, 0 to 9999\n",
            "Data columns (total 50 columns):\n",
            " #   Column                              Non-Null Count  Dtype  \n",
            "---  ------                              --------------  -----  \n",
            " 0   id                                  10000 non-null  int64  \n",
            " 1   NumDots                             10000 non-null  int64  \n",
            " 2   SubdomainLevel                      10000 non-null  int64  \n",
            " 3   PathLevel                           10000 non-null  int64  \n",
            " 4   UrlLength                           10000 non-null  int64  \n",
            " 5   NumDash                             10000 non-null  int64  \n",
            " 6   NumDashInHostname                   10000 non-null  int64  \n",
            " 7   AtSymbol                            10000 non-null  int64  \n",
            " 8   TildeSymbol                         10000 non-null  int64  \n",
            " 9   NumUnderscore                       10000 non-null  int64  \n",
            " 10  NumPercent                          10000 non-null  int64  \n",
            " 11  NumQueryComponents                  10000 non-null  int64  \n",
            " 12  NumAmpersand                        10000 non-null  int64  \n",
            " 13  NumHash                             10000 non-null  int64  \n",
            " 14  NumNumericChars                     10000 non-null  int64  \n",
            " 15  NoHttps                             10000 non-null  int64  \n",
            " 16  RandomString                        10000 non-null  int64  \n",
            " 17  IpAddress                           10000 non-null  int64  \n",
            " 18  DomainInSubdomains                  10000 non-null  int64  \n",
            " 19  DomainInPaths                       10000 non-null  int64  \n",
            " 20  HttpsInHostname                     10000 non-null  int64  \n",
            " 21  HostnameLength                      10000 non-null  int64  \n",
            " 22  PathLength                          10000 non-null  int64  \n",
            " 23  QueryLength                         10000 non-null  int64  \n",
            " 24  DoubleSlashInPath                   10000 non-null  int64  \n",
            " 25  NumSensitiveWords                   10000 non-null  int64  \n",
            " 26  EmbeddedBrandName                   10000 non-null  int64  \n",
            " 27  PctExtHyperlinks                    10000 non-null  float64\n",
            " 28  PctExtResourceUrls                  10000 non-null  float64\n",
            " 29  ExtFavicon                          10000 non-null  int64  \n",
            " 30  InsecureForms                       10000 non-null  int64  \n",
            " 31  RelativeFormAction                  10000 non-null  int64  \n",
            " 32  ExtFormAction                       10000 non-null  int64  \n",
            " 33  AbnormalFormAction                  10000 non-null  int64  \n",
            " 34  PctNullSelfRedirectHyperlinks       10000 non-null  float64\n",
            " 35  FrequentDomainNameMismatch          10000 non-null  int64  \n",
            " 36  FakeLinkInStatusBar                 10000 non-null  int64  \n",
            " 37  RightClickDisabled                  10000 non-null  int64  \n",
            " 38  PopUpWindow                         10000 non-null  int64  \n",
            " 39  SubmitInfoToEmail                   10000 non-null  int64  \n",
            " 40  IframeOrFrame                       10000 non-null  int64  \n",
            " 41  MissingTitle                        10000 non-null  int64  \n",
            " 42  ImagesOnlyInForm                    10000 non-null  int64  \n",
            " 43  SubdomainLevelRT                    10000 non-null  int64  \n",
            " 44  UrlLengthRT                         10000 non-null  int64  \n",
            " 45  PctExtResourceUrlsRT                10000 non-null  int64  \n",
            " 46  AbnormalExtFormActionR              10000 non-null  int64  \n",
            " 47  ExtMetaScriptLinkRT                 10000 non-null  int64  \n",
            " 48  PctExtNullSelfRedirectHyperlinksRT  10000 non-null  int64  \n",
            " 49  CLASS_LABEL                         10000 non-null  int64  \n",
            "dtypes: float64(3), int64(47)\n",
            "memory usage: 3.8 MB\n"
          ]
        }
      ]
    },
    {
      "cell_type": "code",
      "execution_count": 34,
      "metadata": {
        "id": "DeO-8jHm4F8b",
        "colab": {
          "base_uri": "https://localhost:8080/",
          "height": 55
        },
        "outputId": "ed1d06bc-45ca-4c70-a7d6-b6be096fc46e"
      },
      "outputs": [
        {
          "output_type": "execute_result",
          "data": {
            "text/plain": [
              "\"x = 'current_month_debit' # replace this\\ny = 'current_month_balance' # replace this\\ncolor = 'occupation' # replace this\\n\\nfig = px.histogram(\\n  df,\\n  x = x,\\n  y = y,\\n  color = color,\\n  marginal = 'box',\\n  hover_data = df.columns\\n)\\n\\nfig.show() #\""
            ],
            "application/vnd.google.colaboratory.intrinsic+json": {
              "type": "string"
            }
          },
          "metadata": {},
          "execution_count": 34
        }
      ],
      "source": [
        "'''x = 'current_month_debit' # replace this\n",
        "y = 'current_month_balance' # replace this\n",
        "color = 'occupation' # replace this\n",
        "\n",
        "fig = px.histogram(\n",
        "  df,\n",
        "  x = x,\n",
        "  y = y,\n",
        "  color = color,\n",
        "  marginal = 'box',\n",
        "  hover_data = df.columns\n",
        ")\n",
        "\n",
        "fig.show() #'''"
      ]
    },
    {
      "cell_type": "code",
      "source": [
        "'''x = 'current_month_debit' # replace this\n",
        "y = 'current_month_balance' # replace this\n",
        "color = 'occupation' # replace this\n",
        "\n",
        "fig = px.scatter(\n",
        "  df,\n",
        "  x = x,\n",
        "  y = y,\n",
        "  color = color,\n",
        "  marginal_x = 'histogram',\n",
        "  marginal_y = 'box',\n",
        "  hover_data = df.columns\n",
        ")\n",
        "\n",
        "fig.show() #'''"
      ],
      "metadata": {
        "id": "OCvcFlfZM6jl",
        "colab": {
          "base_uri": "https://localhost:8080/",
          "height": 55
        },
        "outputId": "cea889d3-2129-48ba-c003-7ba0b83f1600"
      },
      "execution_count": 35,
      "outputs": [
        {
          "output_type": "execute_result",
          "data": {
            "text/plain": [
              "\"x = 'current_month_debit' # replace this\\ny = 'current_month_balance' # replace this\\ncolor = 'occupation' # replace this\\n\\nfig = px.scatter(\\n  df,\\n  x = x,\\n  y = y,\\n  color = color,\\n  marginal_x = 'histogram',\\n  marginal_y = 'box',\\n  hover_data = df.columns\\n)\\n\\nfig.show() #\""
            ],
            "application/vnd.google.colaboratory.intrinsic+json": {
              "type": "string"
            }
          },
          "metadata": {},
          "execution_count": 35
        }
      ]
    },
    {
      "cell_type": "markdown",
      "metadata": {
        "id": "Tci2Qaok4Vt-"
      },
      "source": [
        "#### 03.04.01 Using IQR (Inter Quantile Range)"
      ]
    },
    {
      "cell_type": "code",
      "execution_count": 36,
      "metadata": {
        "id": "Mt7FHMFz4YdV"
      },
      "outputs": [],
      "source": [
        "def iqr_thres(dataframe, column, th1 = 0.25, th3 = 0.75):\n",
        "  quartile1 = dataframe[column].quantile(th1)\n",
        "  quartile3 = dataframe[column].quantile(th3)\n",
        "  iqr = quartile3 - quartile1\n",
        "  upper_limit = quartile3 + 1.5 * iqr\n",
        "  lower_limit = quartile1 - 1.5 * iqr\n",
        "\n",
        "  return lower_limit, upper_limit"
      ]
    },
    {
      "cell_type": "code",
      "execution_count": 37,
      "metadata": {
        "id": "dRaHXuvQ4ZBb"
      },
      "outputs": [],
      "source": [
        "def check_outliers_iqr(dataframe, column):\n",
        "  lower_limit, upper_limit = iqr_thres(dataframe, column)\n",
        "  if dataframe[(dataframe[column] > upper_limit) | (dataframe[column] < lower_limit)].any(axis = None):\n",
        "    return True\n",
        "  else:\n",
        "    return False"
      ]
    },
    {
      "cell_type": "code",
      "execution_count": 38,
      "metadata": {
        "id": "FRncku9Q4dLW"
      },
      "outputs": [],
      "source": [
        "def replace_iqr(dataframe, columns, th1 = 0.25, th3 = 0.75, replace = False):\n",
        "  data = []\n",
        "\n",
        "  for column in columns:\n",
        "    if dataframe[column].dtypes == 'int64' or dataframe[column].dtypes == 'float64':\n",
        "      if column != 'Outcome':\n",
        "        outliers_ = check_outliers_iqr(dataframe, column)\n",
        "        count = None\n",
        "        lower_limit, upper_limit = iqr_thres(dataframe, column, th1, th3)\n",
        "\n",
        "        if outliers_:\n",
        "          count = dataframe[(dataframe[column] > upper_limit) | (dataframe[column] < lower_limit)][column].count()\n",
        "          if replace:\n",
        "            if lower_limit < 0:\n",
        "              dataframe.loc[(dataframe[column] > upper_limit), column] = np.nan\n",
        "            else:\n",
        "              dataframe.loc[(dataframe[column] < lower_limit), column] = np.nan\n",
        "              dataframe.loc[(dataframe[column] > upper_limit), column] = np.nan\n",
        "        outliers_status = check_outliers_iqr(dataframe, column)\n",
        "        data.append([outliers_, outliers_status, count, column, lower_limit, upper_limit ])\n",
        "\n",
        "  table = tabulate(data, headers = ['Outliers (Previously)', 'Outliers', 'Count', 'Column', 'Lower Limit', 'Upper Limit'], tablefmt = 'rst', numalign = 'right')\n",
        "  print('Removing Outliers using IQR')\n",
        "  print(table)"
      ]
    },
    {
      "cell_type": "code",
      "execution_count": 39,
      "metadata": {
        "id": "GfPGmOvI4f89",
        "colab": {
          "base_uri": "https://localhost:8080/"
        },
        "outputId": "fb19b231-8555-46dd-e18b-f1d0f30ebd95"
      },
      "outputs": [
        {
          "output_type": "stream",
          "name": "stdout",
          "text": [
            "Removing Outliers using IQR\n",
            "=======================  ==========  =======  ========  =============  =============\n",
            "Outliers (Previously)    Outliers    Count    Column    Lower Limit    Upper Limit\n",
            "=======================  ==========  =======  ========  =============  =============\n",
            "=======================  ==========  =======  ========  =============  =============\n"
          ]
        }
      ],
      "source": [
        "column_list = [] # fill this\n",
        "\n",
        "replace_iqr(\n",
        "  dataframe = df,\n",
        "  columns = column_list,\n",
        "  replace = True\n",
        ")\n",
        "df = df.dropna()#'''"
      ]
    },
    {
      "cell_type": "markdown",
      "metadata": {
        "id": "VUeLtiYd4kMs"
      },
      "source": [
        "#### 03.04.02 Using Standard Deviation"
      ]
    },
    {
      "cell_type": "code",
      "execution_count": 40,
      "metadata": {
        "id": "gFPjk_Zb4j3m"
      },
      "outputs": [],
      "source": [
        "def std_thres(dataframe, column):\n",
        "  upper_limit = dataframe[column].mean() + 3 * dataframe[column].std()\n",
        "  lower_limit = dataframe[column].mean() - 3 * dataframe[column].std()\n",
        "\n",
        "  return lower_limit, upper_limit"
      ]
    },
    {
      "cell_type": "code",
      "execution_count": 41,
      "metadata": {
        "id": "rkImfexs4nbm"
      },
      "outputs": [],
      "source": [
        "def check_outliers_std(dataframe, column):\n",
        "  lower_limit, upper_limit = std_thres(dataframe, column)\n",
        "  if dataframe[(dataframe[column] > upper_limit) | (dataframe[column] < lower_limit)].any(axis = None):\n",
        "    return True\n",
        "  else:\n",
        "    return False"
      ]
    },
    {
      "cell_type": "code",
      "execution_count": 42,
      "metadata": {
        "id": "gHycsqre4qX6"
      },
      "outputs": [],
      "source": [
        "def replace_std(dataframe, columns, replace = False):\n",
        "  data = []\n",
        "\n",
        "  for column in columns:\n",
        "    if dataframe[column].dtypes == 'int64' or dataframe[column].dtypes == 'float64':\n",
        "      if column != 'Outcome':\n",
        "        outliers_ = check_outliers_std(dataframe, column)\n",
        "        count = None\n",
        "        lower_limit, upper_limit = std_thres(dataframe, column)\n",
        "\n",
        "        if outliers_:\n",
        "          count = dataframe[(dataframe[column] > upper_limit) | (dataframe[column] < lower_limit)][column].count()\n",
        "          if replace:\n",
        "            if lower_limit < 0:\n",
        "              dataframe.loc[(dataframe[column] > upper_limit), column] = np.nan\n",
        "            else:\n",
        "              dataframe.loc[(dataframe[column] < lower_limit), column] = np.nan\n",
        "              dataframe.loc[(dataframe[column] > upper_limit), column] = np.nan\n",
        "        outliers_status = check_outliers_std(dataframe, column)\n",
        "        data.append([outliers_, outliers_status, count, column, lower_limit, upper_limit])\n",
        "\n",
        "  table = tabulate(data, headers = ['Outlier (Previously)', 'Outliers', 'Count', 'Column', 'Lower Limit', 'Upper Limit'], tablefmt = 'rst', numalign = 'right')\n",
        "  print('Removing Outliers using 3 Standard Deviation')\n",
        "  print(table)"
      ]
    },
    {
      "cell_type": "code",
      "execution_count": 43,
      "metadata": {
        "id": "D_pvh2IL4q2I",
        "colab": {
          "base_uri": "https://localhost:8080/"
        },
        "outputId": "98708c4c-34ba-4651-85bc-400460a57285"
      },
      "outputs": [
        {
          "output_type": "stream",
          "name": "stdout",
          "text": [
            "Removing Outliers using 3 Standard Deviation\n",
            "======================  ==========  =======  ========  =============  =============\n",
            "Outlier (Previously)    Outliers    Count    Column    Lower Limit    Upper Limit\n",
            "======================  ==========  =======  ========  =============  =============\n",
            "======================  ==========  =======  ========  =============  =============\n"
          ]
        }
      ],
      "source": [
        "column_list = [] # fill this\n",
        "\n",
        "replace_std(\n",
        "  dataframe = df,\n",
        "  columns = column_list,\n",
        "  replace = True\n",
        ")\n",
        "df = df.dropna()#'''"
      ]
    },
    {
      "cell_type": "markdown",
      "metadata": {
        "id": "IEqxjPOT4vTP"
      },
      "source": [
        "### 03.05 Handling Missing / Zeros / Null\n",
        "##### Filling missing value (numerical only) is better using median than mean or mode"
      ]
    },
    {
      "cell_type": "markdown",
      "metadata": {
        "id": "EVpvT5IV4zdY"
      },
      "source": [
        "#### 03.05.01 Detecting Zero Value"
      ]
    },
    {
      "cell_type": "code",
      "execution_count": 44,
      "metadata": {
        "id": "is7a1I744wMK",
        "colab": {
          "base_uri": "https://localhost:8080/"
        },
        "outputId": "3eedbce1-cd71-4477-f24d-4575955488ba"
      },
      "outputs": [
        {
          "output_type": "stream",
          "name": "stdout",
          "text": [
            "SubdomainLevel : 4835\n",
            "PathLevel : 335\n",
            "NumDash : 5001\n",
            "NumDashInHostname : 9066\n",
            "AtSymbol : 9997\n",
            "TildeSymbol : 9869\n",
            "NumUnderscore : 8617\n",
            "NumPercent : 9727\n",
            "NumQueryComponents : 8134\n",
            "NumAmpersand : 8975\n",
            "NumHash : 9977\n",
            "NumNumericChars : 4266\n",
            "NoHttps : 112\n",
            "RandomString : 4748\n",
            "IpAddress : 9828\n",
            "DomainInSubdomains : 9778\n",
            "DomainInPaths : 5711\n",
            "HttpsInHostname : 10000\n",
            "PathLength : 9\n",
            "QueryLength : 8013\n",
            "DoubleSlashInPath : 9991\n",
            "NumSensitiveWords : 9089\n",
            "EmbeddedBrandName : 9429\n",
            "PctExtHyperlinks : 3291\n",
            "PctExtResourceUrls : 2330\n",
            "ExtFavicon : 8328\n",
            "InsecureForms : 1560\n",
            "RelativeFormAction : 7513\n",
            "ExtFormAction : 8982\n",
            "AbnormalFormAction : 9424\n",
            "PctNullSelfRedirectHyperlinks : 5783\n",
            "FrequentDomainNameMismatch : 7847\n",
            "FakeLinkInStatusBar : 9945\n",
            "RightClickDisabled : 9860\n",
            "PopUpWindow : 9951\n",
            "SubmitInfoToEmail : 8712\n",
            "IframeOrFrame : 6604\n",
            "MissingTitle : 9678\n",
            "ImagesOnlyInForm : 9696\n",
            "SubdomainLevelRT : 234\n",
            "UrlLengthRT : 3272\n",
            "PctExtResourceUrlsRT : 851\n",
            "AbnormalExtFormActionR : 994\n",
            "ExtMetaScriptLinkRT : 3988\n",
            "PctExtNullSelfRedirectHyperlinksRT : 953\n",
            "CLASS_LABEL : 5000\n"
          ]
        },
        {
          "output_type": "execute_result",
          "data": {
            "text/plain": [
              "['SubdomainLevel',\n",
              " 'PathLevel',\n",
              " 'NumDash',\n",
              " 'NumDashInHostname',\n",
              " 'AtSymbol',\n",
              " 'TildeSymbol',\n",
              " 'NumUnderscore',\n",
              " 'NumPercent',\n",
              " 'NumQueryComponents',\n",
              " 'NumAmpersand',\n",
              " 'NumHash',\n",
              " 'NumNumericChars',\n",
              " 'NoHttps',\n",
              " 'RandomString',\n",
              " 'IpAddress',\n",
              " 'DomainInSubdomains',\n",
              " 'DomainInPaths',\n",
              " 'HttpsInHostname',\n",
              " 'PathLength',\n",
              " 'QueryLength',\n",
              " 'DoubleSlashInPath',\n",
              " 'NumSensitiveWords',\n",
              " 'EmbeddedBrandName',\n",
              " 'PctExtHyperlinks',\n",
              " 'PctExtResourceUrls',\n",
              " 'ExtFavicon',\n",
              " 'InsecureForms',\n",
              " 'RelativeFormAction',\n",
              " 'ExtFormAction',\n",
              " 'AbnormalFormAction',\n",
              " 'PctNullSelfRedirectHyperlinks',\n",
              " 'FrequentDomainNameMismatch',\n",
              " 'FakeLinkInStatusBar',\n",
              " 'RightClickDisabled',\n",
              " 'PopUpWindow',\n",
              " 'SubmitInfoToEmail',\n",
              " 'IframeOrFrame',\n",
              " 'MissingTitle',\n",
              " 'ImagesOnlyInForm',\n",
              " 'SubdomainLevelRT',\n",
              " 'UrlLengthRT',\n",
              " 'PctExtResourceUrlsRT',\n",
              " 'AbnormalExtFormActionR',\n",
              " 'ExtMetaScriptLinkRT',\n",
              " 'PctExtNullSelfRedirectHyperlinksRT',\n",
              " 'CLASS_LABEL']"
            ]
          },
          "metadata": {},
          "execution_count": 44
        }
      ],
      "source": [
        "zero_columns = [] # fill this\n",
        "\n",
        "for x in df.columns:\n",
        "  if df[x].dtypes == 'int64' or df[x].dtypes == 'float64':\n",
        "    if (df[x] == 0).sum() != 0:\n",
        "      print(x, ':', str((df[x] == 0).sum()))\n",
        "      zero_columns.append(x)\n",
        "\n",
        "zero_columns #'''"
      ]
    },
    {
      "cell_type": "markdown",
      "metadata": {
        "id": "t2yFMHRf43pd"
      },
      "source": [
        "#### 03.05.02 Detecting Nan / Non Available Value"
      ]
    },
    {
      "cell_type": "code",
      "execution_count": 45,
      "metadata": {
        "id": "PYM4yhj844Ix",
        "colab": {
          "base_uri": "https://localhost:8080/"
        },
        "outputId": "42ddb673-b3a3-455b-d2d5-a66177a80922"
      },
      "outputs": [
        {
          "output_type": "execute_result",
          "data": {
            "text/plain": [
              "[]"
            ]
          },
          "metadata": {},
          "execution_count": 45
        }
      ],
      "source": [
        "nan_columns = [] # fill this\n",
        "\n",
        "for x in df.columns:\n",
        "  if df[x].dtypes == 'object':\n",
        "    if (df[x] == np.nan).sum() or (df[x] == '-').sum() != 0:\n",
        "      print(x, ':', str((df[x] == np.nan).sum()))\n",
        "      nan_columns.append(x)\n",
        "\n",
        "nan_columns #'''"
      ]
    },
    {
      "cell_type": "markdown",
      "metadata": {
        "id": "w81kHjrH49xD"
      },
      "source": [
        "#### 03.05.03 Replacing Zero with Mean (for numerical value if median value == 0), if necessary"
      ]
    },
    {
      "cell_type": "code",
      "execution_count": 46,
      "metadata": {
        "id": "nLz--vIY5BzU",
        "colab": {
          "base_uri": "https://localhost:8080/",
          "height": 36
        },
        "outputId": "4fb8dc28-1b76-4c82-bdfd-5afc080176e5"
      },
      "outputs": [
        {
          "output_type": "execute_result",
          "data": {
            "text/plain": [
              "'column_list = [] # fill this\\n\\ndf = df.replace(0, np.nan)\\n\\nfor x in column_list:\\n  df[x] = df[x].fillna(df[x].mean()) #'"
            ],
            "application/vnd.google.colaboratory.intrinsic+json": {
              "type": "string"
            }
          },
          "metadata": {},
          "execution_count": 46
        }
      ],
      "source": [
        "'''column_list = [] # fill this\n",
        "\n",
        "df = df.replace(0, np.nan)\n",
        "\n",
        "for x in column_list:\n",
        "  df[x] = df[x].fillna(df[x].mean()) #'''"
      ]
    },
    {
      "cell_type": "markdown",
      "metadata": {
        "id": "MBWAP-1J5Eyi"
      },
      "source": [
        "#### 03.05.04 Replacing Zero with Median (for numerical value if median value != 0), if necessary"
      ]
    },
    {
      "cell_type": "code",
      "execution_count": 47,
      "metadata": {
        "id": "oMvEl4xs5HWd",
        "colab": {
          "base_uri": "https://localhost:8080/",
          "height": 36
        },
        "outputId": "459440a9-fca5-4bad-d9d0-d635382119a6"
      },
      "outputs": [
        {
          "output_type": "execute_result",
          "data": {
            "text/plain": [
              "'column_list = [] # fill this\\n\\ndf = df.replace(0, np.nan)\\n\\nfor x in column_list:\\n  df[x] = df[x].fillna(df[x].median()) #'"
            ],
            "application/vnd.google.colaboratory.intrinsic+json": {
              "type": "string"
            }
          },
          "metadata": {},
          "execution_count": 47
        }
      ],
      "source": [
        "'''column_list = [] # fill this\n",
        "\n",
        "df = df.replace(0, np.nan)\n",
        "\n",
        "for x in column_list:\n",
        "  df[x] = df[x].fillna(df[x].median()) #'''"
      ]
    },
    {
      "cell_type": "markdown",
      "metadata": {
        "id": "dog2-5ML5JQ6"
      },
      "source": [
        "#### 03.05.05 Replacing Zero with Mode (for categorical / object value), if necessary"
      ]
    },
    {
      "cell_type": "code",
      "execution_count": 48,
      "metadata": {
        "id": "dut4TUuq5NHK",
        "colab": {
          "base_uri": "https://localhost:8080/",
          "height": 36
        },
        "outputId": "1d315026-cd2d-4f1f-f2db-51ca768fa6f8"
      },
      "outputs": [
        {
          "output_type": "execute_result",
          "data": {
            "text/plain": [
              "'column_list = [] # fill this\\n\\ndf = df.replace(0, np.nan)\\n\\nfor x in column_list:\\n  df[x] = df[x].fillna(df[x].mode()) #'"
            ],
            "application/vnd.google.colaboratory.intrinsic+json": {
              "type": "string"
            }
          },
          "metadata": {},
          "execution_count": 48
        }
      ],
      "source": [
        "'''column_list = [] # fill this\n",
        "\n",
        "df = df.replace(0, np.nan)\n",
        "\n",
        "for x in column_list:\n",
        "  df[x] = df[x].fillna(df[x].mode()) #'''"
      ]
    },
    {
      "cell_type": "markdown",
      "metadata": {
        "id": "PtFcqtOW5JNo"
      },
      "source": [
        "### 03.06 Handling Incomplete Data"
      ]
    },
    {
      "cell_type": "markdown",
      "metadata": {
        "id": "t-9FaTrv5RlN"
      },
      "source": [
        "### 03.07 Handling Data Biases"
      ]
    },
    {
      "cell_type": "markdown",
      "metadata": {
        "id": "C8cfMYC15Uw3"
      },
      "source": [
        "### 03.08 Handling Duplicates"
      ]
    },
    {
      "cell_type": "code",
      "execution_count": 49,
      "metadata": {
        "id": "vSryzaSI5bNc"
      },
      "outputs": [],
      "source": [
        "#df = df.drop_duplicates()"
      ]
    },
    {
      "cell_type": "markdown",
      "metadata": {
        "id": "Sx0xbr3K5YLO"
      },
      "source": [
        "##### Data Distribution Check (After)"
      ]
    },
    {
      "cell_type": "code",
      "execution_count": 50,
      "metadata": {
        "id": "bA713Qoi5drf",
        "colab": {
          "base_uri": "https://localhost:8080/",
          "height": 55
        },
        "outputId": "7ec9762e-c309-4a03-ecf1-1cadde85ff13"
      },
      "outputs": [
        {
          "output_type": "execute_result",
          "data": {
            "text/plain": [
              "\"x = 'current_month_debit' # replace this\\ny = 'current_month_balance' # replace this\\ncolor = 'occupation' # replace this\\n\\nfig = px.histogram(\\n  df,\\n  x = x,\\n  y = y,\\n  color = color,\\n  marginal = 'box',\\n  hover_data = df.columns\\n)\\n\\nfig.show() #\""
            ],
            "application/vnd.google.colaboratory.intrinsic+json": {
              "type": "string"
            }
          },
          "metadata": {},
          "execution_count": 50
        }
      ],
      "source": [
        "'''x = 'current_month_debit' # replace this\n",
        "y = 'current_month_balance' # replace this\n",
        "color = 'occupation' # replace this\n",
        "\n",
        "fig = px.histogram(\n",
        "  df,\n",
        "  x = x,\n",
        "  y = y,\n",
        "  color = color,\n",
        "  marginal = 'box',\n",
        "  hover_data = df.columns\n",
        ")\n",
        "\n",
        "fig.show() #'''"
      ]
    },
    {
      "cell_type": "code",
      "source": [
        "'''x = 'current_month_debit' # replace this\n",
        "y = 'current_month_balance' # replace this\n",
        "color = 'occupation' # replace this\n",
        "\n",
        "fig = px.scatter(\n",
        "  df,\n",
        "  x = x,\n",
        "  y = y,\n",
        "  color = color,\n",
        "  marginal_x = 'histogram',\n",
        "  marginal_y = 'box',\n",
        "  hover_data = df.columns\n",
        ")\n",
        "\n",
        "fig.show() #'''"
      ],
      "metadata": {
        "id": "RD2kIuYlgkRm",
        "colab": {
          "base_uri": "https://localhost:8080/",
          "height": 55
        },
        "outputId": "75417bcd-4623-4009-f0ec-08883d033268"
      },
      "execution_count": 51,
      "outputs": [
        {
          "output_type": "execute_result",
          "data": {
            "text/plain": [
              "\"x = 'current_month_debit' # replace this\\ny = 'current_month_balance' # replace this\\ncolor = 'occupation' # replace this\\n\\nfig = px.scatter(\\n  df,\\n  x = x,\\n  y = y,\\n  color = color,\\n  marginal_x = 'histogram',\\n  marginal_y = 'box',\\n  hover_data = df.columns\\n)\\n\\nfig.show() #\""
            ],
            "application/vnd.google.colaboratory.intrinsic+json": {
              "type": "string"
            }
          },
          "metadata": {},
          "execution_count": 51
        }
      ]
    },
    {
      "cell_type": "markdown",
      "metadata": {
        "id": "W1O3I_gU5p20"
      },
      "source": [
        "## 04 Enriching Data\n",
        "#### take other dataset, inside or outside from related dataset / business"
      ]
    },
    {
      "cell_type": "code",
      "source": [
        "'''location = 'Country' # replace this\n",
        "\n",
        "a = df[location].unique()\n",
        "b = gdf[location].unique()\n",
        "\n",
        "for i in a:\n",
        "  if i not in b:\n",
        "    print(i)\n",
        "\n",
        "print(50 * '=')\n",
        "\n",
        "for i in b:\n",
        "  if i not in a:\n",
        "    print(i) #'''"
      ],
      "metadata": {
        "id": "oiJULi5g1_a0",
        "colab": {
          "base_uri": "https://localhost:8080/",
          "height": 36
        },
        "outputId": "f0bb6fc0-855b-4d47-b67e-490fc0707204"
      },
      "execution_count": 52,
      "outputs": [
        {
          "output_type": "execute_result",
          "data": {
            "text/plain": [
              "\"location = 'Country' # replace this\\n\\na = df[location].unique()\\nb = gdf[location].unique()\\n\\nfor i in a:\\n  if i not in b:\\n    print(i)\\n\\nprint(50 * '=')\\n\\nfor i in b:\\n  if i not in a:\\n    print(i) #\""
            ],
            "application/vnd.google.colaboratory.intrinsic+json": {
              "type": "string"
            }
          },
          "metadata": {},
          "execution_count": 52
        }
      ]
    },
    {
      "cell_type": "code",
      "source": [
        "value_dict = {}\n",
        "\n",
        "try:\n",
        "  df[location] = df[location].replace(value_dict)\n",
        "except:\n",
        "  pass #'''"
      ],
      "metadata": {
        "id": "7gZKqurz2DCs"
      },
      "execution_count": 53,
      "outputs": []
    },
    {
      "cell_type": "markdown",
      "metadata": {
        "id": "9z-glw4U5r3Y"
      },
      "source": [
        "## 05 Data Validation\n",
        "#### Verifying consistency, quality, and security of data"
      ]
    },
    {
      "cell_type": "markdown",
      "metadata": {
        "id": "kXJgoIwCoisk"
      },
      "source": [
        "## 06 Exploration Data Analysis (Univariate)"
      ]
    },
    {
      "cell_type": "code",
      "execution_count": 1,
      "metadata": {
        "id": "ICAXeqSDopgs",
        "colab": {
          "base_uri": "https://localhost:8080/",
          "height": 55
        },
        "outputId": "c34341da-faa5-45b3-e41d-bc0f5da7b29a"
      },
      "outputs": [
        {
          "output_type": "execute_result",
          "data": {
            "text/plain": [
              "\"data_profile = ProfileReport(\\n  df,\\n  correlations = {\\n    'pearson' : {'calculate' : True},\\n    'spearman' : {'calculate' : True},\\n    'kendall' : {'calculate' : True},\\n    'phi_k' : {'calculate' : True},\\n    'cramers': {'calculate' : True},\\n  },\\n)\\n\\ndata_profile #\""
            ],
            "application/vnd.google.colaboratory.intrinsic+json": {
              "type": "string"
            }
          },
          "metadata": {},
          "execution_count": 1
        }
      ],
      "source": [
        "'''data_profile = ProfileReport(\n",
        "  df,\n",
        "  correlations = {\n",
        "    'pearson' : {'calculate' : True},\n",
        "    'spearman' : {'calculate' : True},\n",
        "    'kendall' : {'calculate' : True},\n",
        "    'phi_k' : {'calculate' : True},\n",
        "    'cramers': {'calculate' : True},\n",
        "  },\n",
        ")\n",
        "\n",
        "data_profile #'''"
      ]
    },
    {
      "cell_type": "markdown",
      "source": [
        "## 07 Select Variable X & Y | Splitting Data"
      ],
      "metadata": {
        "id": "L-cKf7u2fYR8"
      }
    },
    {
      "cell_type": "markdown",
      "source": [
        "#### 07.01 Data Balancing"
      ],
      "metadata": {
        "id": "62vYCe3x4YmZ"
      }
    },
    {
      "cell_type": "code",
      "source": [
        "'''# Check Before Data Balancing\n",
        "y_var = 'HeartDisease'\n",
        "\n",
        "fig, ax = plt.subplots(figsize = (5, 5))\n",
        "sizes = [count for count in df[y_var].value_counts()]\n",
        "labels = list(df[y_var].value_counts().index)\n",
        "\n",
        "ax.pie(\n",
        "  x = sizes,\n",
        "  labels = labels,\n",
        "  autopct = '%1.1f%%',\n",
        ")\n",
        "plt.show() #'''"
      ],
      "metadata": {
        "id": "zWLslMYI4lnm",
        "colab": {
          "base_uri": "https://localhost:8080/",
          "height": 55
        },
        "outputId": "51d57e6a-d672-43da-fbbd-9938042a66bc"
      },
      "execution_count": 55,
      "outputs": [
        {
          "output_type": "execute_result",
          "data": {
            "text/plain": [
              "\"# Check Before Data Balancing\\ny_var = 'HeartDisease'\\n\\nfig, ax = plt.subplots(figsize = (5, 5))\\nsizes = [count for count in df[y_var].value_counts()]\\nlabels = list(df[y_var].value_counts().index)\\n\\nax.pie(\\n  x = sizes,\\n  labels = labels,\\n  autopct = '%1.1f%%',\\n)\\nplt.show() #\""
            ],
            "application/vnd.google.colaboratory.intrinsic+json": {
              "type": "string"
            }
          },
          "metadata": {},
          "execution_count": 55
        }
      ]
    },
    {
      "cell_type": "code",
      "source": [
        "'''n = 20000\n",
        "append_data = []\n",
        "\n",
        "for i in df[y_var].unique():\n",
        "  df_x = df[df[y_var] == i][:n]\n",
        "  append_data.append(df_x)\n",
        "\n",
        "append_df = pd.concat(append_data)\n",
        "append_df.shape #'''"
      ],
      "metadata": {
        "id": "nijbkHEP4svK",
        "colab": {
          "base_uri": "https://localhost:8080/",
          "height": 36
        },
        "outputId": "1eb1461e-2161-40e5-b0f0-73c7a3a62df6"
      },
      "execution_count": 56,
      "outputs": [
        {
          "output_type": "execute_result",
          "data": {
            "text/plain": [
              "'n = 20000\\nappend_data = []\\n\\nfor i in df[y_var].unique():\\n  df_x = df[df[y_var] == i][:n]\\n  append_data.append(df_x)\\n\\nappend_df = pd.concat(append_data)\\nappend_df.shape #'"
            ],
            "application/vnd.google.colaboratory.intrinsic+json": {
              "type": "string"
            }
          },
          "metadata": {},
          "execution_count": 56
        }
      ]
    },
    {
      "cell_type": "code",
      "source": [
        "'''# Check After Data Balancing\n",
        "\n",
        "fig, ax = plt.subplots(figsize = (5, 5))\n",
        "sizes = [count for count in append_df[y_var].value_counts()]\n",
        "labels = list(append_df[y_var].value_counts().index)\n",
        "\n",
        "ax.pie(\n",
        "  x = sizes,\n",
        "  labels = labels,\n",
        "  autopct = '%1.1f%%',\n",
        ")\n",
        "plt.show() #'''"
      ],
      "metadata": {
        "id": "aE08oGEy4w8r",
        "colab": {
          "base_uri": "https://localhost:8080/",
          "height": 55
        },
        "outputId": "412ccf5b-5713-4ec4-be6c-c692dad5889b"
      },
      "execution_count": 57,
      "outputs": [
        {
          "output_type": "execute_result",
          "data": {
            "text/plain": [
              "\"# Check After Data Balancing\\n\\nfig, ax = plt.subplots(figsize = (5, 5))\\nsizes = [count for count in append_df[y_var].value_counts()]\\nlabels = list(append_df[y_var].value_counts().index)\\n\\nax.pie(\\n  x = sizes,\\n  labels = labels,\\n  autopct = '%1.1f%%',\\n)\\nplt.show() #\""
            ],
            "application/vnd.google.colaboratory.intrinsic+json": {
              "type": "string"
            }
          },
          "metadata": {},
          "execution_count": 57
        }
      ]
    },
    {
      "cell_type": "code",
      "source": [
        "#df = append_df"
      ],
      "metadata": {
        "id": "r0TzakFx4zOT"
      },
      "execution_count": 58,
      "outputs": []
    },
    {
      "cell_type": "markdown",
      "source": [
        "### 07.02 Label Encoding / One Hot Encoding"
      ],
      "metadata": {
        "id": "YvlFdORoEBsK"
      }
    },
    {
      "cell_type": "code",
      "source": [
        "df.head(2)"
      ],
      "metadata": {
        "id": "0xalcRFbECSh",
        "colab": {
          "base_uri": "https://localhost:8080/",
          "height": 161
        },
        "outputId": "36c14b71-eb76-461a-aa94-23de9affffd6"
      },
      "execution_count": 59,
      "outputs": [
        {
          "output_type": "execute_result",
          "data": {
            "text/plain": [
              "   id  NumDots  SubdomainLevel  PathLevel  UrlLength  NumDash  \\\n",
              "0   1        3               1          5         72        0   \n",
              "1   2        3               1          3        144        0   \n",
              "\n",
              "   NumDashInHostname  AtSymbol  TildeSymbol  NumUnderscore  ...  \\\n",
              "0                  0         0            0              0  ...   \n",
              "1                  0         0            0              2  ...   \n",
              "\n",
              "   IframeOrFrame  MissingTitle  ImagesOnlyInForm  SubdomainLevelRT  \\\n",
              "0              0             0                 1                 1   \n",
              "1              0             0                 0                 1   \n",
              "\n",
              "   UrlLengthRT  PctExtResourceUrlsRT  AbnormalExtFormActionR  \\\n",
              "0            0                     1                       1   \n",
              "1           -1                     1                       1   \n",
              "\n",
              "   ExtMetaScriptLinkRT  PctExtNullSelfRedirectHyperlinksRT  CLASS_LABEL  \n",
              "0                   -1                                   1            1  \n",
              "1                    1                                   1            1  \n",
              "\n",
              "[2 rows x 50 columns]"
            ],
            "text/html": [
              "\n",
              "  <div id=\"df-dd0c86af-1fea-4985-8138-3b0fc8a8f86e\" class=\"colab-df-container\">\n",
              "    <div>\n",
              "<style scoped>\n",
              "    .dataframe tbody tr th:only-of-type {\n",
              "        vertical-align: middle;\n",
              "    }\n",
              "\n",
              "    .dataframe tbody tr th {\n",
              "        vertical-align: top;\n",
              "    }\n",
              "\n",
              "    .dataframe thead th {\n",
              "        text-align: right;\n",
              "    }\n",
              "</style>\n",
              "<table border=\"1\" class=\"dataframe\">\n",
              "  <thead>\n",
              "    <tr style=\"text-align: right;\">\n",
              "      <th></th>\n",
              "      <th>id</th>\n",
              "      <th>NumDots</th>\n",
              "      <th>SubdomainLevel</th>\n",
              "      <th>PathLevel</th>\n",
              "      <th>UrlLength</th>\n",
              "      <th>NumDash</th>\n",
              "      <th>NumDashInHostname</th>\n",
              "      <th>AtSymbol</th>\n",
              "      <th>TildeSymbol</th>\n",
              "      <th>NumUnderscore</th>\n",
              "      <th>...</th>\n",
              "      <th>IframeOrFrame</th>\n",
              "      <th>MissingTitle</th>\n",
              "      <th>ImagesOnlyInForm</th>\n",
              "      <th>SubdomainLevelRT</th>\n",
              "      <th>UrlLengthRT</th>\n",
              "      <th>PctExtResourceUrlsRT</th>\n",
              "      <th>AbnormalExtFormActionR</th>\n",
              "      <th>ExtMetaScriptLinkRT</th>\n",
              "      <th>PctExtNullSelfRedirectHyperlinksRT</th>\n",
              "      <th>CLASS_LABEL</th>\n",
              "    </tr>\n",
              "  </thead>\n",
              "  <tbody>\n",
              "    <tr>\n",
              "      <th>0</th>\n",
              "      <td>1</td>\n",
              "      <td>3</td>\n",
              "      <td>1</td>\n",
              "      <td>5</td>\n",
              "      <td>72</td>\n",
              "      <td>0</td>\n",
              "      <td>0</td>\n",
              "      <td>0</td>\n",
              "      <td>0</td>\n",
              "      <td>0</td>\n",
              "      <td>...</td>\n",
              "      <td>0</td>\n",
              "      <td>0</td>\n",
              "      <td>1</td>\n",
              "      <td>1</td>\n",
              "      <td>0</td>\n",
              "      <td>1</td>\n",
              "      <td>1</td>\n",
              "      <td>-1</td>\n",
              "      <td>1</td>\n",
              "      <td>1</td>\n",
              "    </tr>\n",
              "    <tr>\n",
              "      <th>1</th>\n",
              "      <td>2</td>\n",
              "      <td>3</td>\n",
              "      <td>1</td>\n",
              "      <td>3</td>\n",
              "      <td>144</td>\n",
              "      <td>0</td>\n",
              "      <td>0</td>\n",
              "      <td>0</td>\n",
              "      <td>0</td>\n",
              "      <td>2</td>\n",
              "      <td>...</td>\n",
              "      <td>0</td>\n",
              "      <td>0</td>\n",
              "      <td>0</td>\n",
              "      <td>1</td>\n",
              "      <td>-1</td>\n",
              "      <td>1</td>\n",
              "      <td>1</td>\n",
              "      <td>1</td>\n",
              "      <td>1</td>\n",
              "      <td>1</td>\n",
              "    </tr>\n",
              "  </tbody>\n",
              "</table>\n",
              "<p>2 rows × 50 columns</p>\n",
              "</div>\n",
              "    <div class=\"colab-df-buttons\">\n",
              "\n",
              "  <div class=\"colab-df-container\">\n",
              "    <button class=\"colab-df-convert\" onclick=\"convertToInteractive('df-dd0c86af-1fea-4985-8138-3b0fc8a8f86e')\"\n",
              "            title=\"Convert this dataframe to an interactive table.\"\n",
              "            style=\"display:none;\">\n",
              "\n",
              "  <svg xmlns=\"http://www.w3.org/2000/svg\" height=\"24px\" viewBox=\"0 -960 960 960\">\n",
              "    <path d=\"M120-120v-720h720v720H120Zm60-500h600v-160H180v160Zm220 220h160v-160H400v160Zm0 220h160v-160H400v160ZM180-400h160v-160H180v160Zm440 0h160v-160H620v160ZM180-180h160v-160H180v160Zm440 0h160v-160H620v160Z\"/>\n",
              "  </svg>\n",
              "    </button>\n",
              "\n",
              "  <style>\n",
              "    .colab-df-container {\n",
              "      display:flex;\n",
              "      gap: 12px;\n",
              "    }\n",
              "\n",
              "    .colab-df-convert {\n",
              "      background-color: #E8F0FE;\n",
              "      border: none;\n",
              "      border-radius: 50%;\n",
              "      cursor: pointer;\n",
              "      display: none;\n",
              "      fill: #1967D2;\n",
              "      height: 32px;\n",
              "      padding: 0 0 0 0;\n",
              "      width: 32px;\n",
              "    }\n",
              "\n",
              "    .colab-df-convert:hover {\n",
              "      background-color: #E2EBFA;\n",
              "      box-shadow: 0px 1px 2px rgba(60, 64, 67, 0.3), 0px 1px 3px 1px rgba(60, 64, 67, 0.15);\n",
              "      fill: #174EA6;\n",
              "    }\n",
              "\n",
              "    .colab-df-buttons div {\n",
              "      margin-bottom: 4px;\n",
              "    }\n",
              "\n",
              "    [theme=dark] .colab-df-convert {\n",
              "      background-color: #3B4455;\n",
              "      fill: #D2E3FC;\n",
              "    }\n",
              "\n",
              "    [theme=dark] .colab-df-convert:hover {\n",
              "      background-color: #434B5C;\n",
              "      box-shadow: 0px 1px 3px 1px rgba(0, 0, 0, 0.15);\n",
              "      filter: drop-shadow(0px 1px 2px rgba(0, 0, 0, 0.3));\n",
              "      fill: #FFFFFF;\n",
              "    }\n",
              "  </style>\n",
              "\n",
              "    <script>\n",
              "      const buttonEl =\n",
              "        document.querySelector('#df-dd0c86af-1fea-4985-8138-3b0fc8a8f86e button.colab-df-convert');\n",
              "      buttonEl.style.display =\n",
              "        google.colab.kernel.accessAllowed ? 'block' : 'none';\n",
              "\n",
              "      async function convertToInteractive(key) {\n",
              "        const element = document.querySelector('#df-dd0c86af-1fea-4985-8138-3b0fc8a8f86e');\n",
              "        const dataTable =\n",
              "          await google.colab.kernel.invokeFunction('convertToInteractive',\n",
              "                                                    [key], {});\n",
              "        if (!dataTable) return;\n",
              "\n",
              "        const docLinkHtml = 'Like what you see? Visit the ' +\n",
              "          '<a target=\"_blank\" href=https://colab.research.google.com/notebooks/data_table.ipynb>data table notebook</a>'\n",
              "          + ' to learn more about interactive tables.';\n",
              "        element.innerHTML = '';\n",
              "        dataTable['output_type'] = 'display_data';\n",
              "        await google.colab.output.renderOutput(dataTable, element);\n",
              "        const docLink = document.createElement('div');\n",
              "        docLink.innerHTML = docLinkHtml;\n",
              "        element.appendChild(docLink);\n",
              "      }\n",
              "    </script>\n",
              "  </div>\n",
              "\n",
              "\n",
              "<div id=\"df-a68c0e08-39d7-4321-af54-be5c28c05e41\">\n",
              "  <button class=\"colab-df-quickchart\" onclick=\"quickchart('df-a68c0e08-39d7-4321-af54-be5c28c05e41')\"\n",
              "            title=\"Suggest charts\"\n",
              "            style=\"display:none;\">\n",
              "\n",
              "<svg xmlns=\"http://www.w3.org/2000/svg\" height=\"24px\"viewBox=\"0 0 24 24\"\n",
              "     width=\"24px\">\n",
              "    <g>\n",
              "        <path d=\"M19 3H5c-1.1 0-2 .9-2 2v14c0 1.1.9 2 2 2h14c1.1 0 2-.9 2-2V5c0-1.1-.9-2-2-2zM9 17H7v-7h2v7zm4 0h-2V7h2v10zm4 0h-2v-4h2v4z\"/>\n",
              "    </g>\n",
              "</svg>\n",
              "  </button>\n",
              "\n",
              "<style>\n",
              "  .colab-df-quickchart {\n",
              "      --bg-color: #E8F0FE;\n",
              "      --fill-color: #1967D2;\n",
              "      --hover-bg-color: #E2EBFA;\n",
              "      --hover-fill-color: #174EA6;\n",
              "      --disabled-fill-color: #AAA;\n",
              "      --disabled-bg-color: #DDD;\n",
              "  }\n",
              "\n",
              "  [theme=dark] .colab-df-quickchart {\n",
              "      --bg-color: #3B4455;\n",
              "      --fill-color: #D2E3FC;\n",
              "      --hover-bg-color: #434B5C;\n",
              "      --hover-fill-color: #FFFFFF;\n",
              "      --disabled-bg-color: #3B4455;\n",
              "      --disabled-fill-color: #666;\n",
              "  }\n",
              "\n",
              "  .colab-df-quickchart {\n",
              "    background-color: var(--bg-color);\n",
              "    border: none;\n",
              "    border-radius: 50%;\n",
              "    cursor: pointer;\n",
              "    display: none;\n",
              "    fill: var(--fill-color);\n",
              "    height: 32px;\n",
              "    padding: 0;\n",
              "    width: 32px;\n",
              "  }\n",
              "\n",
              "  .colab-df-quickchart:hover {\n",
              "    background-color: var(--hover-bg-color);\n",
              "    box-shadow: 0 1px 2px rgba(60, 64, 67, 0.3), 0 1px 3px 1px rgba(60, 64, 67, 0.15);\n",
              "    fill: var(--button-hover-fill-color);\n",
              "  }\n",
              "\n",
              "  .colab-df-quickchart-complete:disabled,\n",
              "  .colab-df-quickchart-complete:disabled:hover {\n",
              "    background-color: var(--disabled-bg-color);\n",
              "    fill: var(--disabled-fill-color);\n",
              "    box-shadow: none;\n",
              "  }\n",
              "\n",
              "  .colab-df-spinner {\n",
              "    border: 2px solid var(--fill-color);\n",
              "    border-color: transparent;\n",
              "    border-bottom-color: var(--fill-color);\n",
              "    animation:\n",
              "      spin 1s steps(1) infinite;\n",
              "  }\n",
              "\n",
              "  @keyframes spin {\n",
              "    0% {\n",
              "      border-color: transparent;\n",
              "      border-bottom-color: var(--fill-color);\n",
              "      border-left-color: var(--fill-color);\n",
              "    }\n",
              "    20% {\n",
              "      border-color: transparent;\n",
              "      border-left-color: var(--fill-color);\n",
              "      border-top-color: var(--fill-color);\n",
              "    }\n",
              "    30% {\n",
              "      border-color: transparent;\n",
              "      border-left-color: var(--fill-color);\n",
              "      border-top-color: var(--fill-color);\n",
              "      border-right-color: var(--fill-color);\n",
              "    }\n",
              "    40% {\n",
              "      border-color: transparent;\n",
              "      border-right-color: var(--fill-color);\n",
              "      border-top-color: var(--fill-color);\n",
              "    }\n",
              "    60% {\n",
              "      border-color: transparent;\n",
              "      border-right-color: var(--fill-color);\n",
              "    }\n",
              "    80% {\n",
              "      border-color: transparent;\n",
              "      border-right-color: var(--fill-color);\n",
              "      border-bottom-color: var(--fill-color);\n",
              "    }\n",
              "    90% {\n",
              "      border-color: transparent;\n",
              "      border-bottom-color: var(--fill-color);\n",
              "    }\n",
              "  }\n",
              "</style>\n",
              "\n",
              "  <script>\n",
              "    async function quickchart(key) {\n",
              "      const quickchartButtonEl =\n",
              "        document.querySelector('#' + key + ' button');\n",
              "      quickchartButtonEl.disabled = true;  // To prevent multiple clicks.\n",
              "      quickchartButtonEl.classList.add('colab-df-spinner');\n",
              "      try {\n",
              "        const charts = await google.colab.kernel.invokeFunction(\n",
              "            'suggestCharts', [key], {});\n",
              "      } catch (error) {\n",
              "        console.error('Error during call to suggestCharts:', error);\n",
              "      }\n",
              "      quickchartButtonEl.classList.remove('colab-df-spinner');\n",
              "      quickchartButtonEl.classList.add('colab-df-quickchart-complete');\n",
              "    }\n",
              "    (() => {\n",
              "      let quickchartButtonEl =\n",
              "        document.querySelector('#df-a68c0e08-39d7-4321-af54-be5c28c05e41 button');\n",
              "      quickchartButtonEl.style.display =\n",
              "        google.colab.kernel.accessAllowed ? 'block' : 'none';\n",
              "    })();\n",
              "  </script>\n",
              "</div>\n",
              "\n",
              "    </div>\n",
              "  </div>\n"
            ],
            "application/vnd.google.colaboratory.intrinsic+json": {
              "type": "dataframe",
              "variable_name": "df"
            }
          },
          "metadata": {},
          "execution_count": 59
        }
      ]
    },
    {
      "cell_type": "code",
      "source": [
        "df.info()"
      ],
      "metadata": {
        "id": "_HpZe6myEEaa",
        "colab": {
          "base_uri": "https://localhost:8080/"
        },
        "outputId": "42ef0036-9e92-49f7-8a7c-7329a93c6dc0"
      },
      "execution_count": 60,
      "outputs": [
        {
          "output_type": "stream",
          "name": "stdout",
          "text": [
            "<class 'pandas.core.frame.DataFrame'>\n",
            "RangeIndex: 10000 entries, 0 to 9999\n",
            "Data columns (total 50 columns):\n",
            " #   Column                              Non-Null Count  Dtype  \n",
            "---  ------                              --------------  -----  \n",
            " 0   id                                  10000 non-null  int64  \n",
            " 1   NumDots                             10000 non-null  int64  \n",
            " 2   SubdomainLevel                      10000 non-null  int64  \n",
            " 3   PathLevel                           10000 non-null  int64  \n",
            " 4   UrlLength                           10000 non-null  int64  \n",
            " 5   NumDash                             10000 non-null  int64  \n",
            " 6   NumDashInHostname                   10000 non-null  int64  \n",
            " 7   AtSymbol                            10000 non-null  int64  \n",
            " 8   TildeSymbol                         10000 non-null  int64  \n",
            " 9   NumUnderscore                       10000 non-null  int64  \n",
            " 10  NumPercent                          10000 non-null  int64  \n",
            " 11  NumQueryComponents                  10000 non-null  int64  \n",
            " 12  NumAmpersand                        10000 non-null  int64  \n",
            " 13  NumHash                             10000 non-null  int64  \n",
            " 14  NumNumericChars                     10000 non-null  int64  \n",
            " 15  NoHttps                             10000 non-null  int64  \n",
            " 16  RandomString                        10000 non-null  int64  \n",
            " 17  IpAddress                           10000 non-null  int64  \n",
            " 18  DomainInSubdomains                  10000 non-null  int64  \n",
            " 19  DomainInPaths                       10000 non-null  int64  \n",
            " 20  HttpsInHostname                     10000 non-null  int64  \n",
            " 21  HostnameLength                      10000 non-null  int64  \n",
            " 22  PathLength                          10000 non-null  int64  \n",
            " 23  QueryLength                         10000 non-null  int64  \n",
            " 24  DoubleSlashInPath                   10000 non-null  int64  \n",
            " 25  NumSensitiveWords                   10000 non-null  int64  \n",
            " 26  EmbeddedBrandName                   10000 non-null  int64  \n",
            " 27  PctExtHyperlinks                    10000 non-null  float64\n",
            " 28  PctExtResourceUrls                  10000 non-null  float64\n",
            " 29  ExtFavicon                          10000 non-null  int64  \n",
            " 30  InsecureForms                       10000 non-null  int64  \n",
            " 31  RelativeFormAction                  10000 non-null  int64  \n",
            " 32  ExtFormAction                       10000 non-null  int64  \n",
            " 33  AbnormalFormAction                  10000 non-null  int64  \n",
            " 34  PctNullSelfRedirectHyperlinks       10000 non-null  float64\n",
            " 35  FrequentDomainNameMismatch          10000 non-null  int64  \n",
            " 36  FakeLinkInStatusBar                 10000 non-null  int64  \n",
            " 37  RightClickDisabled                  10000 non-null  int64  \n",
            " 38  PopUpWindow                         10000 non-null  int64  \n",
            " 39  SubmitInfoToEmail                   10000 non-null  int64  \n",
            " 40  IframeOrFrame                       10000 non-null  int64  \n",
            " 41  MissingTitle                        10000 non-null  int64  \n",
            " 42  ImagesOnlyInForm                    10000 non-null  int64  \n",
            " 43  SubdomainLevelRT                    10000 non-null  int64  \n",
            " 44  UrlLengthRT                         10000 non-null  int64  \n",
            " 45  PctExtResourceUrlsRT                10000 non-null  int64  \n",
            " 46  AbnormalExtFormActionR              10000 non-null  int64  \n",
            " 47  ExtMetaScriptLinkRT                 10000 non-null  int64  \n",
            " 48  PctExtNullSelfRedirectHyperlinksRT  10000 non-null  int64  \n",
            " 49  CLASS_LABEL                         10000 non-null  int64  \n",
            "dtypes: float64(3), int64(47)\n",
            "memory usage: 3.8 MB\n"
          ]
        }
      ]
    },
    {
      "cell_type": "code",
      "source": [
        "columns = []\n",
        "\n",
        "for column in columns:\n",
        "  df[column] = df[column].astype('str')\n",
        "  print(df[column].unique())"
      ],
      "metadata": {
        "id": "wg80oyDcEF_A"
      },
      "execution_count": 61,
      "outputs": []
    },
    {
      "cell_type": "code",
      "source": [
        "label_encoders = {}\n",
        "\n",
        "for column in columns:\n",
        "  le = LabelEncoder()\n",
        "  df[column] = le.fit_transform(df[column])\n",
        "  label_encoders[column] = le\n",
        "\n",
        "for column in columns:\n",
        "  labels = label_encoders[column].classes_\n",
        "  print(column)\n",
        "  print('-' * 50)\n",
        "  for i in range(len(labels)):\n",
        "    print(str(i), ':', labels[i])\n",
        "  print('=' * 50)"
      ],
      "metadata": {
        "id": "evGCZa5KEH08"
      },
      "execution_count": 62,
      "outputs": []
    },
    {
      "cell_type": "markdown",
      "source": [
        "### 07.03 Define X & Y variables"
      ],
      "metadata": {
        "id": "X_1vko8Gqthp"
      }
    },
    {
      "cell_type": "code",
      "source": [
        "df.head(2)"
      ],
      "metadata": {
        "id": "kooq8RzzhsA7",
        "colab": {
          "base_uri": "https://localhost:8080/",
          "height": 161
        },
        "outputId": "75866246-7f4b-4a08-8dc9-9d629ce612ed"
      },
      "execution_count": 63,
      "outputs": [
        {
          "output_type": "execute_result",
          "data": {
            "text/plain": [
              "   id  NumDots  SubdomainLevel  PathLevel  UrlLength  NumDash  \\\n",
              "0   1        3               1          5         72        0   \n",
              "1   2        3               1          3        144        0   \n",
              "\n",
              "   NumDashInHostname  AtSymbol  TildeSymbol  NumUnderscore  ...  \\\n",
              "0                  0         0            0              0  ...   \n",
              "1                  0         0            0              2  ...   \n",
              "\n",
              "   IframeOrFrame  MissingTitle  ImagesOnlyInForm  SubdomainLevelRT  \\\n",
              "0              0             0                 1                 1   \n",
              "1              0             0                 0                 1   \n",
              "\n",
              "   UrlLengthRT  PctExtResourceUrlsRT  AbnormalExtFormActionR  \\\n",
              "0            0                     1                       1   \n",
              "1           -1                     1                       1   \n",
              "\n",
              "   ExtMetaScriptLinkRT  PctExtNullSelfRedirectHyperlinksRT  CLASS_LABEL  \n",
              "0                   -1                                   1            1  \n",
              "1                    1                                   1            1  \n",
              "\n",
              "[2 rows x 50 columns]"
            ],
            "text/html": [
              "\n",
              "  <div id=\"df-56ec5035-ea4f-4390-9079-9e5fa584a9c4\" class=\"colab-df-container\">\n",
              "    <div>\n",
              "<style scoped>\n",
              "    .dataframe tbody tr th:only-of-type {\n",
              "        vertical-align: middle;\n",
              "    }\n",
              "\n",
              "    .dataframe tbody tr th {\n",
              "        vertical-align: top;\n",
              "    }\n",
              "\n",
              "    .dataframe thead th {\n",
              "        text-align: right;\n",
              "    }\n",
              "</style>\n",
              "<table border=\"1\" class=\"dataframe\">\n",
              "  <thead>\n",
              "    <tr style=\"text-align: right;\">\n",
              "      <th></th>\n",
              "      <th>id</th>\n",
              "      <th>NumDots</th>\n",
              "      <th>SubdomainLevel</th>\n",
              "      <th>PathLevel</th>\n",
              "      <th>UrlLength</th>\n",
              "      <th>NumDash</th>\n",
              "      <th>NumDashInHostname</th>\n",
              "      <th>AtSymbol</th>\n",
              "      <th>TildeSymbol</th>\n",
              "      <th>NumUnderscore</th>\n",
              "      <th>...</th>\n",
              "      <th>IframeOrFrame</th>\n",
              "      <th>MissingTitle</th>\n",
              "      <th>ImagesOnlyInForm</th>\n",
              "      <th>SubdomainLevelRT</th>\n",
              "      <th>UrlLengthRT</th>\n",
              "      <th>PctExtResourceUrlsRT</th>\n",
              "      <th>AbnormalExtFormActionR</th>\n",
              "      <th>ExtMetaScriptLinkRT</th>\n",
              "      <th>PctExtNullSelfRedirectHyperlinksRT</th>\n",
              "      <th>CLASS_LABEL</th>\n",
              "    </tr>\n",
              "  </thead>\n",
              "  <tbody>\n",
              "    <tr>\n",
              "      <th>0</th>\n",
              "      <td>1</td>\n",
              "      <td>3</td>\n",
              "      <td>1</td>\n",
              "      <td>5</td>\n",
              "      <td>72</td>\n",
              "      <td>0</td>\n",
              "      <td>0</td>\n",
              "      <td>0</td>\n",
              "      <td>0</td>\n",
              "      <td>0</td>\n",
              "      <td>...</td>\n",
              "      <td>0</td>\n",
              "      <td>0</td>\n",
              "      <td>1</td>\n",
              "      <td>1</td>\n",
              "      <td>0</td>\n",
              "      <td>1</td>\n",
              "      <td>1</td>\n",
              "      <td>-1</td>\n",
              "      <td>1</td>\n",
              "      <td>1</td>\n",
              "    </tr>\n",
              "    <tr>\n",
              "      <th>1</th>\n",
              "      <td>2</td>\n",
              "      <td>3</td>\n",
              "      <td>1</td>\n",
              "      <td>3</td>\n",
              "      <td>144</td>\n",
              "      <td>0</td>\n",
              "      <td>0</td>\n",
              "      <td>0</td>\n",
              "      <td>0</td>\n",
              "      <td>2</td>\n",
              "      <td>...</td>\n",
              "      <td>0</td>\n",
              "      <td>0</td>\n",
              "      <td>0</td>\n",
              "      <td>1</td>\n",
              "      <td>-1</td>\n",
              "      <td>1</td>\n",
              "      <td>1</td>\n",
              "      <td>1</td>\n",
              "      <td>1</td>\n",
              "      <td>1</td>\n",
              "    </tr>\n",
              "  </tbody>\n",
              "</table>\n",
              "<p>2 rows × 50 columns</p>\n",
              "</div>\n",
              "    <div class=\"colab-df-buttons\">\n",
              "\n",
              "  <div class=\"colab-df-container\">\n",
              "    <button class=\"colab-df-convert\" onclick=\"convertToInteractive('df-56ec5035-ea4f-4390-9079-9e5fa584a9c4')\"\n",
              "            title=\"Convert this dataframe to an interactive table.\"\n",
              "            style=\"display:none;\">\n",
              "\n",
              "  <svg xmlns=\"http://www.w3.org/2000/svg\" height=\"24px\" viewBox=\"0 -960 960 960\">\n",
              "    <path d=\"M120-120v-720h720v720H120Zm60-500h600v-160H180v160Zm220 220h160v-160H400v160Zm0 220h160v-160H400v160ZM180-400h160v-160H180v160Zm440 0h160v-160H620v160ZM180-180h160v-160H180v160Zm440 0h160v-160H620v160Z\"/>\n",
              "  </svg>\n",
              "    </button>\n",
              "\n",
              "  <style>\n",
              "    .colab-df-container {\n",
              "      display:flex;\n",
              "      gap: 12px;\n",
              "    }\n",
              "\n",
              "    .colab-df-convert {\n",
              "      background-color: #E8F0FE;\n",
              "      border: none;\n",
              "      border-radius: 50%;\n",
              "      cursor: pointer;\n",
              "      display: none;\n",
              "      fill: #1967D2;\n",
              "      height: 32px;\n",
              "      padding: 0 0 0 0;\n",
              "      width: 32px;\n",
              "    }\n",
              "\n",
              "    .colab-df-convert:hover {\n",
              "      background-color: #E2EBFA;\n",
              "      box-shadow: 0px 1px 2px rgba(60, 64, 67, 0.3), 0px 1px 3px 1px rgba(60, 64, 67, 0.15);\n",
              "      fill: #174EA6;\n",
              "    }\n",
              "\n",
              "    .colab-df-buttons div {\n",
              "      margin-bottom: 4px;\n",
              "    }\n",
              "\n",
              "    [theme=dark] .colab-df-convert {\n",
              "      background-color: #3B4455;\n",
              "      fill: #D2E3FC;\n",
              "    }\n",
              "\n",
              "    [theme=dark] .colab-df-convert:hover {\n",
              "      background-color: #434B5C;\n",
              "      box-shadow: 0px 1px 3px 1px rgba(0, 0, 0, 0.15);\n",
              "      filter: drop-shadow(0px 1px 2px rgba(0, 0, 0, 0.3));\n",
              "      fill: #FFFFFF;\n",
              "    }\n",
              "  </style>\n",
              "\n",
              "    <script>\n",
              "      const buttonEl =\n",
              "        document.querySelector('#df-56ec5035-ea4f-4390-9079-9e5fa584a9c4 button.colab-df-convert');\n",
              "      buttonEl.style.display =\n",
              "        google.colab.kernel.accessAllowed ? 'block' : 'none';\n",
              "\n",
              "      async function convertToInteractive(key) {\n",
              "        const element = document.querySelector('#df-56ec5035-ea4f-4390-9079-9e5fa584a9c4');\n",
              "        const dataTable =\n",
              "          await google.colab.kernel.invokeFunction('convertToInteractive',\n",
              "                                                    [key], {});\n",
              "        if (!dataTable) return;\n",
              "\n",
              "        const docLinkHtml = 'Like what you see? Visit the ' +\n",
              "          '<a target=\"_blank\" href=https://colab.research.google.com/notebooks/data_table.ipynb>data table notebook</a>'\n",
              "          + ' to learn more about interactive tables.';\n",
              "        element.innerHTML = '';\n",
              "        dataTable['output_type'] = 'display_data';\n",
              "        await google.colab.output.renderOutput(dataTable, element);\n",
              "        const docLink = document.createElement('div');\n",
              "        docLink.innerHTML = docLinkHtml;\n",
              "        element.appendChild(docLink);\n",
              "      }\n",
              "    </script>\n",
              "  </div>\n",
              "\n",
              "\n",
              "<div id=\"df-d856be11-788c-4e98-a78c-bf592ce4b614\">\n",
              "  <button class=\"colab-df-quickchart\" onclick=\"quickchart('df-d856be11-788c-4e98-a78c-bf592ce4b614')\"\n",
              "            title=\"Suggest charts\"\n",
              "            style=\"display:none;\">\n",
              "\n",
              "<svg xmlns=\"http://www.w3.org/2000/svg\" height=\"24px\"viewBox=\"0 0 24 24\"\n",
              "     width=\"24px\">\n",
              "    <g>\n",
              "        <path d=\"M19 3H5c-1.1 0-2 .9-2 2v14c0 1.1.9 2 2 2h14c1.1 0 2-.9 2-2V5c0-1.1-.9-2-2-2zM9 17H7v-7h2v7zm4 0h-2V7h2v10zm4 0h-2v-4h2v4z\"/>\n",
              "    </g>\n",
              "</svg>\n",
              "  </button>\n",
              "\n",
              "<style>\n",
              "  .colab-df-quickchart {\n",
              "      --bg-color: #E8F0FE;\n",
              "      --fill-color: #1967D2;\n",
              "      --hover-bg-color: #E2EBFA;\n",
              "      --hover-fill-color: #174EA6;\n",
              "      --disabled-fill-color: #AAA;\n",
              "      --disabled-bg-color: #DDD;\n",
              "  }\n",
              "\n",
              "  [theme=dark] .colab-df-quickchart {\n",
              "      --bg-color: #3B4455;\n",
              "      --fill-color: #D2E3FC;\n",
              "      --hover-bg-color: #434B5C;\n",
              "      --hover-fill-color: #FFFFFF;\n",
              "      --disabled-bg-color: #3B4455;\n",
              "      --disabled-fill-color: #666;\n",
              "  }\n",
              "\n",
              "  .colab-df-quickchart {\n",
              "    background-color: var(--bg-color);\n",
              "    border: none;\n",
              "    border-radius: 50%;\n",
              "    cursor: pointer;\n",
              "    display: none;\n",
              "    fill: var(--fill-color);\n",
              "    height: 32px;\n",
              "    padding: 0;\n",
              "    width: 32px;\n",
              "  }\n",
              "\n",
              "  .colab-df-quickchart:hover {\n",
              "    background-color: var(--hover-bg-color);\n",
              "    box-shadow: 0 1px 2px rgba(60, 64, 67, 0.3), 0 1px 3px 1px rgba(60, 64, 67, 0.15);\n",
              "    fill: var(--button-hover-fill-color);\n",
              "  }\n",
              "\n",
              "  .colab-df-quickchart-complete:disabled,\n",
              "  .colab-df-quickchart-complete:disabled:hover {\n",
              "    background-color: var(--disabled-bg-color);\n",
              "    fill: var(--disabled-fill-color);\n",
              "    box-shadow: none;\n",
              "  }\n",
              "\n",
              "  .colab-df-spinner {\n",
              "    border: 2px solid var(--fill-color);\n",
              "    border-color: transparent;\n",
              "    border-bottom-color: var(--fill-color);\n",
              "    animation:\n",
              "      spin 1s steps(1) infinite;\n",
              "  }\n",
              "\n",
              "  @keyframes spin {\n",
              "    0% {\n",
              "      border-color: transparent;\n",
              "      border-bottom-color: var(--fill-color);\n",
              "      border-left-color: var(--fill-color);\n",
              "    }\n",
              "    20% {\n",
              "      border-color: transparent;\n",
              "      border-left-color: var(--fill-color);\n",
              "      border-top-color: var(--fill-color);\n",
              "    }\n",
              "    30% {\n",
              "      border-color: transparent;\n",
              "      border-left-color: var(--fill-color);\n",
              "      border-top-color: var(--fill-color);\n",
              "      border-right-color: var(--fill-color);\n",
              "    }\n",
              "    40% {\n",
              "      border-color: transparent;\n",
              "      border-right-color: var(--fill-color);\n",
              "      border-top-color: var(--fill-color);\n",
              "    }\n",
              "    60% {\n",
              "      border-color: transparent;\n",
              "      border-right-color: var(--fill-color);\n",
              "    }\n",
              "    80% {\n",
              "      border-color: transparent;\n",
              "      border-right-color: var(--fill-color);\n",
              "      border-bottom-color: var(--fill-color);\n",
              "    }\n",
              "    90% {\n",
              "      border-color: transparent;\n",
              "      border-bottom-color: var(--fill-color);\n",
              "    }\n",
              "  }\n",
              "</style>\n",
              "\n",
              "  <script>\n",
              "    async function quickchart(key) {\n",
              "      const quickchartButtonEl =\n",
              "        document.querySelector('#' + key + ' button');\n",
              "      quickchartButtonEl.disabled = true;  // To prevent multiple clicks.\n",
              "      quickchartButtonEl.classList.add('colab-df-spinner');\n",
              "      try {\n",
              "        const charts = await google.colab.kernel.invokeFunction(\n",
              "            'suggestCharts', [key], {});\n",
              "      } catch (error) {\n",
              "        console.error('Error during call to suggestCharts:', error);\n",
              "      }\n",
              "      quickchartButtonEl.classList.remove('colab-df-spinner');\n",
              "      quickchartButtonEl.classList.add('colab-df-quickchart-complete');\n",
              "    }\n",
              "    (() => {\n",
              "      let quickchartButtonEl =\n",
              "        document.querySelector('#df-d856be11-788c-4e98-a78c-bf592ce4b614 button');\n",
              "      quickchartButtonEl.style.display =\n",
              "        google.colab.kernel.accessAllowed ? 'block' : 'none';\n",
              "    })();\n",
              "  </script>\n",
              "</div>\n",
              "\n",
              "    </div>\n",
              "  </div>\n"
            ],
            "application/vnd.google.colaboratory.intrinsic+json": {
              "type": "dataframe",
              "variable_name": "df"
            }
          },
          "metadata": {},
          "execution_count": 63
        }
      ]
    },
    {
      "cell_type": "code",
      "source": [
        "df.info()"
      ],
      "metadata": {
        "id": "nEFQuk8tvpMK",
        "colab": {
          "base_uri": "https://localhost:8080/"
        },
        "outputId": "4c2d7956-bcc5-4f13-e07a-5f0c5ef2d02f"
      },
      "execution_count": 64,
      "outputs": [
        {
          "output_type": "stream",
          "name": "stdout",
          "text": [
            "<class 'pandas.core.frame.DataFrame'>\n",
            "RangeIndex: 10000 entries, 0 to 9999\n",
            "Data columns (total 50 columns):\n",
            " #   Column                              Non-Null Count  Dtype  \n",
            "---  ------                              --------------  -----  \n",
            " 0   id                                  10000 non-null  int64  \n",
            " 1   NumDots                             10000 non-null  int64  \n",
            " 2   SubdomainLevel                      10000 non-null  int64  \n",
            " 3   PathLevel                           10000 non-null  int64  \n",
            " 4   UrlLength                           10000 non-null  int64  \n",
            " 5   NumDash                             10000 non-null  int64  \n",
            " 6   NumDashInHostname                   10000 non-null  int64  \n",
            " 7   AtSymbol                            10000 non-null  int64  \n",
            " 8   TildeSymbol                         10000 non-null  int64  \n",
            " 9   NumUnderscore                       10000 non-null  int64  \n",
            " 10  NumPercent                          10000 non-null  int64  \n",
            " 11  NumQueryComponents                  10000 non-null  int64  \n",
            " 12  NumAmpersand                        10000 non-null  int64  \n",
            " 13  NumHash                             10000 non-null  int64  \n",
            " 14  NumNumericChars                     10000 non-null  int64  \n",
            " 15  NoHttps                             10000 non-null  int64  \n",
            " 16  RandomString                        10000 non-null  int64  \n",
            " 17  IpAddress                           10000 non-null  int64  \n",
            " 18  DomainInSubdomains                  10000 non-null  int64  \n",
            " 19  DomainInPaths                       10000 non-null  int64  \n",
            " 20  HttpsInHostname                     10000 non-null  int64  \n",
            " 21  HostnameLength                      10000 non-null  int64  \n",
            " 22  PathLength                          10000 non-null  int64  \n",
            " 23  QueryLength                         10000 non-null  int64  \n",
            " 24  DoubleSlashInPath                   10000 non-null  int64  \n",
            " 25  NumSensitiveWords                   10000 non-null  int64  \n",
            " 26  EmbeddedBrandName                   10000 non-null  int64  \n",
            " 27  PctExtHyperlinks                    10000 non-null  float64\n",
            " 28  PctExtResourceUrls                  10000 non-null  float64\n",
            " 29  ExtFavicon                          10000 non-null  int64  \n",
            " 30  InsecureForms                       10000 non-null  int64  \n",
            " 31  RelativeFormAction                  10000 non-null  int64  \n",
            " 32  ExtFormAction                       10000 non-null  int64  \n",
            " 33  AbnormalFormAction                  10000 non-null  int64  \n",
            " 34  PctNullSelfRedirectHyperlinks       10000 non-null  float64\n",
            " 35  FrequentDomainNameMismatch          10000 non-null  int64  \n",
            " 36  FakeLinkInStatusBar                 10000 non-null  int64  \n",
            " 37  RightClickDisabled                  10000 non-null  int64  \n",
            " 38  PopUpWindow                         10000 non-null  int64  \n",
            " 39  SubmitInfoToEmail                   10000 non-null  int64  \n",
            " 40  IframeOrFrame                       10000 non-null  int64  \n",
            " 41  MissingTitle                        10000 non-null  int64  \n",
            " 42  ImagesOnlyInForm                    10000 non-null  int64  \n",
            " 43  SubdomainLevelRT                    10000 non-null  int64  \n",
            " 44  UrlLengthRT                         10000 non-null  int64  \n",
            " 45  PctExtResourceUrlsRT                10000 non-null  int64  \n",
            " 46  AbnormalExtFormActionR              10000 non-null  int64  \n",
            " 47  ExtMetaScriptLinkRT                 10000 non-null  int64  \n",
            " 48  PctExtNullSelfRedirectHyperlinksRT  10000 non-null  int64  \n",
            " 49  CLASS_LABEL                         10000 non-null  int64  \n",
            "dtypes: float64(3), int64(47)\n",
            "memory usage: 3.8 MB\n"
          ]
        }
      ]
    },
    {
      "cell_type": "code",
      "source": [
        "#x_var = []\n",
        "x_var = df.columns[1:49]\n",
        "y_var = ['CLASS_LABEL']\n",
        "#y_var = df.columns[0]\n",
        "\n",
        "x = df[x_var]\n",
        "y = df[y_var]\n",
        "\n",
        "sel_var = y_var + x_var\n",
        "#df = df[sel_var]\n",
        "x.head(2)"
      ],
      "metadata": {
        "id": "bePtz4z4rFd_",
        "colab": {
          "base_uri": "https://localhost:8080/",
          "height": 161
        },
        "outputId": "ac68ffc9-7783-42e3-d2a6-9f188a440031"
      },
      "execution_count": 65,
      "outputs": [
        {
          "output_type": "execute_result",
          "data": {
            "text/plain": [
              "   NumDots  SubdomainLevel  PathLevel  UrlLength  NumDash  NumDashInHostname  \\\n",
              "0        3               1          5         72        0                  0   \n",
              "1        3               1          3        144        0                  0   \n",
              "\n",
              "   AtSymbol  TildeSymbol  NumUnderscore  NumPercent  ...  SubmitInfoToEmail  \\\n",
              "0         0            0              0           0  ...                  0   \n",
              "1         0            0              2           0  ...                  0   \n",
              "\n",
              "   IframeOrFrame  MissingTitle  ImagesOnlyInForm  SubdomainLevelRT  \\\n",
              "0              0             0                 1                 1   \n",
              "1              0             0                 0                 1   \n",
              "\n",
              "   UrlLengthRT  PctExtResourceUrlsRT  AbnormalExtFormActionR  \\\n",
              "0            0                     1                       1   \n",
              "1           -1                     1                       1   \n",
              "\n",
              "   ExtMetaScriptLinkRT  PctExtNullSelfRedirectHyperlinksRT  \n",
              "0                   -1                                   1  \n",
              "1                    1                                   1  \n",
              "\n",
              "[2 rows x 48 columns]"
            ],
            "text/html": [
              "\n",
              "  <div id=\"df-6e2b637a-7422-4072-af14-5ae076b8999a\" class=\"colab-df-container\">\n",
              "    <div>\n",
              "<style scoped>\n",
              "    .dataframe tbody tr th:only-of-type {\n",
              "        vertical-align: middle;\n",
              "    }\n",
              "\n",
              "    .dataframe tbody tr th {\n",
              "        vertical-align: top;\n",
              "    }\n",
              "\n",
              "    .dataframe thead th {\n",
              "        text-align: right;\n",
              "    }\n",
              "</style>\n",
              "<table border=\"1\" class=\"dataframe\">\n",
              "  <thead>\n",
              "    <tr style=\"text-align: right;\">\n",
              "      <th></th>\n",
              "      <th>NumDots</th>\n",
              "      <th>SubdomainLevel</th>\n",
              "      <th>PathLevel</th>\n",
              "      <th>UrlLength</th>\n",
              "      <th>NumDash</th>\n",
              "      <th>NumDashInHostname</th>\n",
              "      <th>AtSymbol</th>\n",
              "      <th>TildeSymbol</th>\n",
              "      <th>NumUnderscore</th>\n",
              "      <th>NumPercent</th>\n",
              "      <th>...</th>\n",
              "      <th>SubmitInfoToEmail</th>\n",
              "      <th>IframeOrFrame</th>\n",
              "      <th>MissingTitle</th>\n",
              "      <th>ImagesOnlyInForm</th>\n",
              "      <th>SubdomainLevelRT</th>\n",
              "      <th>UrlLengthRT</th>\n",
              "      <th>PctExtResourceUrlsRT</th>\n",
              "      <th>AbnormalExtFormActionR</th>\n",
              "      <th>ExtMetaScriptLinkRT</th>\n",
              "      <th>PctExtNullSelfRedirectHyperlinksRT</th>\n",
              "    </tr>\n",
              "  </thead>\n",
              "  <tbody>\n",
              "    <tr>\n",
              "      <th>0</th>\n",
              "      <td>3</td>\n",
              "      <td>1</td>\n",
              "      <td>5</td>\n",
              "      <td>72</td>\n",
              "      <td>0</td>\n",
              "      <td>0</td>\n",
              "      <td>0</td>\n",
              "      <td>0</td>\n",
              "      <td>0</td>\n",
              "      <td>0</td>\n",
              "      <td>...</td>\n",
              "      <td>0</td>\n",
              "      <td>0</td>\n",
              "      <td>0</td>\n",
              "      <td>1</td>\n",
              "      <td>1</td>\n",
              "      <td>0</td>\n",
              "      <td>1</td>\n",
              "      <td>1</td>\n",
              "      <td>-1</td>\n",
              "      <td>1</td>\n",
              "    </tr>\n",
              "    <tr>\n",
              "      <th>1</th>\n",
              "      <td>3</td>\n",
              "      <td>1</td>\n",
              "      <td>3</td>\n",
              "      <td>144</td>\n",
              "      <td>0</td>\n",
              "      <td>0</td>\n",
              "      <td>0</td>\n",
              "      <td>0</td>\n",
              "      <td>2</td>\n",
              "      <td>0</td>\n",
              "      <td>...</td>\n",
              "      <td>0</td>\n",
              "      <td>0</td>\n",
              "      <td>0</td>\n",
              "      <td>0</td>\n",
              "      <td>1</td>\n",
              "      <td>-1</td>\n",
              "      <td>1</td>\n",
              "      <td>1</td>\n",
              "      <td>1</td>\n",
              "      <td>1</td>\n",
              "    </tr>\n",
              "  </tbody>\n",
              "</table>\n",
              "<p>2 rows × 48 columns</p>\n",
              "</div>\n",
              "    <div class=\"colab-df-buttons\">\n",
              "\n",
              "  <div class=\"colab-df-container\">\n",
              "    <button class=\"colab-df-convert\" onclick=\"convertToInteractive('df-6e2b637a-7422-4072-af14-5ae076b8999a')\"\n",
              "            title=\"Convert this dataframe to an interactive table.\"\n",
              "            style=\"display:none;\">\n",
              "\n",
              "  <svg xmlns=\"http://www.w3.org/2000/svg\" height=\"24px\" viewBox=\"0 -960 960 960\">\n",
              "    <path d=\"M120-120v-720h720v720H120Zm60-500h600v-160H180v160Zm220 220h160v-160H400v160Zm0 220h160v-160H400v160ZM180-400h160v-160H180v160Zm440 0h160v-160H620v160ZM180-180h160v-160H180v160Zm440 0h160v-160H620v160Z\"/>\n",
              "  </svg>\n",
              "    </button>\n",
              "\n",
              "  <style>\n",
              "    .colab-df-container {\n",
              "      display:flex;\n",
              "      gap: 12px;\n",
              "    }\n",
              "\n",
              "    .colab-df-convert {\n",
              "      background-color: #E8F0FE;\n",
              "      border: none;\n",
              "      border-radius: 50%;\n",
              "      cursor: pointer;\n",
              "      display: none;\n",
              "      fill: #1967D2;\n",
              "      height: 32px;\n",
              "      padding: 0 0 0 0;\n",
              "      width: 32px;\n",
              "    }\n",
              "\n",
              "    .colab-df-convert:hover {\n",
              "      background-color: #E2EBFA;\n",
              "      box-shadow: 0px 1px 2px rgba(60, 64, 67, 0.3), 0px 1px 3px 1px rgba(60, 64, 67, 0.15);\n",
              "      fill: #174EA6;\n",
              "    }\n",
              "\n",
              "    .colab-df-buttons div {\n",
              "      margin-bottom: 4px;\n",
              "    }\n",
              "\n",
              "    [theme=dark] .colab-df-convert {\n",
              "      background-color: #3B4455;\n",
              "      fill: #D2E3FC;\n",
              "    }\n",
              "\n",
              "    [theme=dark] .colab-df-convert:hover {\n",
              "      background-color: #434B5C;\n",
              "      box-shadow: 0px 1px 3px 1px rgba(0, 0, 0, 0.15);\n",
              "      filter: drop-shadow(0px 1px 2px rgba(0, 0, 0, 0.3));\n",
              "      fill: #FFFFFF;\n",
              "    }\n",
              "  </style>\n",
              "\n",
              "    <script>\n",
              "      const buttonEl =\n",
              "        document.querySelector('#df-6e2b637a-7422-4072-af14-5ae076b8999a button.colab-df-convert');\n",
              "      buttonEl.style.display =\n",
              "        google.colab.kernel.accessAllowed ? 'block' : 'none';\n",
              "\n",
              "      async function convertToInteractive(key) {\n",
              "        const element = document.querySelector('#df-6e2b637a-7422-4072-af14-5ae076b8999a');\n",
              "        const dataTable =\n",
              "          await google.colab.kernel.invokeFunction('convertToInteractive',\n",
              "                                                    [key], {});\n",
              "        if (!dataTable) return;\n",
              "\n",
              "        const docLinkHtml = 'Like what you see? Visit the ' +\n",
              "          '<a target=\"_blank\" href=https://colab.research.google.com/notebooks/data_table.ipynb>data table notebook</a>'\n",
              "          + ' to learn more about interactive tables.';\n",
              "        element.innerHTML = '';\n",
              "        dataTable['output_type'] = 'display_data';\n",
              "        await google.colab.output.renderOutput(dataTable, element);\n",
              "        const docLink = document.createElement('div');\n",
              "        docLink.innerHTML = docLinkHtml;\n",
              "        element.appendChild(docLink);\n",
              "      }\n",
              "    </script>\n",
              "  </div>\n",
              "\n",
              "\n",
              "<div id=\"df-aa650e0e-f06b-41a9-beb0-3da870a78d24\">\n",
              "  <button class=\"colab-df-quickchart\" onclick=\"quickchart('df-aa650e0e-f06b-41a9-beb0-3da870a78d24')\"\n",
              "            title=\"Suggest charts\"\n",
              "            style=\"display:none;\">\n",
              "\n",
              "<svg xmlns=\"http://www.w3.org/2000/svg\" height=\"24px\"viewBox=\"0 0 24 24\"\n",
              "     width=\"24px\">\n",
              "    <g>\n",
              "        <path d=\"M19 3H5c-1.1 0-2 .9-2 2v14c0 1.1.9 2 2 2h14c1.1 0 2-.9 2-2V5c0-1.1-.9-2-2-2zM9 17H7v-7h2v7zm4 0h-2V7h2v10zm4 0h-2v-4h2v4z\"/>\n",
              "    </g>\n",
              "</svg>\n",
              "  </button>\n",
              "\n",
              "<style>\n",
              "  .colab-df-quickchart {\n",
              "      --bg-color: #E8F0FE;\n",
              "      --fill-color: #1967D2;\n",
              "      --hover-bg-color: #E2EBFA;\n",
              "      --hover-fill-color: #174EA6;\n",
              "      --disabled-fill-color: #AAA;\n",
              "      --disabled-bg-color: #DDD;\n",
              "  }\n",
              "\n",
              "  [theme=dark] .colab-df-quickchart {\n",
              "      --bg-color: #3B4455;\n",
              "      --fill-color: #D2E3FC;\n",
              "      --hover-bg-color: #434B5C;\n",
              "      --hover-fill-color: #FFFFFF;\n",
              "      --disabled-bg-color: #3B4455;\n",
              "      --disabled-fill-color: #666;\n",
              "  }\n",
              "\n",
              "  .colab-df-quickchart {\n",
              "    background-color: var(--bg-color);\n",
              "    border: none;\n",
              "    border-radius: 50%;\n",
              "    cursor: pointer;\n",
              "    display: none;\n",
              "    fill: var(--fill-color);\n",
              "    height: 32px;\n",
              "    padding: 0;\n",
              "    width: 32px;\n",
              "  }\n",
              "\n",
              "  .colab-df-quickchart:hover {\n",
              "    background-color: var(--hover-bg-color);\n",
              "    box-shadow: 0 1px 2px rgba(60, 64, 67, 0.3), 0 1px 3px 1px rgba(60, 64, 67, 0.15);\n",
              "    fill: var(--button-hover-fill-color);\n",
              "  }\n",
              "\n",
              "  .colab-df-quickchart-complete:disabled,\n",
              "  .colab-df-quickchart-complete:disabled:hover {\n",
              "    background-color: var(--disabled-bg-color);\n",
              "    fill: var(--disabled-fill-color);\n",
              "    box-shadow: none;\n",
              "  }\n",
              "\n",
              "  .colab-df-spinner {\n",
              "    border: 2px solid var(--fill-color);\n",
              "    border-color: transparent;\n",
              "    border-bottom-color: var(--fill-color);\n",
              "    animation:\n",
              "      spin 1s steps(1) infinite;\n",
              "  }\n",
              "\n",
              "  @keyframes spin {\n",
              "    0% {\n",
              "      border-color: transparent;\n",
              "      border-bottom-color: var(--fill-color);\n",
              "      border-left-color: var(--fill-color);\n",
              "    }\n",
              "    20% {\n",
              "      border-color: transparent;\n",
              "      border-left-color: var(--fill-color);\n",
              "      border-top-color: var(--fill-color);\n",
              "    }\n",
              "    30% {\n",
              "      border-color: transparent;\n",
              "      border-left-color: var(--fill-color);\n",
              "      border-top-color: var(--fill-color);\n",
              "      border-right-color: var(--fill-color);\n",
              "    }\n",
              "    40% {\n",
              "      border-color: transparent;\n",
              "      border-right-color: var(--fill-color);\n",
              "      border-top-color: var(--fill-color);\n",
              "    }\n",
              "    60% {\n",
              "      border-color: transparent;\n",
              "      border-right-color: var(--fill-color);\n",
              "    }\n",
              "    80% {\n",
              "      border-color: transparent;\n",
              "      border-right-color: var(--fill-color);\n",
              "      border-bottom-color: var(--fill-color);\n",
              "    }\n",
              "    90% {\n",
              "      border-color: transparent;\n",
              "      border-bottom-color: var(--fill-color);\n",
              "    }\n",
              "  }\n",
              "</style>\n",
              "\n",
              "  <script>\n",
              "    async function quickchart(key) {\n",
              "      const quickchartButtonEl =\n",
              "        document.querySelector('#' + key + ' button');\n",
              "      quickchartButtonEl.disabled = true;  // To prevent multiple clicks.\n",
              "      quickchartButtonEl.classList.add('colab-df-spinner');\n",
              "      try {\n",
              "        const charts = await google.colab.kernel.invokeFunction(\n",
              "            'suggestCharts', [key], {});\n",
              "      } catch (error) {\n",
              "        console.error('Error during call to suggestCharts:', error);\n",
              "      }\n",
              "      quickchartButtonEl.classList.remove('colab-df-spinner');\n",
              "      quickchartButtonEl.classList.add('colab-df-quickchart-complete');\n",
              "    }\n",
              "    (() => {\n",
              "      let quickchartButtonEl =\n",
              "        document.querySelector('#df-aa650e0e-f06b-41a9-beb0-3da870a78d24 button');\n",
              "      quickchartButtonEl.style.display =\n",
              "        google.colab.kernel.accessAllowed ? 'block' : 'none';\n",
              "    })();\n",
              "  </script>\n",
              "</div>\n",
              "\n",
              "    </div>\n",
              "  </div>\n"
            ],
            "application/vnd.google.colaboratory.intrinsic+json": {
              "type": "dataframe",
              "variable_name": "x"
            }
          },
          "metadata": {},
          "execution_count": 65
        }
      ]
    },
    {
      "cell_type": "markdown",
      "source": [
        "### 07.04 Split Data"
      ],
      "metadata": {
        "id": "F_BVufTarKTH"
      }
    },
    {
      "cell_type": "code",
      "source": [
        "scaler = StandardScaler()\n",
        "x_train, x_test, y_train, y_test = train_test_split(x, y, test_size = 0.2, random_state = 42)\n",
        "\n",
        "print('x_train shape :', x_train.shape)\n",
        "print('x_test shape :', x_test.shape)\n",
        "print('=' * 50)\n",
        "print('y_train shape :', y_train.shape)\n",
        "print('y_test shape :', y_test.shape)"
      ],
      "metadata": {
        "id": "592JuZgZ9eHJ",
        "colab": {
          "base_uri": "https://localhost:8080/"
        },
        "outputId": "2497a857-84b0-4166-c5d9-11a78db4df0c"
      },
      "execution_count": 66,
      "outputs": [
        {
          "output_type": "stream",
          "name": "stdout",
          "text": [
            "x_train shape : (8000, 48)\n",
            "x_test shape : (2000, 48)\n",
            "==================================================\n",
            "y_train shape : (8000, 1)\n",
            "y_test shape : (2000, 1)\n"
          ]
        }
      ]
    },
    {
      "cell_type": "markdown",
      "source": [
        "## 08 Building Machine Learning Model\n",
        "https://www.geeksforgeeks.org/types-of-machine-learning/"
      ],
      "metadata": {
        "id": "fO0BqwOanfSs"
      }
    },
    {
      "cell_type": "markdown",
      "source": [
        "### 08.01 Supervised Machine Learning\n",
        "meaning = y variable already available from dataset / “Labelled Dataset”"
      ],
      "metadata": {
        "id": "aAnQmuaXTSf8"
      }
    },
    {
      "cell_type": "markdown",
      "source": [
        "\n",
        "\n",
        "![image.png](data:image/png;base64,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)"
      ],
      "metadata": {
        "id": "jvnAd_m6rr1W"
      }
    },
    {
      "cell_type": "markdown",
      "source": [
        "#### 08.01.01 Classification\n",
        "predicting categorical target variables, which represent discrete classes or labels"
      ],
      "metadata": {
        "id": "D3idAplmr-kH"
      }
    },
    {
      "cell_type": "markdown",
      "source": [
        "##### 08.01.01.01 Logistic Regression"
      ],
      "metadata": {
        "id": "9eaTQAp-oToM"
      }
    },
    {
      "cell_type": "code",
      "source": [
        "from sklearn.linear_model import LogisticRegression"
      ],
      "metadata": {
        "id": "PljssNTbmc9w"
      },
      "execution_count": 67,
      "outputs": []
    },
    {
      "cell_type": "code",
      "source": [
        "def lr(x_train, y_train, x_test, y_test, save = False, matrix = False, unmatch = False):\n",
        "  try:\n",
        "    title = 'Logistic Regression Model'\n",
        "    model = LogisticRegression()\n",
        "    train = model.fit(x_train, y_train)\n",
        "    y_predicted = model.predict(x_test)\n",
        "    training_score = model.score(x_train, y_train)\n",
        "    testing_score = model.score(x_test, y_test)\n",
        "\n",
        "    print('=' * 100)\n",
        "    print(title)\n",
        "    print('=' * 100)\n",
        "    print('Training Score : ', str(round(training_score * 100, 2)), '%')\n",
        "    #print('Regression Coefficient :', str(train.coef_))\n",
        "    #print('Regression Interception :', str(train.intercept_))\n",
        "    print('Testing Score : ', str(round(testing_score * 100, 2)), '%')\n",
        "    print('=' * 100)\n",
        "    print('Classification Report\\n', classification_report(y_test, y_predicted))\n",
        "    print('=' * 100)\n",
        "\n",
        "    if save == True:\n",
        "      with open(title + '.sav', 'wb') as f:\n",
        "        pickle.dump(train, f)\n",
        "        print(title, 'has been saved')\n",
        "        print('=' * 100)\n",
        "    else:\n",
        "      pass\n",
        "\n",
        "    if matrix == True:\n",
        "      cm = confusion_matrix(y_test, y_predicted)\n",
        "\n",
        "      print('Confusion Matrix')\n",
        "      plt.figure(figsize = (5, 3))\n",
        "      sns.heatmap(cm, annot = True, fmt = 'd')\n",
        "      plt.xlabel('Predicted')\n",
        "      plt.ylabel('Actual')\n",
        "      plt.show()\n",
        "    else:\n",
        "      pass\n",
        "\n",
        "    if unmatch == True:\n",
        "      print('=' * 100)\n",
        "      print('Unmatched Prediction Result')\n",
        "      print('-' * 100)\n",
        "      for i in range(0, len(y)):\n",
        "        if y_predicted[i] != y[i]:\n",
        "          print ('Predicted : {0}\\nActual: {1}\\n'.format(y_predicted[i], y[i]))\n",
        "    else:\n",
        "      pass\n",
        "  except:\n",
        "    pass"
      ],
      "metadata": {
        "id": "iwE-5Ct9-ty1"
      },
      "execution_count": 68,
      "outputs": []
    },
    {
      "cell_type": "code",
      "source": [
        "lr(x_train, y_train, x_test, y_test, save = False, matrix = True, unmatch = False)"
      ],
      "metadata": {
        "id": "0vPS57LbCPi7",
        "colab": {
          "base_uri": "https://localhost:8080/",
          "height": 848
        },
        "outputId": "eb11302e-f2b7-4a46-ee37-e06489b0104d"
      },
      "execution_count": 69,
      "outputs": [
        {
          "output_type": "stream",
          "name": "stderr",
          "text": [
            "/usr/local/lib/python3.10/dist-packages/sklearn/utils/validation.py:1183: DataConversionWarning: A column-vector y was passed when a 1d array was expected. Please change the shape of y to (n_samples, ), for example using ravel().\n",
            "  y = column_or_1d(y, warn=True)\n",
            "/usr/local/lib/python3.10/dist-packages/sklearn/linear_model/_logistic.py:460: ConvergenceWarning: lbfgs failed to converge (status=1):\n",
            "STOP: TOTAL NO. of ITERATIONS REACHED LIMIT.\n",
            "\n",
            "Increase the number of iterations (max_iter) or scale the data as shown in:\n",
            "    https://scikit-learn.org/stable/modules/preprocessing.html\n",
            "Please also refer to the documentation for alternative solver options:\n",
            "    https://scikit-learn.org/stable/modules/linear_model.html#logistic-regression\n",
            "  n_iter_i = _check_optimize_result(\n"
          ]
        },
        {
          "output_type": "stream",
          "name": "stdout",
          "text": [
            "====================================================================================================\n",
            "Logistic Regression Model\n",
            "====================================================================================================\n",
            "Training Score :  93.05 %\n",
            "Testing Score :  91.75 %\n",
            "====================================================================================================\n",
            "Classification Report\n",
            "               precision    recall  f1-score   support\n",
            "\n",
            "           0       0.92      0.91      0.92       988\n",
            "           1       0.92      0.92      0.92      1012\n",
            "\n",
            "    accuracy                           0.92      2000\n",
            "   macro avg       0.92      0.92      0.92      2000\n",
            "weighted avg       0.92      0.92      0.92      2000\n",
            "\n",
            "====================================================================================================\n",
            "Confusion Matrix\n"
          ]
        },
        {
          "output_type": "display_data",
          "data": {
            "text/plain": [
              "<Figure size 500x300 with 2 Axes>"
            ],
            "image/png": "[encoded data removed]"
          },
          "metadata": {}
        }
      ]
    },
    {
      "cell_type": "markdown",
      "source": [
        "##### 08.01.01.02 Support Vector Machine"
      ],
      "metadata": {
        "id": "Gq65PbBSs-Mr"
      }
    },
    {
      "cell_type": "code",
      "source": [
        "from sklearn.svm import SVC"
      ],
      "metadata": {
        "id": "izsfbiUgG8U2"
      },
      "execution_count": 70,
      "outputs": []
    },
    {
      "cell_type": "code",
      "source": [
        "def svm(x_train, y_train, x_test, y_test, save = False, matrix = False, unmatch = False):\n",
        "  try:\n",
        "    title = 'Support Vector Machine Model'\n",
        "    model = SVC()\n",
        "    train = model.fit(x_train, y_train)\n",
        "    y_predicted = model.predict(x_test)\n",
        "    training_score = model.score(x_train, y_train)\n",
        "    testing_score = model.score(x_test, y_test)\n",
        "\n",
        "    print('=' * 100)\n",
        "    print(title)\n",
        "    print('=' * 100)\n",
        "    print('Training Score : ', str(round(training_score * 100, 2)), '%')\n",
        "    print('Testing Score : ', str(round(testing_score * 100, 2)), '%')\n",
        "    print('=' * 100)\n",
        "    print('Classification Report\\n', classification_report(y_test, y_predicted))\n",
        "    print('=' * 100)\n",
        "\n",
        "    if save == True:\n",
        "      with open(title + '.sav', 'wb') as f:\n",
        "        pickle.dump(train, f)\n",
        "        print(title, 'has been saved')\n",
        "        print('=' * 100)\n",
        "    else:\n",
        "      pass\n",
        "\n",
        "    if matrix == True:\n",
        "      cm = confusion_matrix(y_test, y_predicted)\n",
        "\n",
        "      print('Confusion Matrix')\n",
        "      plt.figure(figsize = (5, 3))\n",
        "      sns.heatmap(cm, annot = True, fmt = 'd')\n",
        "      plt.xlabel('Predicted')\n",
        "      plt.ylabel('Actual')\n",
        "      plt.show()\n",
        "    else:\n",
        "      pass\n",
        "\n",
        "    if unmatch == True:\n",
        "      print('=' * 100)\n",
        "      print('Unmatched Prediction Result')\n",
        "      print('-' * 100)\n",
        "      for i in range(0, len(y)):\n",
        "        if y_predicted[i] != y[i]:\n",
        "          print ('Predicted : {0}\\nActual: {1}\\n'.format(y_predicted[i], y[i]))\n",
        "    else:\n",
        "      pass\n",
        "  except:\n",
        "    pass"
      ],
      "metadata": {
        "id": "-1_zw6vpHHeg"
      },
      "execution_count": 71,
      "outputs": []
    },
    {
      "cell_type": "code",
      "source": [
        "svm(x_train, y_train, x_test, y_test, save = False, matrix = True, unmatch = False)"
      ],
      "metadata": {
        "id": "t4bGzUliHTLQ",
        "colab": {
          "base_uri": "https://localhost:8080/",
          "height": 700
        },
        "outputId": "3143ba79-42cf-4835-8a9b-18d66a10180a"
      },
      "execution_count": 72,
      "outputs": [
        {
          "output_type": "stream",
          "name": "stderr",
          "text": [
            "/usr/local/lib/python3.10/dist-packages/sklearn/utils/validation.py:1183: DataConversionWarning: A column-vector y was passed when a 1d array was expected. Please change the shape of y to (n_samples, ), for example using ravel().\n",
            "  y = column_or_1d(y, warn=True)\n"
          ]
        },
        {
          "output_type": "stream",
          "name": "stdout",
          "text": [
            "====================================================================================================\n",
            "Support Vector Machine Model\n",
            "====================================================================================================\n",
            "Training Score :  86.34 %\n",
            "Testing Score :  86.35 %\n",
            "====================================================================================================\n",
            "Classification Report\n",
            "               precision    recall  f1-score   support\n",
            "\n",
            "           0       0.90      0.82      0.86       988\n",
            "           1       0.84      0.91      0.87      1012\n",
            "\n",
            "    accuracy                           0.86      2000\n",
            "   macro avg       0.87      0.86      0.86      2000\n",
            "weighted avg       0.87      0.86      0.86      2000\n",
            "\n",
            "====================================================================================================\n",
            "Confusion Matrix\n"
          ]
        },
        {
          "output_type": "display_data",
          "data": {
            "text/plain": [
              "<Figure size 500x300 with 2 Axes>"
            ],
            "image/png": "[encoded data removed]"
          },
          "metadata": {}
        }
      ]
    },
    {
      "cell_type": "markdown",
      "source": [
        "##### 08.01.01.03 Random Forest"
      ],
      "metadata": {
        "id": "JoSYjFngtCjb"
      }
    },
    {
      "cell_type": "code",
      "source": [
        "from sklearn.ensemble import RandomForestClassifier"
      ],
      "metadata": {
        "id": "k_ETcLtFqonP"
      },
      "execution_count": 73,
      "outputs": []
    },
    {
      "cell_type": "code",
      "source": [
        "def rf(x_train, y_train, x_test, y_test, save = False, matrix = False, unmatch = False):\n",
        "  try:\n",
        "    title = 'Random Forest Model'\n",
        "    model = RandomForestClassifier()\n",
        "    train = model.fit(x_train, y_train)\n",
        "    y_predicted = model.predict(x_test)\n",
        "    training_score = model.score(x_train, y_train)\n",
        "    testing_score = model.score(x_test, y_test)\n",
        "\n",
        "    print('=' * 100)\n",
        "    print(title)\n",
        "    print('=' * 100)\n",
        "    print('Training Score : ', str(round(training_score * 100, 2)), '%')\n",
        "    print('Testing Score : ', str(round(testing_score * 100, 2)), '%')\n",
        "    print('=' * 100)\n",
        "    print('Classification Report\\n', classification_report(y_test, y_predicted))\n",
        "    print('=' * 100)\n",
        "\n",
        "    if save == True:\n",
        "      with open(title + '.sav', 'wb') as f:\n",
        "        pickle.dump(train, f)\n",
        "        print(title, 'has been saved')\n",
        "        print('=' * 100)\n",
        "    else:\n",
        "      pass\n",
        "\n",
        "    if matrix == True:\n",
        "      cm = confusion_matrix(y_test, y_predicted)\n",
        "\n",
        "      print('Confusion Matrix')\n",
        "      plt.figure(figsize = (5, 3))\n",
        "      sns.heatmap(cm, annot = True, fmt = 'd')\n",
        "      plt.xlabel('Predicted')\n",
        "      plt.ylabel('Actual')\n",
        "      plt.show()\n",
        "    else:\n",
        "      pass\n",
        "\n",
        "    if unmatch == True:\n",
        "      print('=' * 100)\n",
        "      print('Unmatched Prediction Result')\n",
        "      print('-' * 100)\n",
        "      for i in range(0, len(y)):\n",
        "        if y_predicted[i] != y[i]:\n",
        "          print ('Predicted : {0}\\nActual: {1}\\n'.format(y_predicted[i], y[i]))\n",
        "    else:\n",
        "      pass\n",
        "  except:\n",
        "    pass"
      ],
      "metadata": {
        "id": "DKdifQGlHi37"
      },
      "execution_count": 74,
      "outputs": []
    },
    {
      "cell_type": "code",
      "source": [
        "rf(x_train, y_train, x_test, y_test, save = False, matrix = True, unmatch = False)"
      ],
      "metadata": {
        "id": "v36n8WwYHu75",
        "colab": {
          "base_uri": "https://localhost:8080/",
          "height": 680
        },
        "outputId": "ed26e316-20f8-4fb3-814c-169ec30a9d75"
      },
      "execution_count": 75,
      "outputs": [
        {
          "output_type": "stream",
          "name": "stderr",
          "text": [
            "/usr/local/lib/python3.10/dist-packages/sklearn/base.py:1152: DataConversionWarning: A column-vector y was passed when a 1d array was expected. Please change the shape of y to (n_samples,), for example using ravel().\n",
            "  return fit_method(estimator, *args, **kwargs)\n"
          ]
        },
        {
          "output_type": "stream",
          "name": "stdout",
          "text": [
            "====================================================================================================\n",
            "Random Forest Model\n",
            "====================================================================================================\n",
            "Training Score :  100.0 %\n",
            "Testing Score :  98.25 %\n",
            "====================================================================================================\n",
            "Classification Report\n",
            "               precision    recall  f1-score   support\n",
            "\n",
            "           0       0.98      0.98      0.98       988\n",
            "           1       0.98      0.98      0.98      1012\n",
            "\n",
            "    accuracy                           0.98      2000\n",
            "   macro avg       0.98      0.98      0.98      2000\n",
            "weighted avg       0.98      0.98      0.98      2000\n",
            "\n",
            "====================================================================================================\n",
            "Confusion Matrix\n"
          ]
        },
        {
          "output_type": "display_data",
          "data": {
            "text/plain": [
              "<Figure size 500x300 with 2 Axes>"
            ],
            "image/png": "[encoded data removed]"
          },
          "metadata": {}
        }
      ]
    },
    {
      "cell_type": "markdown",
      "source": [
        "##### 08.01.01.04 Decision Tree Classifier"
      ],
      "metadata": {
        "id": "wR1TjMmN34BW"
      }
    },
    {
      "cell_type": "code",
      "source": [
        "from sklearn.tree import DecisionTreeClassifier, export_graphviz"
      ],
      "metadata": {
        "id": "4dWdIiuS37dW"
      },
      "execution_count": 76,
      "outputs": []
    },
    {
      "cell_type": "code",
      "source": [
        "def dtc(x_train, y_train, x_test, y_test, save = False, matrix = False, unmatch = False):\n",
        "  try:\n",
        "    title = 'Decision Tree Classifier Model'\n",
        "    model = DecisionTreeClassifier()\n",
        "    train = model.fit(x_train, y_train)\n",
        "    y_predicted = model.predict(x_test)\n",
        "    training_score = model.score(x_train, y_train)\n",
        "    testing_score = model.score(x_test, y_test)\n",
        "\n",
        "    print('=' * 100)\n",
        "    print(title)\n",
        "    print('=' * 100)\n",
        "    print('Training Score : ', str(round(training_score * 100, 2)), '%')\n",
        "    print('Testing Score : ', str(round(testing_score * 100, 2)), '%')\n",
        "    print('=' * 100)\n",
        "    print('Classification Report\\n', classification_report(y_test, y_predicted))\n",
        "    print('=' * 100)\n",
        "\n",
        "    if save == True:\n",
        "      with open(title + '.sav', 'wb') as f:\n",
        "        pickle.dump(train, f)\n",
        "        print(title, 'has been saved')\n",
        "        print('=' * 100)\n",
        "    else:\n",
        "      pass\n",
        "\n",
        "    if matrix == True:\n",
        "      cm = confusion_matrix(y_test, y_predicted)\n",
        "\n",
        "      print('Confusion Matrix')\n",
        "      plt.figure(figsize = (5, 3))\n",
        "      sns.heatmap(cm, annot = True, fmt = 'd')\n",
        "      plt.xlabel('Predicted')\n",
        "      plt.ylabel('Actual')\n",
        "      plt.show()\n",
        "    else:\n",
        "      pass\n",
        "\n",
        "    if unmatch == True:\n",
        "      print('=' * 100)\n",
        "      print('Unmatched Prediction Result')\n",
        "      print('-' * 100)\n",
        "      for i in range(0, len(y)):\n",
        "        if y_predicted[i] != y[i]:\n",
        "          print ('Predicted : {0}\\nActual: {1}\\n'.format(y_predicted[i], y[i]))\n",
        "    else:\n",
        "      pass\n",
        "  except:\n",
        "    pass"
      ],
      "metadata": {
        "id": "FqZnEWqvH6zd"
      },
      "execution_count": 77,
      "outputs": []
    },
    {
      "cell_type": "code",
      "source": [
        "dtc(x_train, y_train, x_test, y_test, save = False, matrix = True, unmatch = False)"
      ],
      "metadata": {
        "id": "Dlpriy2mIJHQ",
        "colab": {
          "base_uri": "https://localhost:8080/",
          "height": 643
        },
        "outputId": "2b66f357-67ab-4ff1-a4c6-76c22b96a002"
      },
      "execution_count": 78,
      "outputs": [
        {
          "output_type": "stream",
          "name": "stdout",
          "text": [
            "====================================================================================================\n",
            "Decision Tree Classifier Model\n",
            "====================================================================================================\n",
            "Training Score :  100.0 %\n",
            "Testing Score :  97.2 %\n",
            "====================================================================================================\n",
            "Classification Report\n",
            "               precision    recall  f1-score   support\n",
            "\n",
            "           0       0.97      0.97      0.97       988\n",
            "           1       0.97      0.98      0.97      1012\n",
            "\n",
            "    accuracy                           0.97      2000\n",
            "   macro avg       0.97      0.97      0.97      2000\n",
            "weighted avg       0.97      0.97      0.97      2000\n",
            "\n",
            "====================================================================================================\n",
            "Confusion Matrix\n"
          ]
        },
        {
          "output_type": "display_data",
          "data": {
            "text/plain": [
              "<Figure size 500x300 with 2 Axes>"
            ],
            "image/png": "[encoded data removed]"
          },
          "metadata": {}
        }
      ]
    },
    {
      "cell_type": "markdown",
      "source": [
        "##### 08.01.01.05 K-Nearest Neighbors (KNN)"
      ],
      "metadata": {
        "id": "_DWO5FP65wVc"
      }
    },
    {
      "cell_type": "code",
      "source": [
        "from sklearn.neighbors import KNeighborsClassifier"
      ],
      "metadata": {
        "id": "c_p3LB4D50Z4"
      },
      "execution_count": 79,
      "outputs": []
    },
    {
      "cell_type": "code",
      "source": [
        "def knn(x_train, y_train, x_test, y_test, save = False, matrix = False, unmatch = False):\n",
        "  try:\n",
        "    title = 'K-Nearest Neighbors Model'\n",
        "    model = KNeighborsClassifier(n_neighbors = 5, metric = 'minkowski', p = 2)\n",
        "    sc = StandardScaler()\n",
        "    x_train_sc = sc.fit_transform(x_train)\n",
        "    x_test_sc = sc.transform(x_test)\n",
        "\n",
        "    train = model.fit(x_train_sc, y_train)\n",
        "    y_predicted = model.predict(x_test_sc)\n",
        "    training_score = model.score(x_train_sc, y_train)\n",
        "    testing_score = model.score(x_test_sc, y_test)\n",
        "\n",
        "    print('=' * 100)\n",
        "    print(title)\n",
        "    print('=' * 100)\n",
        "    print('Training Score : ', str(round(training_score * 100, 2)), '%')\n",
        "    print('Testing Score : ', str(round(testing_score * 100, 2)), '%')\n",
        "    print('=' * 100)\n",
        "    print('Classification Report\\n', classification_report(y_test, y_predicted))\n",
        "    print('=' * 100)\n",
        "\n",
        "    if save == True:\n",
        "      with open(title + '.sav', 'wb') as f:\n",
        "        pickle.dump(train, f)\n",
        "        print(title, 'has been saved')\n",
        "        print('=' * 100)\n",
        "    else:\n",
        "      pass\n",
        "\n",
        "    if matrix == True:\n",
        "      cm = confusion_matrix(y_test, y_predicted)\n",
        "\n",
        "      print('Confusion Matrix')\n",
        "      plt.figure(figsize = (5, 3))\n",
        "      sns.heatmap(cm, annot = True, fmt = 'd')\n",
        "      plt.xlabel('Predicted')\n",
        "      plt.ylabel('Actual')\n",
        "      plt.show()\n",
        "    else:\n",
        "      pass\n",
        "\n",
        "    if unmatch == True:\n",
        "      print('=' * 100)\n",
        "      print('Unmatched Prediction Result')\n",
        "      print('-' * 100)\n",
        "      for i in range(0, len(y)):\n",
        "        if y_predicted[i] != y[i]:\n",
        "          print ('Predicted : {0}\\nActual: {1}\\n'.format(y_predicted[i], y[i]))\n",
        "    else:\n",
        "      pass\n",
        "  except:\n",
        "    pass"
      ],
      "metadata": {
        "id": "iF35an0gQCt2"
      },
      "execution_count": 80,
      "outputs": []
    },
    {
      "cell_type": "code",
      "source": [
        "knn(x_train, y_train, x_test, y_test, save = False, matrix = True, unmatch = False)"
      ],
      "metadata": {
        "id": "ZRyDB7G_QsRJ",
        "colab": {
          "base_uri": "https://localhost:8080/",
          "height": 700
        },
        "outputId": "675bf095-b6dc-4254-80a5-430a88a0c698"
      },
      "execution_count": 81,
      "outputs": [
        {
          "output_type": "stream",
          "name": "stderr",
          "text": [
            "/usr/local/lib/python3.10/dist-packages/sklearn/neighbors/_classification.py:233: DataConversionWarning: A column-vector y was passed when a 1d array was expected. Please change the shape of y to (n_samples,), for example using ravel().\n",
            "  return self._fit(X, y)\n"
          ]
        },
        {
          "output_type": "stream",
          "name": "stdout",
          "text": [
            "====================================================================================================\n",
            "K-Nearest Neighbors Model\n",
            "====================================================================================================\n",
            "Training Score :  96.25 %\n",
            "Testing Score :  94.95 %\n",
            "====================================================================================================\n",
            "Classification Report\n",
            "               precision    recall  f1-score   support\n",
            "\n",
            "           0       0.95      0.95      0.95       988\n",
            "           1       0.95      0.95      0.95      1012\n",
            "\n",
            "    accuracy                           0.95      2000\n",
            "   macro avg       0.95      0.95      0.95      2000\n",
            "weighted avg       0.95      0.95      0.95      2000\n",
            "\n",
            "====================================================================================================\n",
            "Confusion Matrix\n"
          ]
        },
        {
          "output_type": "display_data",
          "data": {
            "text/plain": [
              "<Figure size 500x300 with 2 Axes>"
            ],
            "image/png": "[encoded data removed]"
          },
          "metadata": {}
        }
      ]
    },
    {
      "cell_type": "markdown",
      "source": [
        "##### 08.01.01.06 Naive Bayes"
      ],
      "metadata": {
        "id": "31XiJUQK6MDn"
      }
    },
    {
      "cell_type": "code",
      "source": [
        "from sklearn.naive_bayes import GaussianNB, MultinomialNB"
      ],
      "metadata": {
        "id": "XAkNXF1169O_"
      },
      "execution_count": 82,
      "outputs": []
    },
    {
      "cell_type": "code",
      "source": [
        "def nb(x_train, y_train, x_test, y_test, save = False, matrix = False, unmatch = False):\n",
        "  try:\n",
        "    title = 'Naive Bayes Model'\n",
        "    model = GaussianNB()\n",
        "    train = model.fit(x_train, y_train)\n",
        "    y_predicted = model.predict(x_test)\n",
        "    training_score = model.score(x_train, y_train)\n",
        "    testing_score = model.score(x_test, y_test)\n",
        "\n",
        "    print('=' * 100)\n",
        "    print(title)\n",
        "    print('=' * 100)\n",
        "    print('Training Score : ', str(round(training_score * 100, 2)), '%')\n",
        "    print('Testing Score : ', str(round(testing_score * 100, 2)), '%')\n",
        "    print('=' * 100)\n",
        "    print('Classification Report\\n', classification_report(y_test, y_predicted))\n",
        "    print('=' * 100)\n",
        "\n",
        "    if save == True:\n",
        "      with open(title + '.sav', 'wb') as f:\n",
        "        pickle.dump(train, f)\n",
        "        print(title, 'has been saved')\n",
        "        print('=' * 100)\n",
        "    else:\n",
        "      pass\n",
        "\n",
        "    if matrix == True:\n",
        "      cm = confusion_matrix(y_test, y_predicted)\n",
        "\n",
        "      print('Confusion Matrix')\n",
        "      plt.figure(figsize = (5, 3))\n",
        "      sns.heatmap(cm, annot = True, fmt = 'd')\n",
        "      plt.xlabel('Predicted')\n",
        "      plt.ylabel('Actual')\n",
        "      plt.show()\n",
        "    else:\n",
        "      pass\n",
        "\n",
        "    if unmatch == True:\n",
        "      print('=' * 100)\n",
        "      print('Unmatched Prediction Result')\n",
        "      print('-' * 100)\n",
        "      for i in range(0, len(y)):\n",
        "        if y_predicted[i] != y[i]:\n",
        "          print ('Predicted : {0}\\nActual: {1}\\n'.format(y_predicted[i], y[i]))\n",
        "    else:\n",
        "      pass\n",
        "  except:\n",
        "    pass"
      ],
      "metadata": {
        "id": "coIpp6mwQ3RD"
      },
      "execution_count": 83,
      "outputs": []
    },
    {
      "cell_type": "code",
      "source": [
        "nb(x_train, y_train, x_test, y_test, save = False, matrix = True, unmatch = False)"
      ],
      "metadata": {
        "id": "8lkuwVrBRG_a",
        "colab": {
          "base_uri": "https://localhost:8080/",
          "height": 700
        },
        "outputId": "4716d8fa-b4b4-4155-a33c-0f7ab8730045"
      },
      "execution_count": 84,
      "outputs": [
        {
          "output_type": "stream",
          "name": "stderr",
          "text": [
            "/usr/local/lib/python3.10/dist-packages/sklearn/utils/validation.py:1183: DataConversionWarning: A column-vector y was passed when a 1d array was expected. Please change the shape of y to (n_samples, ), for example using ravel().\n",
            "  y = column_or_1d(y, warn=True)\n"
          ]
        },
        {
          "output_type": "stream",
          "name": "stdout",
          "text": [
            "====================================================================================================\n",
            "Naive Bayes Model\n",
            "====================================================================================================\n",
            "Training Score :  84.66 %\n",
            "Testing Score :  84.55 %\n",
            "====================================================================================================\n",
            "Classification Report\n",
            "               precision    recall  f1-score   support\n",
            "\n",
            "           0       0.78      0.96      0.86       988\n",
            "           1       0.95      0.74      0.83      1012\n",
            "\n",
            "    accuracy                           0.85      2000\n",
            "   macro avg       0.86      0.85      0.84      2000\n",
            "weighted avg       0.86      0.85      0.84      2000\n",
            "\n",
            "====================================================================================================\n",
            "Confusion Matrix\n"
          ]
        },
        {
          "output_type": "display_data",
          "data": {
            "text/plain": [
              "<Figure size 500x300 with 2 Axes>"
            ],
            "image/png": "[encoded data removed]"
          },
          "metadata": {}
        }
      ]
    },
    {
      "cell_type": "markdown",
      "source": [
        "##### 08.01.01.07 K Fold Cross Validation"
      ],
      "metadata": {
        "id": "YZd_76iqsgxt"
      }
    },
    {
      "cell_type": "code",
      "source": [
        "from sklearn.model_selection import KFold\n",
        "from sklearn.model_selection import StratifiedKFold\n",
        "from sklearn.model_selection import cross_val_score\n",
        "\n",
        "kf = KFold(n_splits = 3)\n",
        "folds = StratifiedKFold(n_splits = 3)"
      ],
      "metadata": {
        "id": "It-YWKUys0oO"
      },
      "execution_count": 85,
      "outputs": []
    },
    {
      "cell_type": "code",
      "source": [
        "def get_score(model, x_train, x_test, y_train, y_test):\n",
        "  model.fit(x_train, y_train)\n",
        "  score = model.score(x_test, y_test)\n",
        "  rounded = str(round(score * 100, 2)) + '%'\n",
        "  return rounded"
      ],
      "metadata": {
        "id": "aGs3Bl-8s8wG"
      },
      "execution_count": 86,
      "outputs": []
    },
    {
      "cell_type": "code",
      "source": [
        "scores_lr = []\n",
        "scores_svm = []\n",
        "scores_rf = []\n",
        "scores_dtc = []\n",
        "scores_knn = []\n",
        "scores_nb = []\n",
        "\n",
        "try:\n",
        "  for train_index, test_index in kf.split(x):\n",
        "    scores_lr.append(get_score(LogisticRegression(), x_train, x_test, y_train, y_test))\n",
        "    scores_svm.append(get_score(SVC(), x_train, x_test, y_train, y_test))\n",
        "    scores_rf.append(get_score(RandomForestClassifier(), x_train, x_test, y_train, y_test))\n",
        "    scores_dtc.append(get_score(DecisionTreeClassifier(), x_train, x_test, y_train, y_test))\n",
        "    scores_knn.append(get_score(KNeighborsClassifier(), x_train, x_test, y_train, y_test))\n",
        "    scores_nb.append(get_score(GaussianNB(), x_train, x_test, y_train, y_test))\n",
        "except:\n",
        "  pass"
      ],
      "metadata": {
        "id": "HX8cZ3CjtFSZ",
        "colab": {
          "base_uri": "https://localhost:8080/"
        },
        "outputId": "3434b535-35cb-4205-e75d-a875dd4f9ef7"
      },
      "execution_count": 87,
      "outputs": [
        {
          "output_type": "stream",
          "name": "stderr",
          "text": [
            "/usr/local/lib/python3.10/dist-packages/sklearn/utils/validation.py:1183: DataConversionWarning: A column-vector y was passed when a 1d array was expected. Please change the shape of y to (n_samples, ), for example using ravel().\n",
            "  y = column_or_1d(y, warn=True)\n",
            "/usr/local/lib/python3.10/dist-packages/sklearn/linear_model/_logistic.py:460: ConvergenceWarning: lbfgs failed to converge (status=1):\n",
            "STOP: TOTAL NO. of ITERATIONS REACHED LIMIT.\n",
            "\n",
            "Increase the number of iterations (max_iter) or scale the data as shown in:\n",
            "    https://scikit-learn.org/stable/modules/preprocessing.html\n",
            "Please also refer to the documentation for alternative solver options:\n",
            "    https://scikit-learn.org/stable/modules/linear_model.html#logistic-regression\n",
            "  n_iter_i = _check_optimize_result(\n",
            "/usr/local/lib/python3.10/dist-packages/sklearn/utils/validation.py:1183: DataConversionWarning: A column-vector y was passed when a 1d array was expected. Please change the shape of y to (n_samples, ), for example using ravel().\n",
            "  y = column_or_1d(y, warn=True)\n",
            "/usr/local/lib/python3.10/dist-packages/sklearn/base.py:1152: DataConversionWarning: A column-vector y was passed when a 1d array was expected. Please change the shape of y to (n_samples,), for example using ravel().\n",
            "  return fit_method(estimator, *args, **kwargs)\n",
            "/usr/local/lib/python3.10/dist-packages/sklearn/neighbors/_classification.py:233: DataConversionWarning: A column-vector y was passed when a 1d array was expected. Please change the shape of y to (n_samples,), for example using ravel().\n",
            "  return self._fit(X, y)\n",
            "/usr/local/lib/python3.10/dist-packages/sklearn/utils/validation.py:1183: DataConversionWarning: A column-vector y was passed when a 1d array was expected. Please change the shape of y to (n_samples, ), for example using ravel().\n",
            "  y = column_or_1d(y, warn=True)\n",
            "/usr/local/lib/python3.10/dist-packages/sklearn/utils/validation.py:1183: DataConversionWarning: A column-vector y was passed when a 1d array was expected. Please change the shape of y to (n_samples, ), for example using ravel().\n",
            "  y = column_or_1d(y, warn=True)\n",
            "/usr/local/lib/python3.10/dist-packages/sklearn/linear_model/_logistic.py:460: ConvergenceWarning: lbfgs failed to converge (status=1):\n",
            "STOP: TOTAL NO. of ITERATIONS REACHED LIMIT.\n",
            "\n",
            "Increase the number of iterations (max_iter) or scale the data as shown in:\n",
            "    https://scikit-learn.org/stable/modules/preprocessing.html\n",
            "Please also refer to the documentation for alternative solver options:\n",
            "    https://scikit-learn.org/stable/modules/linear_model.html#logistic-regression\n",
            "  n_iter_i = _check_optimize_result(\n",
            "/usr/local/lib/python3.10/dist-packages/sklearn/utils/validation.py:1183: DataConversionWarning: A column-vector y was passed when a 1d array was expected. Please change the shape of y to (n_samples, ), for example using ravel().\n",
            "  y = column_or_1d(y, warn=True)\n",
            "/usr/local/lib/python3.10/dist-packages/sklearn/base.py:1152: DataConversionWarning: A column-vector y was passed when a 1d array was expected. Please change the shape of y to (n_samples,), for example using ravel().\n",
            "  return fit_method(estimator, *args, **kwargs)\n",
            "/usr/local/lib/python3.10/dist-packages/sklearn/neighbors/_classification.py:233: DataConversionWarning: A column-vector y was passed when a 1d array was expected. Please change the shape of y to (n_samples,), for example using ravel().\n",
            "  return self._fit(X, y)\n",
            "/usr/local/lib/python3.10/dist-packages/sklearn/utils/validation.py:1183: DataConversionWarning: A column-vector y was passed when a 1d array was expected. Please change the shape of y to (n_samples, ), for example using ravel().\n",
            "  y = column_or_1d(y, warn=True)\n",
            "/usr/local/lib/python3.10/dist-packages/sklearn/utils/validation.py:1183: DataConversionWarning: A column-vector y was passed when a 1d array was expected. Please change the shape of y to (n_samples, ), for example using ravel().\n",
            "  y = column_or_1d(y, warn=True)\n",
            "/usr/local/lib/python3.10/dist-packages/sklearn/linear_model/_logistic.py:460: ConvergenceWarning: lbfgs failed to converge (status=1):\n",
            "STOP: TOTAL NO. of ITERATIONS REACHED LIMIT.\n",
            "\n",
            "Increase the number of iterations (max_iter) or scale the data as shown in:\n",
            "    https://scikit-learn.org/stable/modules/preprocessing.html\n",
            "Please also refer to the documentation for alternative solver options:\n",
            "    https://scikit-learn.org/stable/modules/linear_model.html#logistic-regression\n",
            "  n_iter_i = _check_optimize_result(\n",
            "/usr/local/lib/python3.10/dist-packages/sklearn/utils/validation.py:1183: DataConversionWarning: A column-vector y was passed when a 1d array was expected. Please change the shape of y to (n_samples, ), for example using ravel().\n",
            "  y = column_or_1d(y, warn=True)\n",
            "/usr/local/lib/python3.10/dist-packages/sklearn/base.py:1152: DataConversionWarning: A column-vector y was passed when a 1d array was expected. Please change the shape of y to (n_samples,), for example using ravel().\n",
            "  return fit_method(estimator, *args, **kwargs)\n",
            "/usr/local/lib/python3.10/dist-packages/sklearn/neighbors/_classification.py:233: DataConversionWarning: A column-vector y was passed when a 1d array was expected. Please change the shape of y to (n_samples,), for example using ravel().\n",
            "  return self._fit(X, y)\n",
            "/usr/local/lib/python3.10/dist-packages/sklearn/utils/validation.py:1183: DataConversionWarning: A column-vector y was passed when a 1d array was expected. Please change the shape of y to (n_samples, ), for example using ravel().\n",
            "  y = column_or_1d(y, warn=True)\n"
          ]
        }
      ]
    },
    {
      "cell_type": "code",
      "source": [
        "try:\n",
        "  print('Logistic Regression Score :', str(scores_lr))\n",
        "  print('Support Vector Machine Score :', str(scores_svm))\n",
        "  print('Random Forest Score :', str(scores_rf))\n",
        "  print('Decision Tree Classifier Score :', str(scores_dtc))\n",
        "  print('K-Nearest Neighbors Score :', str(scores_knn))\n",
        "  print('Naive Bayes Score :', str(scores_nb))\n",
        "except:\n",
        "  pass"
      ],
      "metadata": {
        "id": "GwY6itE7R4th",
        "colab": {
          "base_uri": "https://localhost:8080/"
        },
        "outputId": "8a2ec928-96f3-45fd-c53f-e3d6cb65af34"
      },
      "execution_count": 88,
      "outputs": [
        {
          "output_type": "stream",
          "name": "stdout",
          "text": [
            "Logistic Regression Score : ['91.75%', '91.75%', '91.75%']\n",
            "Support Vector Machine Score : ['86.35%', '86.35%', '86.35%']\n",
            "Random Forest Score : ['98.2%', '98.35%', '98.45%']\n",
            "Decision Tree Classifier Score : ['97.05%', '97.35%', '97.2%']\n",
            "K-Nearest Neighbors Score : ['86.75%', '86.75%', '86.75%']\n",
            "Naive Bayes Score : ['84.55%', '84.55%', '84.55%']\n"
          ]
        }
      ]
    },
    {
      "cell_type": "markdown",
      "source": [
        "Other Method (More Simple)"
      ],
      "metadata": {
        "id": "uQS7cYTUvgvB"
      }
    },
    {
      "cell_type": "code",
      "source": [
        "scores_lr = []\n",
        "scores_svm = []\n",
        "scores_rf = []\n",
        "scores_dtc = []\n",
        "scores_knn = []\n",
        "scores_nb = []\n",
        "\n",
        "try:\n",
        "  lr = cross_val_score(LogisticRegression(), x, y)\n",
        "  for i in lr:\n",
        "    scores_lr.append(str(round(i * 100, 2)) + '%')\n",
        "\n",
        "  svm = cross_val_score(SVC(), x, y)\n",
        "  for i in svm:\n",
        "    scores_svm.append(str(round(i * 100, 2)) + '%')\n",
        "\n",
        "  rf = cross_val_score(RandomForestClassifier(n_estimators = 15), x, y)\n",
        "  for i in rf:\n",
        "    scores_rf.append(str(round(i * 100, 2)) + '%')\n",
        "\n",
        "  dtc = cross_val_score(DecisionTreeClassifier(), x, y)\n",
        "  for i in dtc:\n",
        "    scores_dtc.append(str(round(i * 100, 2)) + '%')\n",
        "\n",
        "  knn = cross_val_score(KNeighborsClassifier(), x, y)\n",
        "  for i in knn:\n",
        "    scores_knn.append(str(round(i * 100, 2)) + '%')\n",
        "\n",
        "  nb = cross_val_score(GaussianNB(), x, y)\n",
        "  for i in nb:\n",
        "    scores_nb.append(str(round(i * 100, 2)) + '%')\n",
        "except:\n",
        "  pass"
      ],
      "metadata": {
        "id": "2MHYfKpwV3Tu",
        "colab": {
          "base_uri": "https://localhost:8080/"
        },
        "outputId": "9fcb4f4c-4d05-4678-d8d5-8bebd9e3aea3"
      },
      "execution_count": 89,
      "outputs": [
        {
          "output_type": "stream",
          "name": "stderr",
          "text": [
            "/usr/local/lib/python3.10/dist-packages/sklearn/utils/validation.py:1183: DataConversionWarning: A column-vector y was passed when a 1d array was expected. Please change the shape of y to (n_samples, ), for example using ravel().\n",
            "  y = column_or_1d(y, warn=True)\n",
            "/usr/local/lib/python3.10/dist-packages/sklearn/linear_model/_logistic.py:460: ConvergenceWarning: lbfgs failed to converge (status=1):\n",
            "STOP: TOTAL NO. of ITERATIONS REACHED LIMIT.\n",
            "\n",
            "Increase the number of iterations (max_iter) or scale the data as shown in:\n",
            "    https://scikit-learn.org/stable/modules/preprocessing.html\n",
            "Please also refer to the documentation for alternative solver options:\n",
            "    https://scikit-learn.org/stable/modules/linear_model.html#logistic-regression\n",
            "  n_iter_i = _check_optimize_result(\n",
            "/usr/local/lib/python3.10/dist-packages/sklearn/utils/validation.py:1183: DataConversionWarning: A column-vector y was passed when a 1d array was expected. Please change the shape of y to (n_samples, ), for example using ravel().\n",
            "  y = column_or_1d(y, warn=True)\n",
            "/usr/local/lib/python3.10/dist-packages/sklearn/linear_model/_logistic.py:460: ConvergenceWarning: lbfgs failed to converge (status=1):\n",
            "STOP: TOTAL NO. of ITERATIONS REACHED LIMIT.\n",
            "\n",
            "Increase the number of iterations (max_iter) or scale the data as shown in:\n",
            "    https://scikit-learn.org/stable/modules/preprocessing.html\n",
            "Please also refer to the documentation for alternative solver options:\n",
            "    https://scikit-learn.org/stable/modules/linear_model.html#logistic-regression\n",
            "  n_iter_i = _check_optimize_result(\n",
            "/usr/local/lib/python3.10/dist-packages/sklearn/utils/validation.py:1183: DataConversionWarning: A column-vector y was passed when a 1d array was expected. Please change the shape of y to (n_samples, ), for example using ravel().\n",
            "  y = column_or_1d(y, warn=True)\n",
            "/usr/local/lib/python3.10/dist-packages/sklearn/linear_model/_logistic.py:460: ConvergenceWarning: lbfgs failed to converge (status=1):\n",
            "STOP: TOTAL NO. of ITERATIONS REACHED LIMIT.\n",
            "\n",
            "Increase the number of iterations (max_iter) or scale the data as shown in:\n",
            "    https://scikit-learn.org/stable/modules/preprocessing.html\n",
            "Please also refer to the documentation for alternative solver options:\n",
            "    https://scikit-learn.org/stable/modules/linear_model.html#logistic-regression\n",
            "  n_iter_i = _check_optimize_result(\n",
            "/usr/local/lib/python3.10/dist-packages/sklearn/utils/validation.py:1183: DataConversionWarning: A column-vector y was passed when a 1d array was expected. Please change the shape of y to (n_samples, ), for example using ravel().\n",
            "  y = column_or_1d(y, warn=True)\n",
            "/usr/local/lib/python3.10/dist-packages/sklearn/linear_model/_logistic.py:460: ConvergenceWarning: lbfgs failed to converge (status=1):\n",
            "STOP: TOTAL NO. of ITERATIONS REACHED LIMIT.\n",
            "\n",
            "Increase the number of iterations (max_iter) or scale the data as shown in:\n",
            "    https://scikit-learn.org/stable/modules/preprocessing.html\n",
            "Please also refer to the documentation for alternative solver options:\n",
            "    https://scikit-learn.org/stable/modules/linear_model.html#logistic-regression\n",
            "  n_iter_i = _check_optimize_result(\n",
            "/usr/local/lib/python3.10/dist-packages/sklearn/utils/validation.py:1183: DataConversionWarning: A column-vector y was passed when a 1d array was expected. Please change the shape of y to (n_samples, ), for example using ravel().\n",
            "  y = column_or_1d(y, warn=True)\n",
            "/usr/local/lib/python3.10/dist-packages/sklearn/linear_model/_logistic.py:460: ConvergenceWarning: lbfgs failed to converge (status=1):\n",
            "STOP: TOTAL NO. of ITERATIONS REACHED LIMIT.\n",
            "\n",
            "Increase the number of iterations (max_iter) or scale the data as shown in:\n",
            "    https://scikit-learn.org/stable/modules/preprocessing.html\n",
            "Please also refer to the documentation for alternative solver options:\n",
            "    https://scikit-learn.org/stable/modules/linear_model.html#logistic-regression\n",
            "  n_iter_i = _check_optimize_result(\n",
            "/usr/local/lib/python3.10/dist-packages/sklearn/utils/validation.py:1183: DataConversionWarning: A column-vector y was passed when a 1d array was expected. Please change the shape of y to (n_samples, ), for example using ravel().\n",
            "  y = column_or_1d(y, warn=True)\n",
            "/usr/local/lib/python3.10/dist-packages/sklearn/utils/validation.py:1183: DataConversionWarning: A column-vector y was passed when a 1d array was expected. Please change the shape of y to (n_samples, ), for example using ravel().\n",
            "  y = column_or_1d(y, warn=True)\n",
            "/usr/local/lib/python3.10/dist-packages/sklearn/utils/validation.py:1183: DataConversionWarning: A column-vector y was passed when a 1d array was expected. Please change the shape of y to (n_samples, ), for example using ravel().\n",
            "  y = column_or_1d(y, warn=True)\n",
            "/usr/local/lib/python3.10/dist-packages/sklearn/utils/validation.py:1183: DataConversionWarning: A column-vector y was passed when a 1d array was expected. Please change the shape of y to (n_samples, ), for example using ravel().\n",
            "  y = column_or_1d(y, warn=True)\n",
            "/usr/local/lib/python3.10/dist-packages/sklearn/utils/validation.py:1183: DataConversionWarning: A column-vector y was passed when a 1d array was expected. Please change the shape of y to (n_samples, ), for example using ravel().\n",
            "  y = column_or_1d(y, warn=True)\n",
            "/usr/local/lib/python3.10/dist-packages/sklearn/base.py:1152: DataConversionWarning: A column-vector y was passed when a 1d array was expected. Please change the shape of y to (n_samples,), for example using ravel().\n",
            "  return fit_method(estimator, *args, **kwargs)\n",
            "/usr/local/lib/python3.10/dist-packages/sklearn/base.py:1152: DataConversionWarning: A column-vector y was passed when a 1d array was expected. Please change the shape of y to (n_samples,), for example using ravel().\n",
            "  return fit_method(estimator, *args, **kwargs)\n",
            "/usr/local/lib/python3.10/dist-packages/sklearn/base.py:1152: DataConversionWarning: A column-vector y was passed when a 1d array was expected. Please change the shape of y to (n_samples,), for example using ravel().\n",
            "  return fit_method(estimator, *args, **kwargs)\n",
            "/usr/local/lib/python3.10/dist-packages/sklearn/base.py:1152: DataConversionWarning: A column-vector y was passed when a 1d array was expected. Please change the shape of y to (n_samples,), for example using ravel().\n",
            "  return fit_method(estimator, *args, **kwargs)\n",
            "/usr/local/lib/python3.10/dist-packages/sklearn/base.py:1152: DataConversionWarning: A column-vector y was passed when a 1d array was expected. Please change the shape of y to (n_samples,), for example using ravel().\n",
            "  return fit_method(estimator, *args, **kwargs)\n",
            "/usr/local/lib/python3.10/dist-packages/sklearn/neighbors/_classification.py:233: DataConversionWarning: A column-vector y was passed when a 1d array was expected. Please change the shape of y to (n_samples,), for example using ravel().\n",
            "  return self._fit(X, y)\n",
            "/usr/local/lib/python3.10/dist-packages/sklearn/neighbors/_classification.py:233: DataConversionWarning: A column-vector y was passed when a 1d array was expected. Please change the shape of y to (n_samples,), for example using ravel().\n",
            "  return self._fit(X, y)\n",
            "/usr/local/lib/python3.10/dist-packages/sklearn/neighbors/_classification.py:233: DataConversionWarning: A column-vector y was passed when a 1d array was expected. Please change the shape of y to (n_samples,), for example using ravel().\n",
            "  return self._fit(X, y)\n",
            "/usr/local/lib/python3.10/dist-packages/sklearn/neighbors/_classification.py:233: DataConversionWarning: A column-vector y was passed when a 1d array was expected. Please change the shape of y to (n_samples,), for example using ravel().\n",
            "  return self._fit(X, y)\n",
            "/usr/local/lib/python3.10/dist-packages/sklearn/neighbors/_classification.py:233: DataConversionWarning: A column-vector y was passed when a 1d array was expected. Please change the shape of y to (n_samples,), for example using ravel().\n",
            "  return self._fit(X, y)\n",
            "/usr/local/lib/python3.10/dist-packages/sklearn/utils/validation.py:1183: DataConversionWarning: A column-vector y was passed when a 1d array was expected. Please change the shape of y to (n_samples, ), for example using ravel().\n",
            "  y = column_or_1d(y, warn=True)\n",
            "/usr/local/lib/python3.10/dist-packages/sklearn/utils/validation.py:1183: DataConversionWarning: A column-vector y was passed when a 1d array was expected. Please change the shape of y to (n_samples, ), for example using ravel().\n",
            "  y = column_or_1d(y, warn=True)\n",
            "/usr/local/lib/python3.10/dist-packages/sklearn/utils/validation.py:1183: DataConversionWarning: A column-vector y was passed when a 1d array was expected. Please change the shape of y to (n_samples, ), for example using ravel().\n",
            "  y = column_or_1d(y, warn=True)\n",
            "/usr/local/lib/python3.10/dist-packages/sklearn/utils/validation.py:1183: DataConversionWarning: A column-vector y was passed when a 1d array was expected. Please change the shape of y to (n_samples, ), for example using ravel().\n",
            "  y = column_or_1d(y, warn=True)\n",
            "/usr/local/lib/python3.10/dist-packages/sklearn/utils/validation.py:1183: DataConversionWarning: A column-vector y was passed when a 1d array was expected. Please change the shape of y to (n_samples, ), for example using ravel().\n",
            "  y = column_or_1d(y, warn=True)\n"
          ]
        }
      ]
    },
    {
      "cell_type": "code",
      "source": [
        "try:\n",
        "  print('Logistic Regression Score :', str(scores_lr))\n",
        "  print('Support Vector Machine Score :', str(scores_svm))\n",
        "  print('Random Forest Score :', str(scores_rf))\n",
        "  print('Decision Tree Classifier Score :', str(scores_dtc))\n",
        "  print('K-Nearest Neighbors Score :', str(scores_knn))\n",
        "  print('Naive Bayes Score :', str(scores_nb))\n",
        "except:\n",
        "  pass"
      ],
      "metadata": {
        "id": "e6StLpq6W2q6",
        "colab": {
          "base_uri": "https://localhost:8080/"
        },
        "outputId": "f21542e2-5c3b-4d3b-8b11-187c94653470"
      },
      "execution_count": 90,
      "outputs": [
        {
          "output_type": "stream",
          "name": "stdout",
          "text": [
            "Logistic Regression Score : ['92.5%', '93.9%', '94.55%', '87.55%', '92.4%']\n",
            "Support Vector Machine Score : ['84.55%', '87.0%', '90.75%', '77.55%', '63.2%']\n",
            "Random Forest Score : ['96.75%', '98.0%', '98.15%', '96.45%', '96.35%']\n",
            "Decision Tree Classifier Score : ['93.1%', '96.3%', '96.3%', '94.55%', '95.3%']\n",
            "K-Nearest Neighbors Score : ['82.45%', '87.35%', '87.75%', '80.5%', '72.4%']\n",
            "Naive Bayes Score : ['81.05%', '83.65%', '87.85%', '83.25%', '85.65%']\n"
          ]
        }
      ]
    },
    {
      "cell_type": "markdown",
      "source": [
        "##### 08.01.01.08 Hyper Parameter Tuning\n",
        "below is example with one ML model"
      ],
      "metadata": {
        "id": "gZrb1SjSBASw"
      }
    },
    {
      "cell_type": "code",
      "source": [
        "kernels = ['rbf', 'linear']\n",
        "C = [1, 10, 20]\n",
        "avg_scores = {}\n",
        "\n",
        "try:\n",
        "  for kval in kernels:\n",
        "    for cval in C:\n",
        "      cv_scores = cross_val_score(SVC(kernel = kval, C = cval, gamma = 'auto'), x, y, cv = 5)\n",
        "      avg_scores['svm_' + kval + '_' + str(cval)] = np.average(cv_scores)\n",
        "  for key, values in avg_scores.items():\n",
        "      print(f\"{key} : {str(round(values * 100, 2)) + '%'}\")\n",
        "  print('=' * 100)\n",
        "except:\n",
        "  pass #'''"
      ],
      "metadata": {
        "id": "9eQd1A2CBZC3",
        "colab": {
          "base_uri": "https://localhost:8080/"
        },
        "outputId": "acfea611-3d46-4a9f-ba0e-d21a17316bf8"
      },
      "execution_count": 91,
      "outputs": [
        {
          "output_type": "stream",
          "name": "stderr",
          "text": [
            "/usr/local/lib/python3.10/dist-packages/sklearn/utils/validation.py:1183: DataConversionWarning: A column-vector y was passed when a 1d array was expected. Please change the shape of y to (n_samples, ), for example using ravel().\n",
            "  y = column_or_1d(y, warn=True)\n",
            "/usr/local/lib/python3.10/dist-packages/sklearn/utils/validation.py:1183: DataConversionWarning: A column-vector y was passed when a 1d array was expected. Please change the shape of y to (n_samples, ), for example using ravel().\n",
            "  y = column_or_1d(y, warn=True)\n",
            "/usr/local/lib/python3.10/dist-packages/sklearn/utils/validation.py:1183: DataConversionWarning: A column-vector y was passed when a 1d array was expected. Please change the shape of y to (n_samples, ), for example using ravel().\n",
            "  y = column_or_1d(y, warn=True)\n",
            "/usr/local/lib/python3.10/dist-packages/sklearn/utils/validation.py:1183: DataConversionWarning: A column-vector y was passed when a 1d array was expected. Please change the shape of y to (n_samples, ), for example using ravel().\n",
            "  y = column_or_1d(y, warn=True)\n",
            "/usr/local/lib/python3.10/dist-packages/sklearn/utils/validation.py:1183: DataConversionWarning: A column-vector y was passed when a 1d array was expected. Please change the shape of y to (n_samples, ), for example using ravel().\n",
            "  y = column_or_1d(y, warn=True)\n",
            "/usr/local/lib/python3.10/dist-packages/sklearn/utils/validation.py:1183: DataConversionWarning: A column-vector y was passed when a 1d array was expected. Please change the shape of y to (n_samples, ), for example using ravel().\n",
            "  y = column_or_1d(y, warn=True)\n",
            "/usr/local/lib/python3.10/dist-packages/sklearn/utils/validation.py:1183: DataConversionWarning: A column-vector y was passed when a 1d array was expected. Please change the shape of y to (n_samples, ), for example using ravel().\n",
            "  y = column_or_1d(y, warn=True)\n",
            "/usr/local/lib/python3.10/dist-packages/sklearn/utils/validation.py:1183: DataConversionWarning: A column-vector y was passed when a 1d array was expected. Please change the shape of y to (n_samples, ), for example using ravel().\n",
            "  y = column_or_1d(y, warn=True)\n",
            "/usr/local/lib/python3.10/dist-packages/sklearn/utils/validation.py:1183: DataConversionWarning: A column-vector y was passed when a 1d array was expected. Please change the shape of y to (n_samples, ), for example using ravel().\n",
            "  y = column_or_1d(y, warn=True)\n",
            "/usr/local/lib/python3.10/dist-packages/sklearn/utils/validation.py:1183: DataConversionWarning: A column-vector y was passed when a 1d array was expected. Please change the shape of y to (n_samples, ), for example using ravel().\n",
            "  y = column_or_1d(y, warn=True)\n",
            "/usr/local/lib/python3.10/dist-packages/sklearn/utils/validation.py:1183: DataConversionWarning: A column-vector y was passed when a 1d array was expected. Please change the shape of y to (n_samples, ), for example using ravel().\n",
            "  y = column_or_1d(y, warn=True)\n",
            "/usr/local/lib/python3.10/dist-packages/sklearn/utils/validation.py:1183: DataConversionWarning: A column-vector y was passed when a 1d array was expected. Please change the shape of y to (n_samples, ), for example using ravel().\n",
            "  y = column_or_1d(y, warn=True)\n",
            "/usr/local/lib/python3.10/dist-packages/sklearn/utils/validation.py:1183: DataConversionWarning: A column-vector y was passed when a 1d array was expected. Please change the shape of y to (n_samples, ), for example using ravel().\n",
            "  y = column_or_1d(y, warn=True)\n",
            "/usr/local/lib/python3.10/dist-packages/sklearn/utils/validation.py:1183: DataConversionWarning: A column-vector y was passed when a 1d array was expected. Please change the shape of y to (n_samples, ), for example using ravel().\n",
            "  y = column_or_1d(y, warn=True)\n",
            "/usr/local/lib/python3.10/dist-packages/sklearn/utils/validation.py:1183: DataConversionWarning: A column-vector y was passed when a 1d array was expected. Please change the shape of y to (n_samples, ), for example using ravel().\n",
            "  y = column_or_1d(y, warn=True)\n",
            "/usr/local/lib/python3.10/dist-packages/sklearn/utils/validation.py:1183: DataConversionWarning: A column-vector y was passed when a 1d array was expected. Please change the shape of y to (n_samples, ), for example using ravel().\n",
            "  y = column_or_1d(y, warn=True)\n",
            "/usr/local/lib/python3.10/dist-packages/sklearn/utils/validation.py:1183: DataConversionWarning: A column-vector y was passed when a 1d array was expected. Please change the shape of y to (n_samples, ), for example using ravel().\n",
            "  y = column_or_1d(y, warn=True)\n",
            "/usr/local/lib/python3.10/dist-packages/sklearn/utils/validation.py:1183: DataConversionWarning: A column-vector y was passed when a 1d array was expected. Please change the shape of y to (n_samples, ), for example using ravel().\n",
            "  y = column_or_1d(y, warn=True)\n",
            "/usr/local/lib/python3.10/dist-packages/sklearn/utils/validation.py:1183: DataConversionWarning: A column-vector y was passed when a 1d array was expected. Please change the shape of y to (n_samples, ), for example using ravel().\n",
            "  y = column_or_1d(y, warn=True)\n",
            "/usr/local/lib/python3.10/dist-packages/sklearn/utils/validation.py:1183: DataConversionWarning: A column-vector y was passed when a 1d array was expected. Please change the shape of y to (n_samples, ), for example using ravel().\n",
            "  y = column_or_1d(y, warn=True)\n",
            "/usr/local/lib/python3.10/dist-packages/sklearn/utils/validation.py:1183: DataConversionWarning: A column-vector y was passed when a 1d array was expected. Please change the shape of y to (n_samples, ), for example using ravel().\n",
            "  y = column_or_1d(y, warn=True)\n",
            "/usr/local/lib/python3.10/dist-packages/sklearn/utils/validation.py:1183: DataConversionWarning: A column-vector y was passed when a 1d array was expected. Please change the shape of y to (n_samples, ), for example using ravel().\n",
            "  y = column_or_1d(y, warn=True)\n",
            "/usr/local/lib/python3.10/dist-packages/sklearn/utils/validation.py:1183: DataConversionWarning: A column-vector y was passed when a 1d array was expected. Please change the shape of y to (n_samples, ), for example using ravel().\n",
            "  y = column_or_1d(y, warn=True)\n",
            "/usr/local/lib/python3.10/dist-packages/sklearn/utils/validation.py:1183: DataConversionWarning: A column-vector y was passed when a 1d array was expected. Please change the shape of y to (n_samples, ), for example using ravel().\n",
            "  y = column_or_1d(y, warn=True)\n",
            "/usr/local/lib/python3.10/dist-packages/sklearn/utils/validation.py:1183: DataConversionWarning: A column-vector y was passed when a 1d array was expected. Please change the shape of y to (n_samples, ), for example using ravel().\n",
            "  y = column_or_1d(y, warn=True)\n",
            "/usr/local/lib/python3.10/dist-packages/sklearn/utils/validation.py:1183: DataConversionWarning: A column-vector y was passed when a 1d array was expected. Please change the shape of y to (n_samples, ), for example using ravel().\n",
            "  y = column_or_1d(y, warn=True)\n",
            "/usr/local/lib/python3.10/dist-packages/sklearn/utils/validation.py:1183: DataConversionWarning: A column-vector y was passed when a 1d array was expected. Please change the shape of y to (n_samples, ), for example using ravel().\n",
            "  y = column_or_1d(y, warn=True)\n",
            "/usr/local/lib/python3.10/dist-packages/sklearn/utils/validation.py:1183: DataConversionWarning: A column-vector y was passed when a 1d array was expected. Please change the shape of y to (n_samples, ), for example using ravel().\n",
            "  y = column_or_1d(y, warn=True)\n",
            "/usr/local/lib/python3.10/dist-packages/sklearn/utils/validation.py:1183: DataConversionWarning: A column-vector y was passed when a 1d array was expected. Please change the shape of y to (n_samples, ), for example using ravel().\n",
            "  y = column_or_1d(y, warn=True)\n",
            "/usr/local/lib/python3.10/dist-packages/sklearn/utils/validation.py:1183: DataConversionWarning: A column-vector y was passed when a 1d array was expected. Please change the shape of y to (n_samples, ), for example using ravel().\n",
            "  y = column_or_1d(y, warn=True)\n"
          ]
        },
        {
          "output_type": "stream",
          "name": "stdout",
          "text": [
            "svm_rbf_1 : 85.44%\n",
            "svm_rbf_10 : 87.8%\n",
            "svm_rbf_20 : 87.86%\n",
            "svm_linear_1 : 93.38%\n",
            "svm_linear_10 : 93.39%\n",
            "svm_linear_20 : 93.41%\n",
            "====================================================================================================\n"
          ]
        }
      ]
    },
    {
      "cell_type": "markdown",
      "source": [
        "##### 08.01.01.09 Grid Search\n",
        "below is example with one ML model"
      ],
      "metadata": {
        "id": "kBPf79WCBh0z"
      }
    },
    {
      "cell_type": "code",
      "source": [
        "from sklearn.model_selection import GridSearchCV"
      ],
      "metadata": {
        "id": "x3eGQXyVBjyj"
      },
      "execution_count": 92,
      "outputs": []
    },
    {
      "cell_type": "code",
      "source": [
        "def gsc_svm(x, y, params):\n",
        "  try:\n",
        "    model = GridSearchCV(SVC(gamma = 'auto'), params, cv = 5, return_train_score = False)\n",
        "\n",
        "    train = model.fit(x, y)\n",
        "\n",
        "    grid_df = pd.DataFrame(model.cv_results_)\n",
        "    grid_df = grid_df[['param_C', 'param_kernel', 'mean_test_score']]\n",
        "    grid_df = grid_df.sort_values('mean_test_score', ascending = False)\n",
        "    grid_df = grid_df.reset_index(drop = True)\n",
        "    print(grid_df)\n",
        "  except:\n",
        "    pass"
      ],
      "metadata": {
        "id": "j8JYGzxmdeoP"
      },
      "execution_count": 93,
      "outputs": []
    },
    {
      "cell_type": "code",
      "source": [
        "params = {\n",
        "  'C' : [1, 10, 20],\n",
        "  'kernel' : ['rbf', 'linear']\n",
        "}\n",
        "\n",
        "gsc_svm(x, y, params)"
      ],
      "metadata": {
        "id": "hM8HUVu6eWxj",
        "colab": {
          "base_uri": "https://localhost:8080/"
        },
        "outputId": "97ae84a7-bd5a-43a7-8be1-86352b6a4882"
      },
      "execution_count": 94,
      "outputs": [
        {
          "output_type": "stream",
          "name": "stderr",
          "text": [
            "/usr/local/lib/python3.10/dist-packages/sklearn/utils/validation.py:1183: DataConversionWarning: A column-vector y was passed when a 1d array was expected. Please change the shape of y to (n_samples, ), for example using ravel().\n",
            "  y = column_or_1d(y, warn=True)\n",
            "/usr/local/lib/python3.10/dist-packages/sklearn/utils/validation.py:1183: DataConversionWarning: A column-vector y was passed when a 1d array was expected. Please change the shape of y to (n_samples, ), for example using ravel().\n",
            "  y = column_or_1d(y, warn=True)\n",
            "/usr/local/lib/python3.10/dist-packages/sklearn/utils/validation.py:1183: DataConversionWarning: A column-vector y was passed when a 1d array was expected. Please change the shape of y to (n_samples, ), for example using ravel().\n",
            "  y = column_or_1d(y, warn=True)\n",
            "/usr/local/lib/python3.10/dist-packages/sklearn/utils/validation.py:1183: DataConversionWarning: A column-vector y was passed when a 1d array was expected. Please change the shape of y to (n_samples, ), for example using ravel().\n",
            "  y = column_or_1d(y, warn=True)\n",
            "/usr/local/lib/python3.10/dist-packages/sklearn/utils/validation.py:1183: DataConversionWarning: A column-vector y was passed when a 1d array was expected. Please change the shape of y to (n_samples, ), for example using ravel().\n",
            "  y = column_or_1d(y, warn=True)\n",
            "/usr/local/lib/python3.10/dist-packages/sklearn/utils/validation.py:1183: DataConversionWarning: A column-vector y was passed when a 1d array was expected. Please change the shape of y to (n_samples, ), for example using ravel().\n",
            "  y = column_or_1d(y, warn=True)\n",
            "/usr/local/lib/python3.10/dist-packages/sklearn/utils/validation.py:1183: DataConversionWarning: A column-vector y was passed when a 1d array was expected. Please change the shape of y to (n_samples, ), for example using ravel().\n",
            "  y = column_or_1d(y, warn=True)\n",
            "/usr/local/lib/python3.10/dist-packages/sklearn/utils/validation.py:1183: DataConversionWarning: A column-vector y was passed when a 1d array was expected. Please change the shape of y to (n_samples, ), for example using ravel().\n",
            "  y = column_or_1d(y, warn=True)\n",
            "/usr/local/lib/python3.10/dist-packages/sklearn/utils/validation.py:1183: DataConversionWarning: A column-vector y was passed when a 1d array was expected. Please change the shape of y to (n_samples, ), for example using ravel().\n",
            "  y = column_or_1d(y, warn=True)\n",
            "/usr/local/lib/python3.10/dist-packages/sklearn/utils/validation.py:1183: DataConversionWarning: A column-vector y was passed when a 1d array was expected. Please change the shape of y to (n_samples, ), for example using ravel().\n",
            "  y = column_or_1d(y, warn=True)\n",
            "/usr/local/lib/python3.10/dist-packages/sklearn/utils/validation.py:1183: DataConversionWarning: A column-vector y was passed when a 1d array was expected. Please change the shape of y to (n_samples, ), for example using ravel().\n",
            "  y = column_or_1d(y, warn=True)\n",
            "/usr/local/lib/python3.10/dist-packages/sklearn/utils/validation.py:1183: DataConversionWarning: A column-vector y was passed when a 1d array was expected. Please change the shape of y to (n_samples, ), for example using ravel().\n",
            "  y = column_or_1d(y, warn=True)\n",
            "/usr/local/lib/python3.10/dist-packages/sklearn/utils/validation.py:1183: DataConversionWarning: A column-vector y was passed when a 1d array was expected. Please change the shape of y to (n_samples, ), for example using ravel().\n",
            "  y = column_or_1d(y, warn=True)\n",
            "/usr/local/lib/python3.10/dist-packages/sklearn/utils/validation.py:1183: DataConversionWarning: A column-vector y was passed when a 1d array was expected. Please change the shape of y to (n_samples, ), for example using ravel().\n",
            "  y = column_or_1d(y, warn=True)\n",
            "/usr/local/lib/python3.10/dist-packages/sklearn/utils/validation.py:1183: DataConversionWarning: A column-vector y was passed when a 1d array was expected. Please change the shape of y to (n_samples, ), for example using ravel().\n",
            "  y = column_or_1d(y, warn=True)\n",
            "/usr/local/lib/python3.10/dist-packages/sklearn/utils/validation.py:1183: DataConversionWarning: A column-vector y was passed when a 1d array was expected. Please change the shape of y to (n_samples, ), for example using ravel().\n",
            "  y = column_or_1d(y, warn=True)\n",
            "/usr/local/lib/python3.10/dist-packages/sklearn/utils/validation.py:1183: DataConversionWarning: A column-vector y was passed when a 1d array was expected. Please change the shape of y to (n_samples, ), for example using ravel().\n",
            "  y = column_or_1d(y, warn=True)\n",
            "/usr/local/lib/python3.10/dist-packages/sklearn/utils/validation.py:1183: DataConversionWarning: A column-vector y was passed when a 1d array was expected. Please change the shape of y to (n_samples, ), for example using ravel().\n",
            "  y = column_or_1d(y, warn=True)\n",
            "/usr/local/lib/python3.10/dist-packages/sklearn/utils/validation.py:1183: DataConversionWarning: A column-vector y was passed when a 1d array was expected. Please change the shape of y to (n_samples, ), for example using ravel().\n",
            "  y = column_or_1d(y, warn=True)\n",
            "/usr/local/lib/python3.10/dist-packages/sklearn/utils/validation.py:1183: DataConversionWarning: A column-vector y was passed when a 1d array was expected. Please change the shape of y to (n_samples, ), for example using ravel().\n",
            "  y = column_or_1d(y, warn=True)\n",
            "/usr/local/lib/python3.10/dist-packages/sklearn/utils/validation.py:1183: DataConversionWarning: A column-vector y was passed when a 1d array was expected. Please change the shape of y to (n_samples, ), for example using ravel().\n",
            "  y = column_or_1d(y, warn=True)\n",
            "/usr/local/lib/python3.10/dist-packages/sklearn/utils/validation.py:1183: DataConversionWarning: A column-vector y was passed when a 1d array was expected. Please change the shape of y to (n_samples, ), for example using ravel().\n",
            "  y = column_or_1d(y, warn=True)\n",
            "/usr/local/lib/python3.10/dist-packages/sklearn/utils/validation.py:1183: DataConversionWarning: A column-vector y was passed when a 1d array was expected. Please change the shape of y to (n_samples, ), for example using ravel().\n",
            "  y = column_or_1d(y, warn=True)\n",
            "/usr/local/lib/python3.10/dist-packages/sklearn/utils/validation.py:1183: DataConversionWarning: A column-vector y was passed when a 1d array was expected. Please change the shape of y to (n_samples, ), for example using ravel().\n",
            "  y = column_or_1d(y, warn=True)\n",
            "/usr/local/lib/python3.10/dist-packages/sklearn/utils/validation.py:1183: DataConversionWarning: A column-vector y was passed when a 1d array was expected. Please change the shape of y to (n_samples, ), for example using ravel().\n",
            "  y = column_or_1d(y, warn=True)\n",
            "/usr/local/lib/python3.10/dist-packages/sklearn/utils/validation.py:1183: DataConversionWarning: A column-vector y was passed when a 1d array was expected. Please change the shape of y to (n_samples, ), for example using ravel().\n",
            "  y = column_or_1d(y, warn=True)\n",
            "/usr/local/lib/python3.10/dist-packages/sklearn/utils/validation.py:1183: DataConversionWarning: A column-vector y was passed when a 1d array was expected. Please change the shape of y to (n_samples, ), for example using ravel().\n",
            "  y = column_or_1d(y, warn=True)\n",
            "/usr/local/lib/python3.10/dist-packages/sklearn/utils/validation.py:1183: DataConversionWarning: A column-vector y was passed when a 1d array was expected. Please change the shape of y to (n_samples, ), for example using ravel().\n",
            "  y = column_or_1d(y, warn=True)\n",
            "/usr/local/lib/python3.10/dist-packages/sklearn/utils/validation.py:1183: DataConversionWarning: A column-vector y was passed when a 1d array was expected. Please change the shape of y to (n_samples, ), for example using ravel().\n",
            "  y = column_or_1d(y, warn=True)\n",
            "/usr/local/lib/python3.10/dist-packages/sklearn/utils/validation.py:1183: DataConversionWarning: A column-vector y was passed when a 1d array was expected. Please change the shape of y to (n_samples, ), for example using ravel().\n",
            "  y = column_or_1d(y, warn=True)\n",
            "/usr/local/lib/python3.10/dist-packages/sklearn/utils/validation.py:1183: DataConversionWarning: A column-vector y was passed when a 1d array was expected. Please change the shape of y to (n_samples, ), for example using ravel().\n",
            "  y = column_or_1d(y, warn=True)\n"
          ]
        },
        {
          "output_type": "stream",
          "name": "stdout",
          "text": [
            "  param_C param_kernel  mean_test_score\n",
            "0      20       linear           0.9341\n",
            "1      10       linear           0.9339\n",
            "2       1       linear           0.9338\n",
            "3      20          rbf           0.8786\n",
            "4      10          rbf           0.8780\n",
            "5       1          rbf           0.8544\n"
          ]
        }
      ]
    },
    {
      "cell_type": "markdown",
      "source": [
        "##### 08.01.01.10 Random Search"
      ],
      "metadata": {
        "id": "y76zXcr1DJvx"
      }
    },
    {
      "cell_type": "code",
      "source": [
        "from sklearn.model_selection import RandomizedSearchCV"
      ],
      "metadata": {
        "id": "Pus4IpDoDEcz"
      },
      "execution_count": 95,
      "outputs": []
    },
    {
      "cell_type": "code",
      "source": [
        "def rsc_svm(x, y, params):\n",
        "  try:\n",
        "    model = RandomizedSearchCV(SVC(gamma = 'auto'), params, cv = 5, return_train_score = False)\n",
        "\n",
        "    train = model.fit(x, y)\n",
        "\n",
        "    grid_df = pd.DataFrame(model.cv_results_)\n",
        "    grid_df = grid_df[['param_C', 'param_kernel', 'mean_test_score']]\n",
        "    grid_df = grid_df.sort_values('mean_test_score', ascending = False)\n",
        "    grid_df = grid_df.reset_index(drop = True)\n",
        "\n",
        "    display(grid_df)\n",
        "  except:\n",
        "    pass"
      ],
      "metadata": {
        "id": "rIq2a_Tpm9z7"
      },
      "execution_count": 96,
      "outputs": []
    },
    {
      "cell_type": "code",
      "source": [
        "params = {\n",
        "  'C' : [1, 10, 20],\n",
        "  'kernel' : ['rbf', 'linear']\n",
        "}\n",
        "\n",
        "rsc_svm(x, y, params)"
      ],
      "metadata": {
        "id": "JEZ3P5qbnEcC",
        "colab": {
          "base_uri": "https://localhost:8080/",
          "height": 1000
        },
        "outputId": "1f5e6f52-7ab1-411d-c55e-d25f6cc45eb9"
      },
      "execution_count": 97,
      "outputs": [
        {
          "output_type": "stream",
          "name": "stderr",
          "text": [
            "/usr/local/lib/python3.10/dist-packages/sklearn/model_selection/_search.py:307: UserWarning: The total space of parameters 6 is smaller than n_iter=10. Running 6 iterations. For exhaustive searches, use GridSearchCV.\n",
            "  warnings.warn(\n",
            "/usr/local/lib/python3.10/dist-packages/sklearn/utils/validation.py:1183: DataConversionWarning: A column-vector y was passed when a 1d array was expected. Please change the shape of y to (n_samples, ), for example using ravel().\n",
            "  y = column_or_1d(y, warn=True)\n",
            "/usr/local/lib/python3.10/dist-packages/sklearn/utils/validation.py:1183: DataConversionWarning: A column-vector y was passed when a 1d array was expected. Please change the shape of y to (n_samples, ), for example using ravel().\n",
            "  y = column_or_1d(y, warn=True)\n",
            "/usr/local/lib/python3.10/dist-packages/sklearn/utils/validation.py:1183: DataConversionWarning: A column-vector y was passed when a 1d array was expected. Please change the shape of y to (n_samples, ), for example using ravel().\n",
            "  y = column_or_1d(y, warn=True)\n",
            "/usr/local/lib/python3.10/dist-packages/sklearn/utils/validation.py:1183: DataConversionWarning: A column-vector y was passed when a 1d array was expected. Please change the shape of y to (n_samples, ), for example using ravel().\n",
            "  y = column_or_1d(y, warn=True)\n",
            "/usr/local/lib/python3.10/dist-packages/sklearn/utils/validation.py:1183: DataConversionWarning: A column-vector y was passed when a 1d array was expected. Please change the shape of y to (n_samples, ), for example using ravel().\n",
            "  y = column_or_1d(y, warn=True)\n",
            "/usr/local/lib/python3.10/dist-packages/sklearn/utils/validation.py:1183: DataConversionWarning: A column-vector y was passed when a 1d array was expected. Please change the shape of y to (n_samples, ), for example using ravel().\n",
            "  y = column_or_1d(y, warn=True)\n",
            "/usr/local/lib/python3.10/dist-packages/sklearn/utils/validation.py:1183: DataConversionWarning: A column-vector y was passed when a 1d array was expected. Please change the shape of y to (n_samples, ), for example using ravel().\n",
            "  y = column_or_1d(y, warn=True)\n",
            "/usr/local/lib/python3.10/dist-packages/sklearn/utils/validation.py:1183: DataConversionWarning: A column-vector y was passed when a 1d array was expected. Please change the shape of y to (n_samples, ), for example using ravel().\n",
            "  y = column_or_1d(y, warn=True)\n",
            "/usr/local/lib/python3.10/dist-packages/sklearn/utils/validation.py:1183: DataConversionWarning: A column-vector y was passed when a 1d array was expected. Please change the shape of y to (n_samples, ), for example using ravel().\n",
            "  y = column_or_1d(y, warn=True)\n",
            "/usr/local/lib/python3.10/dist-packages/sklearn/utils/validation.py:1183: DataConversionWarning: A column-vector y was passed when a 1d array was expected. Please change the shape of y to (n_samples, ), for example using ravel().\n",
            "  y = column_or_1d(y, warn=True)\n",
            "/usr/local/lib/python3.10/dist-packages/sklearn/utils/validation.py:1183: DataConversionWarning: A column-vector y was passed when a 1d array was expected. Please change the shape of y to (n_samples, ), for example using ravel().\n",
            "  y = column_or_1d(y, warn=True)\n",
            "/usr/local/lib/python3.10/dist-packages/sklearn/utils/validation.py:1183: DataConversionWarning: A column-vector y was passed when a 1d array was expected. Please change the shape of y to (n_samples, ), for example using ravel().\n",
            "  y = column_or_1d(y, warn=True)\n",
            "/usr/local/lib/python3.10/dist-packages/sklearn/utils/validation.py:1183: DataConversionWarning: A column-vector y was passed when a 1d array was expected. Please change the shape of y to (n_samples, ), for example using ravel().\n",
            "  y = column_or_1d(y, warn=True)\n",
            "/usr/local/lib/python3.10/dist-packages/sklearn/utils/validation.py:1183: DataConversionWarning: A column-vector y was passed when a 1d array was expected. Please change the shape of y to (n_samples, ), for example using ravel().\n",
            "  y = column_or_1d(y, warn=True)\n",
            "/usr/local/lib/python3.10/dist-packages/sklearn/utils/validation.py:1183: DataConversionWarning: A column-vector y was passed when a 1d array was expected. Please change the shape of y to (n_samples, ), for example using ravel().\n",
            "  y = column_or_1d(y, warn=True)\n",
            "/usr/local/lib/python3.10/dist-packages/sklearn/utils/validation.py:1183: DataConversionWarning: A column-vector y was passed when a 1d array was expected. Please change the shape of y to (n_samples, ), for example using ravel().\n",
            "  y = column_or_1d(y, warn=True)\n",
            "/usr/local/lib/python3.10/dist-packages/sklearn/utils/validation.py:1183: DataConversionWarning: A column-vector y was passed when a 1d array was expected. Please change the shape of y to (n_samples, ), for example using ravel().\n",
            "  y = column_or_1d(y, warn=True)\n",
            "/usr/local/lib/python3.10/dist-packages/sklearn/utils/validation.py:1183: DataConversionWarning: A column-vector y was passed when a 1d array was expected. Please change the shape of y to (n_samples, ), for example using ravel().\n",
            "  y = column_or_1d(y, warn=True)\n",
            "/usr/local/lib/python3.10/dist-packages/sklearn/utils/validation.py:1183: DataConversionWarning: A column-vector y was passed when a 1d array was expected. Please change the shape of y to (n_samples, ), for example using ravel().\n",
            "  y = column_or_1d(y, warn=True)\n",
            "/usr/local/lib/python3.10/dist-packages/sklearn/utils/validation.py:1183: DataConversionWarning: A column-vector y was passed when a 1d array was expected. Please change the shape of y to (n_samples, ), for example using ravel().\n",
            "  y = column_or_1d(y, warn=True)\n",
            "/usr/local/lib/python3.10/dist-packages/sklearn/utils/validation.py:1183: DataConversionWarning: A column-vector y was passed when a 1d array was expected. Please change the shape of y to (n_samples, ), for example using ravel().\n",
            "  y = column_or_1d(y, warn=True)\n",
            "/usr/local/lib/python3.10/dist-packages/sklearn/utils/validation.py:1183: DataConversionWarning: A column-vector y was passed when a 1d array was expected. Please change the shape of y to (n_samples, ), for example using ravel().\n",
            "  y = column_or_1d(y, warn=True)\n",
            "/usr/local/lib/python3.10/dist-packages/sklearn/utils/validation.py:1183: DataConversionWarning: A column-vector y was passed when a 1d array was expected. Please change the shape of y to (n_samples, ), for example using ravel().\n",
            "  y = column_or_1d(y, warn=True)\n",
            "/usr/local/lib/python3.10/dist-packages/sklearn/utils/validation.py:1183: DataConversionWarning: A column-vector y was passed when a 1d array was expected. Please change the shape of y to (n_samples, ), for example using ravel().\n",
            "  y = column_or_1d(y, warn=True)\n",
            "/usr/local/lib/python3.10/dist-packages/sklearn/utils/validation.py:1183: DataConversionWarning: A column-vector y was passed when a 1d array was expected. Please change the shape of y to (n_samples, ), for example using ravel().\n",
            "  y = column_or_1d(y, warn=True)\n",
            "/usr/local/lib/python3.10/dist-packages/sklearn/utils/validation.py:1183: DataConversionWarning: A column-vector y was passed when a 1d array was expected. Please change the shape of y to (n_samples, ), for example using ravel().\n",
            "  y = column_or_1d(y, warn=True)\n",
            "/usr/local/lib/python3.10/dist-packages/sklearn/utils/validation.py:1183: DataConversionWarning: A column-vector y was passed when a 1d array was expected. Please change the shape of y to (n_samples, ), for example using ravel().\n",
            "  y = column_or_1d(y, warn=True)\n",
            "/usr/local/lib/python3.10/dist-packages/sklearn/utils/validation.py:1183: DataConversionWarning: A column-vector y was passed when a 1d array was expected. Please change the shape of y to (n_samples, ), for example using ravel().\n",
            "  y = column_or_1d(y, warn=True)\n",
            "/usr/local/lib/python3.10/dist-packages/sklearn/utils/validation.py:1183: DataConversionWarning: A column-vector y was passed when a 1d array was expected. Please change the shape of y to (n_samples, ), for example using ravel().\n",
            "  y = column_or_1d(y, warn=True)\n",
            "/usr/local/lib/python3.10/dist-packages/sklearn/utils/validation.py:1183: DataConversionWarning: A column-vector y was passed when a 1d array was expected. Please change the shape of y to (n_samples, ), for example using ravel().\n",
            "  y = column_or_1d(y, warn=True)\n",
            "/usr/local/lib/python3.10/dist-packages/sklearn/utils/validation.py:1183: DataConversionWarning: A column-vector y was passed when a 1d array was expected. Please change the shape of y to (n_samples, ), for example using ravel().\n",
            "  y = column_or_1d(y, warn=True)\n"
          ]
        },
        {
          "output_type": "display_data",
          "data": {
            "text/plain": [
              "  param_C param_kernel  mean_test_score\n",
              "0      20       linear           0.9341\n",
              "1      10       linear           0.9339\n",
              "2       1       linear           0.9338\n",
              "3      20          rbf           0.8786\n",
              "4      10          rbf           0.8780\n",
              "5       1          rbf           0.8544"
            ],
            "text/html": [
              "\n",
              "  <div id=\"df-46aa33db-8fe8-42dd-b3d1-3b84eafc0ad5\" class=\"colab-df-container\">\n",
              "    <div>\n",
              "<style scoped>\n",
              "    .dataframe tbody tr th:only-of-type {\n",
              "        vertical-align: middle;\n",
              "    }\n",
              "\n",
              "    .dataframe tbody tr th {\n",
              "        vertical-align: top;\n",
              "    }\n",
              "\n",
              "    .dataframe thead th {\n",
              "        text-align: right;\n",
              "    }\n",
              "</style>\n",
              "<table border=\"1\" class=\"dataframe\">\n",
              "  <thead>\n",
              "    <tr style=\"text-align: right;\">\n",
              "      <th></th>\n",
              "      <th>param_C</th>\n",
              "      <th>param_kernel</th>\n",
              "      <th>mean_test_score</th>\n",
              "    </tr>\n",
              "  </thead>\n",
              "  <tbody>\n",
              "    <tr>\n",
              "      <th>0</th>\n",
              "      <td>20</td>\n",
              "      <td>linear</td>\n",
              "      <td>0.9341</td>\n",
              "    </tr>\n",
              "    <tr>\n",
              "      <th>1</th>\n",
              "      <td>10</td>\n",
              "      <td>linear</td>\n",
              "      <td>0.9339</td>\n",
              "    </tr>\n",
              "    <tr>\n",
              "      <th>2</th>\n",
              "      <td>1</td>\n",
              "      <td>linear</td>\n",
              "      <td>0.9338</td>\n",
              "    </tr>\n",
              "    <tr>\n",
              "      <th>3</th>\n",
              "      <td>20</td>\n",
              "      <td>rbf</td>\n",
              "      <td>0.8786</td>\n",
              "    </tr>\n",
              "    <tr>\n",
              "      <th>4</th>\n",
              "      <td>10</td>\n",
              "      <td>rbf</td>\n",
              "      <td>0.8780</td>\n",
              "    </tr>\n",
              "    <tr>\n",
              "      <th>5</th>\n",
              "      <td>1</td>\n",
              "      <td>rbf</td>\n",
              "      <td>0.8544</td>\n",
              "    </tr>\n",
              "  </tbody>\n",
              "</table>\n",
              "</div>\n",
              "    <div class=\"colab-df-buttons\">\n",
              "\n",
              "  <div class=\"colab-df-container\">\n",
              "    <button class=\"colab-df-convert\" onclick=\"convertToInteractive('df-46aa33db-8fe8-42dd-b3d1-3b84eafc0ad5')\"\n",
              "            title=\"Convert this dataframe to an interactive table.\"\n",
              "            style=\"display:none;\">\n",
              "\n",
              "  <svg xmlns=\"http://www.w3.org/2000/svg\" height=\"24px\" viewBox=\"0 -960 960 960\">\n",
              "    <path d=\"M120-120v-720h720v720H120Zm60-500h600v-160H180v160Zm220 220h160v-160H400v160Zm0 220h160v-160H400v160ZM180-400h160v-160H180v160Zm440 0h160v-160H620v160ZM180-180h160v-160H180v160Zm440 0h160v-160H620v160Z\"/>\n",
              "  </svg>\n",
              "    </button>\n",
              "\n",
              "  <style>\n",
              "    .colab-df-container {\n",
              "      display:flex;\n",
              "      gap: 12px;\n",
              "    }\n",
              "\n",
              "    .colab-df-convert {\n",
              "      background-color: #E8F0FE;\n",
              "      border: none;\n",
              "      border-radius: 50%;\n",
              "      cursor: pointer;\n",
              "      display: none;\n",
              "      fill: #1967D2;\n",
              "      height: 32px;\n",
              "      padding: 0 0 0 0;\n",
              "      width: 32px;\n",
              "    }\n",
              "\n",
              "    .colab-df-convert:hover {\n",
              "      background-color: #E2EBFA;\n",
              "      box-shadow: 0px 1px 2px rgba(60, 64, 67, 0.3), 0px 1px 3px 1px rgba(60, 64, 67, 0.15);\n",
              "      fill: #174EA6;\n",
              "    }\n",
              "\n",
              "    .colab-df-buttons div {\n",
              "      margin-bottom: 4px;\n",
              "    }\n",
              "\n",
              "    [theme=dark] .colab-df-convert {\n",
              "      background-color: #3B4455;\n",
              "      fill: #D2E3FC;\n",
              "    }\n",
              "\n",
              "    [theme=dark] .colab-df-convert:hover {\n",
              "      background-color: #434B5C;\n",
              "      box-shadow: 0px 1px 3px 1px rgba(0, 0, 0, 0.15);\n",
              "      filter: drop-shadow(0px 1px 2px rgba(0, 0, 0, 0.3));\n",
              "      fill: #FFFFFF;\n",
              "    }\n",
              "  </style>\n",
              "\n",
              "    <script>\n",
              "      const buttonEl =\n",
              "        document.querySelector('#df-46aa33db-8fe8-42dd-b3d1-3b84eafc0ad5 button.colab-df-convert');\n",
              "      buttonEl.style.display =\n",
              "        google.colab.kernel.accessAllowed ? 'block' : 'none';\n",
              "\n",
              "      async function convertToInteractive(key) {\n",
              "        const element = document.querySelector('#df-46aa33db-8fe8-42dd-b3d1-3b84eafc0ad5');\n",
              "        const dataTable =\n",
              "          await google.colab.kernel.invokeFunction('convertToInteractive',\n",
              "                                                    [key], {});\n",
              "        if (!dataTable) return;\n",
              "\n",
              "        const docLinkHtml = 'Like what you see? Visit the ' +\n",
              "          '<a target=\"_blank\" href=https://colab.research.google.com/notebooks/data_table.ipynb>data table notebook</a>'\n",
              "          + ' to learn more about interactive tables.';\n",
              "        element.innerHTML = '';\n",
              "        dataTable['output_type'] = 'display_data';\n",
              "        await google.colab.output.renderOutput(dataTable, element);\n",
              "        const docLink = document.createElement('div');\n",
              "        docLink.innerHTML = docLinkHtml;\n",
              "        element.appendChild(docLink);\n",
              "      }\n",
              "    </script>\n",
              "  </div>\n",
              "\n",
              "\n",
              "<div id=\"df-bc5fee29-2ce4-4de3-992b-11e542d53769\">\n",
              "  <button class=\"colab-df-quickchart\" onclick=\"quickchart('df-bc5fee29-2ce4-4de3-992b-11e542d53769')\"\n",
              "            title=\"Suggest charts\"\n",
              "            style=\"display:none;\">\n",
              "\n",
              "<svg xmlns=\"http://www.w3.org/2000/svg\" height=\"24px\"viewBox=\"0 0 24 24\"\n",
              "     width=\"24px\">\n",
              "    <g>\n",
              "        <path d=\"M19 3H5c-1.1 0-2 .9-2 2v14c0 1.1.9 2 2 2h14c1.1 0 2-.9 2-2V5c0-1.1-.9-2-2-2zM9 17H7v-7h2v7zm4 0h-2V7h2v10zm4 0h-2v-4h2v4z\"/>\n",
              "    </g>\n",
              "</svg>\n",
              "  </button>\n",
              "\n",
              "<style>\n",
              "  .colab-df-quickchart {\n",
              "      --bg-color: #E8F0FE;\n",
              "      --fill-color: #1967D2;\n",
              "      --hover-bg-color: #E2EBFA;\n",
              "      --hover-fill-color: #174EA6;\n",
              "      --disabled-fill-color: #AAA;\n",
              "      --disabled-bg-color: #DDD;\n",
              "  }\n",
              "\n",
              "  [theme=dark] .colab-df-quickchart {\n",
              "      --bg-color: #3B4455;\n",
              "      --fill-color: #D2E3FC;\n",
              "      --hover-bg-color: #434B5C;\n",
              "      --hover-fill-color: #FFFFFF;\n",
              "      --disabled-bg-color: #3B4455;\n",
              "      --disabled-fill-color: #666;\n",
              "  }\n",
              "\n",
              "  .colab-df-quickchart {\n",
              "    background-color: var(--bg-color);\n",
              "    border: none;\n",
              "    border-radius: 50%;\n",
              "    cursor: pointer;\n",
              "    display: none;\n",
              "    fill: var(--fill-color);\n",
              "    height: 32px;\n",
              "    padding: 0;\n",
              "    width: 32px;\n",
              "  }\n",
              "\n",
              "  .colab-df-quickchart:hover {\n",
              "    background-color: var(--hover-bg-color);\n",
              "    box-shadow: 0 1px 2px rgba(60, 64, 67, 0.3), 0 1px 3px 1px rgba(60, 64, 67, 0.15);\n",
              "    fill: var(--button-hover-fill-color);\n",
              "  }\n",
              "\n",
              "  .colab-df-quickchart-complete:disabled,\n",
              "  .colab-df-quickchart-complete:disabled:hover {\n",
              "    background-color: var(--disabled-bg-color);\n",
              "    fill: var(--disabled-fill-color);\n",
              "    box-shadow: none;\n",
              "  }\n",
              "\n",
              "  .colab-df-spinner {\n",
              "    border: 2px solid var(--fill-color);\n",
              "    border-color: transparent;\n",
              "    border-bottom-color: var(--fill-color);\n",
              "    animation:\n",
              "      spin 1s steps(1) infinite;\n",
              "  }\n",
              "\n",
              "  @keyframes spin {\n",
              "    0% {\n",
              "      border-color: transparent;\n",
              "      border-bottom-color: var(--fill-color);\n",
              "      border-left-color: var(--fill-color);\n",
              "    }\n",
              "    20% {\n",
              "      border-color: transparent;\n",
              "      border-left-color: var(--fill-color);\n",
              "      border-top-color: var(--fill-color);\n",
              "    }\n",
              "    30% {\n",
              "      border-color: transparent;\n",
              "      border-left-color: var(--fill-color);\n",
              "      border-top-color: var(--fill-color);\n",
              "      border-right-color: var(--fill-color);\n",
              "    }\n",
              "    40% {\n",
              "      border-color: transparent;\n",
              "      border-right-color: var(--fill-color);\n",
              "      border-top-color: var(--fill-color);\n",
              "    }\n",
              "    60% {\n",
              "      border-color: transparent;\n",
              "      border-right-color: var(--fill-color);\n",
              "    }\n",
              "    80% {\n",
              "      border-color: transparent;\n",
              "      border-right-color: var(--fill-color);\n",
              "      border-bottom-color: var(--fill-color);\n",
              "    }\n",
              "    90% {\n",
              "      border-color: transparent;\n",
              "      border-bottom-color: var(--fill-color);\n",
              "    }\n",
              "  }\n",
              "</style>\n",
              "\n",
              "  <script>\n",
              "    async function quickchart(key) {\n",
              "      const quickchartButtonEl =\n",
              "        document.querySelector('#' + key + ' button');\n",
              "      quickchartButtonEl.disabled = true;  // To prevent multiple clicks.\n",
              "      quickchartButtonEl.classList.add('colab-df-spinner');\n",
              "      try {\n",
              "        const charts = await google.colab.kernel.invokeFunction(\n",
              "            'suggestCharts', [key], {});\n",
              "      } catch (error) {\n",
              "        console.error('Error during call to suggestCharts:', error);\n",
              "      }\n",
              "      quickchartButtonEl.classList.remove('colab-df-spinner');\n",
              "      quickchartButtonEl.classList.add('colab-df-quickchart-complete');\n",
              "    }\n",
              "    (() => {\n",
              "      let quickchartButtonEl =\n",
              "        document.querySelector('#df-bc5fee29-2ce4-4de3-992b-11e542d53769 button');\n",
              "      quickchartButtonEl.style.display =\n",
              "        google.colab.kernel.accessAllowed ? 'block' : 'none';\n",
              "    })();\n",
              "  </script>\n",
              "</div>\n",
              "\n",
              "    </div>\n",
              "  </div>\n"
            ],
            "application/vnd.google.colaboratory.intrinsic+json": {
              "type": "dataframe",
              "summary": "{\n  \"name\": \"rsc_svm(x, y, params)\",\n  \"rows\": 6,\n  \"fields\": [\n    {\n      \"column\": \"param_C\",\n      \"properties\": {\n        \"dtype\": \"date\",\n        \"min\": 1,\n        \"max\": 20,\n        \"num_unique_values\": 3,\n        \"samples\": [\n          20,\n          10,\n          1\n        ],\n        \"semantic_type\": \"\",\n        \"description\": \"\"\n      }\n    },\n    {\n      \"column\": \"param_kernel\",\n      \"properties\": {\n        \"dtype\": \"category\",\n        \"num_unique_values\": 2,\n        \"samples\": [\n          \"rbf\",\n          \"linear\"\n        ],\n        \"semantic_type\": \"\",\n        \"description\": \"\"\n      }\n    },\n    {\n      \"column\": \"mean_test_score\",\n      \"properties\": {\n        \"dtype\": \"number\",\n        \"std\": 0.03591231914909788,\n        \"min\": 0.8544,\n        \"max\": 0.9340999999999999,\n        \"num_unique_values\": 6,\n        \"samples\": [\n          0.9340999999999999,\n          0.9338999999999998\n        ],\n        \"semantic_type\": \"\",\n        \"description\": \"\"\n      }\n    }\n  ]\n}"
            }
          },
          "metadata": {}
        }
      ]
    },
    {
      "cell_type": "markdown",
      "source": [
        "Other Method"
      ],
      "metadata": {
        "id": "QAayb_lpEj_M"
      }
    },
    {
      "cell_type": "code",
      "source": [
        "model_params = {\n",
        "  'logistic_regression' : {\n",
        "    'model' : LogisticRegression(solver = 'liblinear', multi_class = 'auto'),\n",
        "    'params' : {\n",
        "      'C' : [1, 5, 10]\n",
        "    }\n",
        "  },\n",
        "  'support_vector_machine' : {\n",
        "    'model' : SVC(gamma = 'auto'),\n",
        "    'params' : {\n",
        "      'C' : [1, 5, 10],\n",
        "      'kernel' : ['rbf', 'linear']\n",
        "    }\n",
        "  },\n",
        "  'random_forest' : {\n",
        "    'model' : RandomForestClassifier(),\n",
        "    'params' : {\n",
        "      'n_estimators' : [1, 5, 10]\n",
        "    }\n",
        "  },\n",
        "  'decision_tree_classifier' : {\n",
        "    'model' : DecisionTreeClassifier(),\n",
        "    'params' : {\n",
        "      #'C' : [1, 5, 10]\n",
        "    }\n",
        "  },\n",
        "  'k_nearest_neighbors' : {\n",
        "    'model' : KNeighborsClassifier(),\n",
        "    'params' : {\n",
        "      #'C' : [1, 5, 10]\n",
        "    }\n",
        "  },\n",
        "  'naive_bayes' : {\n",
        "    'model' : GaussianNB(),\n",
        "    'params' : {\n",
        "      #'C' : [1, 5, 10]\n",
        "    }\n",
        "  },\n",
        "}"
      ],
      "metadata": {
        "id": "FoJXeEkJDP-m"
      },
      "execution_count": 98,
      "outputs": []
    },
    {
      "cell_type": "code",
      "source": [
        "def gsc(x, y, model_params):\n",
        "  try:\n",
        "    scores = []\n",
        "\n",
        "    for model_name, mp in model_params.items():\n",
        "      model = GridSearchCV(mp['model'], mp['params'], cv = 5, return_train_score = False)\n",
        "      model.fit(x, y)\n",
        "      scores.append({\n",
        "          'model': model_name,\n",
        "          'best_score': model.best_score_,\n",
        "          'best_params': model.best_params_\n",
        "      })\n",
        "\n",
        "    tune_df = pd.DataFrame(scores, columns = ['model', 'best_score', 'best_params'])\n",
        "    tune_df = tune_df.sort_values('best_score', ascending = False)\n",
        "    tune_df = tune_df.reset_index(drop = True)\n",
        "\n",
        "    display(tune_df)\n",
        "  except:\n",
        "    pass"
      ],
      "metadata": {
        "id": "-8KtPMKGoPd2"
      },
      "execution_count": 99,
      "outputs": []
    },
    {
      "cell_type": "code",
      "source": [
        "gsc(x, y, model_params)"
      ],
      "metadata": {
        "id": "pIyN2dYgo7EL",
        "colab": {
          "base_uri": "https://localhost:8080/",
          "height": 1000
        },
        "outputId": "3d550a69-c1a0-4eee-b5a8-df66630de46e"
      },
      "execution_count": 100,
      "outputs": [
        {
          "output_type": "stream",
          "name": "stderr",
          "text": [
            "/usr/local/lib/python3.10/dist-packages/sklearn/utils/validation.py:1183: DataConversionWarning: A column-vector y was passed when a 1d array was expected. Please change the shape of y to (n_samples, ), for example using ravel().\n",
            "  y = column_or_1d(y, warn=True)\n",
            "/usr/local/lib/python3.10/dist-packages/sklearn/utils/validation.py:1183: DataConversionWarning: A column-vector y was passed when a 1d array was expected. Please change the shape of y to (n_samples, ), for example using ravel().\n",
            "  y = column_or_1d(y, warn=True)\n",
            "/usr/local/lib/python3.10/dist-packages/sklearn/utils/validation.py:1183: DataConversionWarning: A column-vector y was passed when a 1d array was expected. Please change the shape of y to (n_samples, ), for example using ravel().\n",
            "  y = column_or_1d(y, warn=True)\n",
            "/usr/local/lib/python3.10/dist-packages/sklearn/utils/validation.py:1183: DataConversionWarning: A column-vector y was passed when a 1d array was expected. Please change the shape of y to (n_samples, ), for example using ravel().\n",
            "  y = column_or_1d(y, warn=True)\n",
            "/usr/local/lib/python3.10/dist-packages/sklearn/utils/validation.py:1183: DataConversionWarning: A column-vector y was passed when a 1d array was expected. Please change the shape of y to (n_samples, ), for example using ravel().\n",
            "  y = column_or_1d(y, warn=True)\n",
            "/usr/local/lib/python3.10/dist-packages/sklearn/utils/validation.py:1183: DataConversionWarning: A column-vector y was passed when a 1d array was expected. Please change the shape of y to (n_samples, ), for example using ravel().\n",
            "  y = column_or_1d(y, warn=True)\n",
            "/usr/local/lib/python3.10/dist-packages/sklearn/utils/validation.py:1183: DataConversionWarning: A column-vector y was passed when a 1d array was expected. Please change the shape of y to (n_samples, ), for example using ravel().\n",
            "  y = column_or_1d(y, warn=True)\n",
            "/usr/local/lib/python3.10/dist-packages/sklearn/utils/validation.py:1183: DataConversionWarning: A column-vector y was passed when a 1d array was expected. Please change the shape of y to (n_samples, ), for example using ravel().\n",
            "  y = column_or_1d(y, warn=True)\n",
            "/usr/local/lib/python3.10/dist-packages/sklearn/utils/validation.py:1183: DataConversionWarning: A column-vector y was passed when a 1d array was expected. Please change the shape of y to (n_samples, ), for example using ravel().\n",
            "  y = column_or_1d(y, warn=True)\n",
            "/usr/local/lib/python3.10/dist-packages/sklearn/utils/validation.py:1183: DataConversionWarning: A column-vector y was passed when a 1d array was expected. Please change the shape of y to (n_samples, ), for example using ravel().\n",
            "  y = column_or_1d(y, warn=True)\n",
            "/usr/local/lib/python3.10/dist-packages/sklearn/utils/validation.py:1183: DataConversionWarning: A column-vector y was passed when a 1d array was expected. Please change the shape of y to (n_samples, ), for example using ravel().\n",
            "  y = column_or_1d(y, warn=True)\n",
            "/usr/local/lib/python3.10/dist-packages/sklearn/utils/validation.py:1183: DataConversionWarning: A column-vector y was passed when a 1d array was expected. Please change the shape of y to (n_samples, ), for example using ravel().\n",
            "  y = column_or_1d(y, warn=True)\n",
            "/usr/local/lib/python3.10/dist-packages/sklearn/utils/validation.py:1183: DataConversionWarning: A column-vector y was passed when a 1d array was expected. Please change the shape of y to (n_samples, ), for example using ravel().\n",
            "  y = column_or_1d(y, warn=True)\n",
            "/usr/local/lib/python3.10/dist-packages/sklearn/utils/validation.py:1183: DataConversionWarning: A column-vector y was passed when a 1d array was expected. Please change the shape of y to (n_samples, ), for example using ravel().\n",
            "  y = column_or_1d(y, warn=True)\n",
            "/usr/local/lib/python3.10/dist-packages/sklearn/utils/validation.py:1183: DataConversionWarning: A column-vector y was passed when a 1d array was expected. Please change the shape of y to (n_samples, ), for example using ravel().\n",
            "  y = column_or_1d(y, warn=True)\n",
            "/usr/local/lib/python3.10/dist-packages/sklearn/utils/validation.py:1183: DataConversionWarning: A column-vector y was passed when a 1d array was expected. Please change the shape of y to (n_samples, ), for example using ravel().\n",
            "  y = column_or_1d(y, warn=True)\n",
            "/usr/local/lib/python3.10/dist-packages/sklearn/utils/validation.py:1183: DataConversionWarning: A column-vector y was passed when a 1d array was expected. Please change the shape of y to (n_samples, ), for example using ravel().\n",
            "  y = column_or_1d(y, warn=True)\n",
            "/usr/local/lib/python3.10/dist-packages/sklearn/utils/validation.py:1183: DataConversionWarning: A column-vector y was passed when a 1d array was expected. Please change the shape of y to (n_samples, ), for example using ravel().\n",
            "  y = column_or_1d(y, warn=True)\n",
            "/usr/local/lib/python3.10/dist-packages/sklearn/utils/validation.py:1183: DataConversionWarning: A column-vector y was passed when a 1d array was expected. Please change the shape of y to (n_samples, ), for example using ravel().\n",
            "  y = column_or_1d(y, warn=True)\n",
            "/usr/local/lib/python3.10/dist-packages/sklearn/utils/validation.py:1183: DataConversionWarning: A column-vector y was passed when a 1d array was expected. Please change the shape of y to (n_samples, ), for example using ravel().\n",
            "  y = column_or_1d(y, warn=True)\n",
            "/usr/local/lib/python3.10/dist-packages/sklearn/utils/validation.py:1183: DataConversionWarning: A column-vector y was passed when a 1d array was expected. Please change the shape of y to (n_samples, ), for example using ravel().\n",
            "  y = column_or_1d(y, warn=True)\n",
            "/usr/local/lib/python3.10/dist-packages/sklearn/utils/validation.py:1183: DataConversionWarning: A column-vector y was passed when a 1d array was expected. Please change the shape of y to (n_samples, ), for example using ravel().\n",
            "  y = column_or_1d(y, warn=True)\n",
            "/usr/local/lib/python3.10/dist-packages/sklearn/utils/validation.py:1183: DataConversionWarning: A column-vector y was passed when a 1d array was expected. Please change the shape of y to (n_samples, ), for example using ravel().\n",
            "  y = column_or_1d(y, warn=True)\n",
            "/usr/local/lib/python3.10/dist-packages/sklearn/utils/validation.py:1183: DataConversionWarning: A column-vector y was passed when a 1d array was expected. Please change the shape of y to (n_samples, ), for example using ravel().\n",
            "  y = column_or_1d(y, warn=True)\n",
            "/usr/local/lib/python3.10/dist-packages/sklearn/utils/validation.py:1183: DataConversionWarning: A column-vector y was passed when a 1d array was expected. Please change the shape of y to (n_samples, ), for example using ravel().\n",
            "  y = column_or_1d(y, warn=True)\n",
            "/usr/local/lib/python3.10/dist-packages/sklearn/utils/validation.py:1183: DataConversionWarning: A column-vector y was passed when a 1d array was expected. Please change the shape of y to (n_samples, ), for example using ravel().\n",
            "  y = column_or_1d(y, warn=True)\n",
            "/usr/local/lib/python3.10/dist-packages/sklearn/utils/validation.py:1183: DataConversionWarning: A column-vector y was passed when a 1d array was expected. Please change the shape of y to (n_samples, ), for example using ravel().\n",
            "  y = column_or_1d(y, warn=True)\n",
            "/usr/local/lib/python3.10/dist-packages/sklearn/utils/validation.py:1183: DataConversionWarning: A column-vector y was passed when a 1d array was expected. Please change the shape of y to (n_samples, ), for example using ravel().\n",
            "  y = column_or_1d(y, warn=True)\n",
            "/usr/local/lib/python3.10/dist-packages/sklearn/utils/validation.py:1183: DataConversionWarning: A column-vector y was passed when a 1d array was expected. Please change the shape of y to (n_samples, ), for example using ravel().\n",
            "  y = column_or_1d(y, warn=True)\n",
            "/usr/local/lib/python3.10/dist-packages/sklearn/utils/validation.py:1183: DataConversionWarning: A column-vector y was passed when a 1d array was expected. Please change the shape of y to (n_samples, ), for example using ravel().\n",
            "  y = column_or_1d(y, warn=True)\n",
            "/usr/local/lib/python3.10/dist-packages/sklearn/utils/validation.py:1183: DataConversionWarning: A column-vector y was passed when a 1d array was expected. Please change the shape of y to (n_samples, ), for example using ravel().\n",
            "  y = column_or_1d(y, warn=True)\n",
            "/usr/local/lib/python3.10/dist-packages/sklearn/utils/validation.py:1183: DataConversionWarning: A column-vector y was passed when a 1d array was expected. Please change the shape of y to (n_samples, ), for example using ravel().\n",
            "  y = column_or_1d(y, warn=True)\n",
            "/usr/local/lib/python3.10/dist-packages/sklearn/utils/validation.py:1183: DataConversionWarning: A column-vector y was passed when a 1d array was expected. Please change the shape of y to (n_samples, ), for example using ravel().\n",
            "  y = column_or_1d(y, warn=True)\n",
            "/usr/local/lib/python3.10/dist-packages/sklearn/utils/validation.py:1183: DataConversionWarning: A column-vector y was passed when a 1d array was expected. Please change the shape of y to (n_samples, ), for example using ravel().\n",
            "  y = column_or_1d(y, warn=True)\n",
            "/usr/local/lib/python3.10/dist-packages/sklearn/utils/validation.py:1183: DataConversionWarning: A column-vector y was passed when a 1d array was expected. Please change the shape of y to (n_samples, ), for example using ravel().\n",
            "  y = column_or_1d(y, warn=True)\n",
            "/usr/local/lib/python3.10/dist-packages/sklearn/utils/validation.py:1183: DataConversionWarning: A column-vector y was passed when a 1d array was expected. Please change the shape of y to (n_samples, ), for example using ravel().\n",
            "  y = column_or_1d(y, warn=True)\n",
            "/usr/local/lib/python3.10/dist-packages/sklearn/utils/validation.py:1183: DataConversionWarning: A column-vector y was passed when a 1d array was expected. Please change the shape of y to (n_samples, ), for example using ravel().\n",
            "  y = column_or_1d(y, warn=True)\n",
            "/usr/local/lib/python3.10/dist-packages/sklearn/utils/validation.py:1183: DataConversionWarning: A column-vector y was passed when a 1d array was expected. Please change the shape of y to (n_samples, ), for example using ravel().\n",
            "  y = column_or_1d(y, warn=True)\n",
            "/usr/local/lib/python3.10/dist-packages/sklearn/utils/validation.py:1183: DataConversionWarning: A column-vector y was passed when a 1d array was expected. Please change the shape of y to (n_samples, ), for example using ravel().\n",
            "  y = column_or_1d(y, warn=True)\n",
            "/usr/local/lib/python3.10/dist-packages/sklearn/utils/validation.py:1183: DataConversionWarning: A column-vector y was passed when a 1d array was expected. Please change the shape of y to (n_samples, ), for example using ravel().\n",
            "  y = column_or_1d(y, warn=True)\n",
            "/usr/local/lib/python3.10/dist-packages/sklearn/utils/validation.py:1183: DataConversionWarning: A column-vector y was passed when a 1d array was expected. Please change the shape of y to (n_samples, ), for example using ravel().\n",
            "  y = column_or_1d(y, warn=True)\n",
            "/usr/local/lib/python3.10/dist-packages/sklearn/utils/validation.py:1183: DataConversionWarning: A column-vector y was passed when a 1d array was expected. Please change the shape of y to (n_samples, ), for example using ravel().\n",
            "  y = column_or_1d(y, warn=True)\n",
            "/usr/local/lib/python3.10/dist-packages/sklearn/utils/validation.py:1183: DataConversionWarning: A column-vector y was passed when a 1d array was expected. Please change the shape of y to (n_samples, ), for example using ravel().\n",
            "  y = column_or_1d(y, warn=True)\n",
            "/usr/local/lib/python3.10/dist-packages/sklearn/utils/validation.py:1183: DataConversionWarning: A column-vector y was passed when a 1d array was expected. Please change the shape of y to (n_samples, ), for example using ravel().\n",
            "  y = column_or_1d(y, warn=True)\n",
            "/usr/local/lib/python3.10/dist-packages/sklearn/utils/validation.py:1183: DataConversionWarning: A column-vector y was passed when a 1d array was expected. Please change the shape of y to (n_samples, ), for example using ravel().\n",
            "  y = column_or_1d(y, warn=True)\n",
            "/usr/local/lib/python3.10/dist-packages/sklearn/utils/validation.py:1183: DataConversionWarning: A column-vector y was passed when a 1d array was expected. Please change the shape of y to (n_samples, ), for example using ravel().\n",
            "  y = column_or_1d(y, warn=True)\n",
            "/usr/local/lib/python3.10/dist-packages/sklearn/utils/validation.py:1183: DataConversionWarning: A column-vector y was passed when a 1d array was expected. Please change the shape of y to (n_samples, ), for example using ravel().\n",
            "  y = column_or_1d(y, warn=True)\n",
            "/usr/local/lib/python3.10/dist-packages/sklearn/base.py:1152: DataConversionWarning: A column-vector y was passed when a 1d array was expected. Please change the shape of y to (n_samples,), for example using ravel().\n",
            "  return fit_method(estimator, *args, **kwargs)\n",
            "/usr/local/lib/python3.10/dist-packages/sklearn/base.py:1152: DataConversionWarning: A column-vector y was passed when a 1d array was expected. Please change the shape of y to (n_samples,), for example using ravel().\n",
            "  return fit_method(estimator, *args, **kwargs)\n",
            "/usr/local/lib/python3.10/dist-packages/sklearn/base.py:1152: DataConversionWarning: A column-vector y was passed when a 1d array was expected. Please change the shape of y to (n_samples,), for example using ravel().\n",
            "  return fit_method(estimator, *args, **kwargs)\n",
            "/usr/local/lib/python3.10/dist-packages/sklearn/base.py:1152: DataConversionWarning: A column-vector y was passed when a 1d array was expected. Please change the shape of y to (n_samples,), for example using ravel().\n",
            "  return fit_method(estimator, *args, **kwargs)\n",
            "/usr/local/lib/python3.10/dist-packages/sklearn/base.py:1152: DataConversionWarning: A column-vector y was passed when a 1d array was expected. Please change the shape of y to (n_samples,), for example using ravel().\n",
            "  return fit_method(estimator, *args, **kwargs)\n",
            "/usr/local/lib/python3.10/dist-packages/sklearn/base.py:1152: DataConversionWarning: A column-vector y was passed when a 1d array was expected. Please change the shape of y to (n_samples,), for example using ravel().\n",
            "  return fit_method(estimator, *args, **kwargs)\n",
            "/usr/local/lib/python3.10/dist-packages/sklearn/base.py:1152: DataConversionWarning: A column-vector y was passed when a 1d array was expected. Please change the shape of y to (n_samples,), for example using ravel().\n",
            "  return fit_method(estimator, *args, **kwargs)\n",
            "/usr/local/lib/python3.10/dist-packages/sklearn/base.py:1152: DataConversionWarning: A column-vector y was passed when a 1d array was expected. Please change the shape of y to (n_samples,), for example using ravel().\n",
            "  return fit_method(estimator, *args, **kwargs)\n",
            "/usr/local/lib/python3.10/dist-packages/sklearn/base.py:1152: DataConversionWarning: A column-vector y was passed when a 1d array was expected. Please change the shape of y to (n_samples,), for example using ravel().\n",
            "  return fit_method(estimator, *args, **kwargs)\n",
            "/usr/local/lib/python3.10/dist-packages/sklearn/base.py:1152: DataConversionWarning: A column-vector y was passed when a 1d array was expected. Please change the shape of y to (n_samples,), for example using ravel().\n",
            "  return fit_method(estimator, *args, **kwargs)\n",
            "/usr/local/lib/python3.10/dist-packages/sklearn/base.py:1152: DataConversionWarning: A column-vector y was passed when a 1d array was expected. Please change the shape of y to (n_samples,), for example using ravel().\n",
            "  return fit_method(estimator, *args, **kwargs)\n",
            "/usr/local/lib/python3.10/dist-packages/sklearn/base.py:1152: DataConversionWarning: A column-vector y was passed when a 1d array was expected. Please change the shape of y to (n_samples,), for example using ravel().\n",
            "  return fit_method(estimator, *args, **kwargs)\n",
            "/usr/local/lib/python3.10/dist-packages/sklearn/base.py:1152: DataConversionWarning: A column-vector y was passed when a 1d array was expected. Please change the shape of y to (n_samples,), for example using ravel().\n",
            "  return fit_method(estimator, *args, **kwargs)\n",
            "/usr/local/lib/python3.10/dist-packages/sklearn/base.py:1152: DataConversionWarning: A column-vector y was passed when a 1d array was expected. Please change the shape of y to (n_samples,), for example using ravel().\n",
            "  return fit_method(estimator, *args, **kwargs)\n",
            "/usr/local/lib/python3.10/dist-packages/sklearn/base.py:1152: DataConversionWarning: A column-vector y was passed when a 1d array was expected. Please change the shape of y to (n_samples,), for example using ravel().\n",
            "  return fit_method(estimator, *args, **kwargs)\n",
            "/usr/local/lib/python3.10/dist-packages/sklearn/base.py:1152: DataConversionWarning: A column-vector y was passed when a 1d array was expected. Please change the shape of y to (n_samples,), for example using ravel().\n",
            "  return fit_method(estimator, *args, **kwargs)\n",
            "/usr/local/lib/python3.10/dist-packages/sklearn/neighbors/_classification.py:233: DataConversionWarning: A column-vector y was passed when a 1d array was expected. Please change the shape of y to (n_samples,), for example using ravel().\n",
            "  return self._fit(X, y)\n",
            "/usr/local/lib/python3.10/dist-packages/sklearn/neighbors/_classification.py:233: DataConversionWarning: A column-vector y was passed when a 1d array was expected. Please change the shape of y to (n_samples,), for example using ravel().\n",
            "  return self._fit(X, y)\n",
            "/usr/local/lib/python3.10/dist-packages/sklearn/neighbors/_classification.py:233: DataConversionWarning: A column-vector y was passed when a 1d array was expected. Please change the shape of y to (n_samples,), for example using ravel().\n",
            "  return self._fit(X, y)\n",
            "/usr/local/lib/python3.10/dist-packages/sklearn/neighbors/_classification.py:233: DataConversionWarning: A column-vector y was passed when a 1d array was expected. Please change the shape of y to (n_samples,), for example using ravel().\n",
            "  return self._fit(X, y)\n",
            "/usr/local/lib/python3.10/dist-packages/sklearn/neighbors/_classification.py:233: DataConversionWarning: A column-vector y was passed when a 1d array was expected. Please change the shape of y to (n_samples,), for example using ravel().\n",
            "  return self._fit(X, y)\n",
            "/usr/local/lib/python3.10/dist-packages/sklearn/neighbors/_classification.py:233: DataConversionWarning: A column-vector y was passed when a 1d array was expected. Please change the shape of y to (n_samples,), for example using ravel().\n",
            "  return self._fit(X, y)\n",
            "/usr/local/lib/python3.10/dist-packages/sklearn/utils/validation.py:1183: DataConversionWarning: A column-vector y was passed when a 1d array was expected. Please change the shape of y to (n_samples, ), for example using ravel().\n",
            "  y = column_or_1d(y, warn=True)\n",
            "/usr/local/lib/python3.10/dist-packages/sklearn/utils/validation.py:1183: DataConversionWarning: A column-vector y was passed when a 1d array was expected. Please change the shape of y to (n_samples, ), for example using ravel().\n",
            "  y = column_or_1d(y, warn=True)\n",
            "/usr/local/lib/python3.10/dist-packages/sklearn/utils/validation.py:1183: DataConversionWarning: A column-vector y was passed when a 1d array was expected. Please change the shape of y to (n_samples, ), for example using ravel().\n",
            "  y = column_or_1d(y, warn=True)\n",
            "/usr/local/lib/python3.10/dist-packages/sklearn/utils/validation.py:1183: DataConversionWarning: A column-vector y was passed when a 1d array was expected. Please change the shape of y to (n_samples, ), for example using ravel().\n",
            "  y = column_or_1d(y, warn=True)\n",
            "/usr/local/lib/python3.10/dist-packages/sklearn/utils/validation.py:1183: DataConversionWarning: A column-vector y was passed when a 1d array was expected. Please change the shape of y to (n_samples, ), for example using ravel().\n",
            "  y = column_or_1d(y, warn=True)\n",
            "/usr/local/lib/python3.10/dist-packages/sklearn/utils/validation.py:1183: DataConversionWarning: A column-vector y was passed when a 1d array was expected. Please change the shape of y to (n_samples, ), for example using ravel().\n",
            "  y = column_or_1d(y, warn=True)\n"
          ]
        },
        {
          "output_type": "display_data",
          "data": {
            "text/plain": [
              "                      model  best_score                   best_params\n",
              "0             random_forest      0.9672          {'n_estimators': 10}\n",
              "1  decision_tree_classifier      0.9522                            {}\n",
              "2    support_vector_machine      0.9342  {'C': 5, 'kernel': 'linear'}\n",
              "3       logistic_regression      0.9339                     {'C': 10}\n",
              "4               naive_bayes      0.8429                            {}\n",
              "5       k_nearest_neighbors      0.8209                            {}"
            ],
            "text/html": [
              "\n",
              "  <div id=\"df-04844843-722b-4a10-bb31-126ddb8e2117\" class=\"colab-df-container\">\n",
              "    <div>\n",
              "<style scoped>\n",
              "    .dataframe tbody tr th:only-of-type {\n",
              "        vertical-align: middle;\n",
              "    }\n",
              "\n",
              "    .dataframe tbody tr th {\n",
              "        vertical-align: top;\n",
              "    }\n",
              "\n",
              "    .dataframe thead th {\n",
              "        text-align: right;\n",
              "    }\n",
              "</style>\n",
              "<table border=\"1\" class=\"dataframe\">\n",
              "  <thead>\n",
              "    <tr style=\"text-align: right;\">\n",
              "      <th></th>\n",
              "      <th>model</th>\n",
              "      <th>best_score</th>\n",
              "      <th>best_params</th>\n",
              "    </tr>\n",
              "  </thead>\n",
              "  <tbody>\n",
              "    <tr>\n",
              "      <th>0</th>\n",
              "      <td>random_forest</td>\n",
              "      <td>0.9672</td>\n",
              "      <td>{'n_estimators': 10}</td>\n",
              "    </tr>\n",
              "    <tr>\n",
              "      <th>1</th>\n",
              "      <td>decision_tree_classifier</td>\n",
              "      <td>0.9522</td>\n",
              "      <td>{}</td>\n",
              "    </tr>\n",
              "    <tr>\n",
              "      <th>2</th>\n",
              "      <td>support_vector_machine</td>\n",
              "      <td>0.9342</td>\n",
              "      <td>{'C': 5, 'kernel': 'linear'}</td>\n",
              "    </tr>\n",
              "    <tr>\n",
              "      <th>3</th>\n",
              "      <td>logistic_regression</td>\n",
              "      <td>0.9339</td>\n",
              "      <td>{'C': 10}</td>\n",
              "    </tr>\n",
              "    <tr>\n",
              "      <th>4</th>\n",
              "      <td>naive_bayes</td>\n",
              "      <td>0.8429</td>\n",
              "      <td>{}</td>\n",
              "    </tr>\n",
              "    <tr>\n",
              "      <th>5</th>\n",
              "      <td>k_nearest_neighbors</td>\n",
              "      <td>0.8209</td>\n",
              "      <td>{}</td>\n",
              "    </tr>\n",
              "  </tbody>\n",
              "</table>\n",
              "</div>\n",
              "    <div class=\"colab-df-buttons\">\n",
              "\n",
              "  <div class=\"colab-df-container\">\n",
              "    <button class=\"colab-df-convert\" onclick=\"convertToInteractive('df-04844843-722b-4a10-bb31-126ddb8e2117')\"\n",
              "            title=\"Convert this dataframe to an interactive table.\"\n",
              "            style=\"display:none;\">\n",
              "\n",
              "  <svg xmlns=\"http://www.w3.org/2000/svg\" height=\"24px\" viewBox=\"0 -960 960 960\">\n",
              "    <path d=\"M120-120v-720h720v720H120Zm60-500h600v-160H180v160Zm220 220h160v-160H400v160Zm0 220h160v-160H400v160ZM180-400h160v-160H180v160Zm440 0h160v-160H620v160ZM180-180h160v-160H180v160Zm440 0h160v-160H620v160Z\"/>\n",
              "  </svg>\n",
              "    </button>\n",
              "\n",
              "  <style>\n",
              "    .colab-df-container {\n",
              "      display:flex;\n",
              "      gap: 12px;\n",
              "    }\n",
              "\n",
              "    .colab-df-convert {\n",
              "      background-color: #E8F0FE;\n",
              "      border: none;\n",
              "      border-radius: 50%;\n",
              "      cursor: pointer;\n",
              "      display: none;\n",
              "      fill: #1967D2;\n",
              "      height: 32px;\n",
              "      padding: 0 0 0 0;\n",
              "      width: 32px;\n",
              "    }\n",
              "\n",
              "    .colab-df-convert:hover {\n",
              "      background-color: #E2EBFA;\n",
              "      box-shadow: 0px 1px 2px rgba(60, 64, 67, 0.3), 0px 1px 3px 1px rgba(60, 64, 67, 0.15);\n",
              "      fill: #174EA6;\n",
              "    }\n",
              "\n",
              "    .colab-df-buttons div {\n",
              "      margin-bottom: 4px;\n",
              "    }\n",
              "\n",
              "    [theme=dark] .colab-df-convert {\n",
              "      background-color: #3B4455;\n",
              "      fill: #D2E3FC;\n",
              "    }\n",
              "\n",
              "    [theme=dark] .colab-df-convert:hover {\n",
              "      background-color: #434B5C;\n",
              "      box-shadow: 0px 1px 3px 1px rgba(0, 0, 0, 0.15);\n",
              "      filter: drop-shadow(0px 1px 2px rgba(0, 0, 0, 0.3));\n",
              "      fill: #FFFFFF;\n",
              "    }\n",
              "  </style>\n",
              "\n",
              "    <script>\n",
              "      const buttonEl =\n",
              "        document.querySelector('#df-04844843-722b-4a10-bb31-126ddb8e2117 button.colab-df-convert');\n",
              "      buttonEl.style.display =\n",
              "        google.colab.kernel.accessAllowed ? 'block' : 'none';\n",
              "\n",
              "      async function convertToInteractive(key) {\n",
              "        const element = document.querySelector('#df-04844843-722b-4a10-bb31-126ddb8e2117');\n",
              "        const dataTable =\n",
              "          await google.colab.kernel.invokeFunction('convertToInteractive',\n",
              "                                                    [key], {});\n",
              "        if (!dataTable) return;\n",
              "\n",
              "        const docLinkHtml = 'Like what you see? Visit the ' +\n",
              "          '<a target=\"_blank\" href=https://colab.research.google.com/notebooks/data_table.ipynb>data table notebook</a>'\n",
              "          + ' to learn more about interactive tables.';\n",
              "        element.innerHTML = '';\n",
              "        dataTable['output_type'] = 'display_data';\n",
              "        await google.colab.output.renderOutput(dataTable, element);\n",
              "        const docLink = document.createElement('div');\n",
              "        docLink.innerHTML = docLinkHtml;\n",
              "        element.appendChild(docLink);\n",
              "      }\n",
              "    </script>\n",
              "  </div>\n",
              "\n",
              "\n",
              "<div id=\"df-c0ec487c-4a5a-434b-bc67-1941af122d26\">\n",
              "  <button class=\"colab-df-quickchart\" onclick=\"quickchart('df-c0ec487c-4a5a-434b-bc67-1941af122d26')\"\n",
              "            title=\"Suggest charts\"\n",
              "            style=\"display:none;\">\n",
              "\n",
              "<svg xmlns=\"http://www.w3.org/2000/svg\" height=\"24px\"viewBox=\"0 0 24 24\"\n",
              "     width=\"24px\">\n",
              "    <g>\n",
              "        <path d=\"M19 3H5c-1.1 0-2 .9-2 2v14c0 1.1.9 2 2 2h14c1.1 0 2-.9 2-2V5c0-1.1-.9-2-2-2zM9 17H7v-7h2v7zm4 0h-2V7h2v10zm4 0h-2v-4h2v4z\"/>\n",
              "    </g>\n",
              "</svg>\n",
              "  </button>\n",
              "\n",
              "<style>\n",
              "  .colab-df-quickchart {\n",
              "      --bg-color: #E8F0FE;\n",
              "      --fill-color: #1967D2;\n",
              "      --hover-bg-color: #E2EBFA;\n",
              "      --hover-fill-color: #174EA6;\n",
              "      --disabled-fill-color: #AAA;\n",
              "      --disabled-bg-color: #DDD;\n",
              "  }\n",
              "\n",
              "  [theme=dark] .colab-df-quickchart {\n",
              "      --bg-color: #3B4455;\n",
              "      --fill-color: #D2E3FC;\n",
              "      --hover-bg-color: #434B5C;\n",
              "      --hover-fill-color: #FFFFFF;\n",
              "      --disabled-bg-color: #3B4455;\n",
              "      --disabled-fill-color: #666;\n",
              "  }\n",
              "\n",
              "  .colab-df-quickchart {\n",
              "    background-color: var(--bg-color);\n",
              "    border: none;\n",
              "    border-radius: 50%;\n",
              "    cursor: pointer;\n",
              "    display: none;\n",
              "    fill: var(--fill-color);\n",
              "    height: 32px;\n",
              "    padding: 0;\n",
              "    width: 32px;\n",
              "  }\n",
              "\n",
              "  .colab-df-quickchart:hover {\n",
              "    background-color: var(--hover-bg-color);\n",
              "    box-shadow: 0 1px 2px rgba(60, 64, 67, 0.3), 0 1px 3px 1px rgba(60, 64, 67, 0.15);\n",
              "    fill: var(--button-hover-fill-color);\n",
              "  }\n",
              "\n",
              "  .colab-df-quickchart-complete:disabled,\n",
              "  .colab-df-quickchart-complete:disabled:hover {\n",
              "    background-color: var(--disabled-bg-color);\n",
              "    fill: var(--disabled-fill-color);\n",
              "    box-shadow: none;\n",
              "  }\n",
              "\n",
              "  .colab-df-spinner {\n",
              "    border: 2px solid var(--fill-color);\n",
              "    border-color: transparent;\n",
              "    border-bottom-color: var(--fill-color);\n",
              "    animation:\n",
              "      spin 1s steps(1) infinite;\n",
              "  }\n",
              "\n",
              "  @keyframes spin {\n",
              "    0% {\n",
              "      border-color: transparent;\n",
              "      border-bottom-color: var(--fill-color);\n",
              "      border-left-color: var(--fill-color);\n",
              "    }\n",
              "    20% {\n",
              "      border-color: transparent;\n",
              "      border-left-color: var(--fill-color);\n",
              "      border-top-color: var(--fill-color);\n",
              "    }\n",
              "    30% {\n",
              "      border-color: transparent;\n",
              "      border-left-color: var(--fill-color);\n",
              "      border-top-color: var(--fill-color);\n",
              "      border-right-color: var(--fill-color);\n",
              "    }\n",
              "    40% {\n",
              "      border-color: transparent;\n",
              "      border-right-color: var(--fill-color);\n",
              "      border-top-color: var(--fill-color);\n",
              "    }\n",
              "    60% {\n",
              "      border-color: transparent;\n",
              "      border-right-color: var(--fill-color);\n",
              "    }\n",
              "    80% {\n",
              "      border-color: transparent;\n",
              "      border-right-color: var(--fill-color);\n",
              "      border-bottom-color: var(--fill-color);\n",
              "    }\n",
              "    90% {\n",
              "      border-color: transparent;\n",
              "      border-bottom-color: var(--fill-color);\n",
              "    }\n",
              "  }\n",
              "</style>\n",
              "\n",
              "  <script>\n",
              "    async function quickchart(key) {\n",
              "      const quickchartButtonEl =\n",
              "        document.querySelector('#' + key + ' button');\n",
              "      quickchartButtonEl.disabled = true;  // To prevent multiple clicks.\n",
              "      quickchartButtonEl.classList.add('colab-df-spinner');\n",
              "      try {\n",
              "        const charts = await google.colab.kernel.invokeFunction(\n",
              "            'suggestCharts', [key], {});\n",
              "      } catch (error) {\n",
              "        console.error('Error during call to suggestCharts:', error);\n",
              "      }\n",
              "      quickchartButtonEl.classList.remove('colab-df-spinner');\n",
              "      quickchartButtonEl.classList.add('colab-df-quickchart-complete');\n",
              "    }\n",
              "    (() => {\n",
              "      let quickchartButtonEl =\n",
              "        document.querySelector('#df-c0ec487c-4a5a-434b-bc67-1941af122d26 button');\n",
              "      quickchartButtonEl.style.display =\n",
              "        google.colab.kernel.accessAllowed ? 'block' : 'none';\n",
              "    })();\n",
              "  </script>\n",
              "</div>\n",
              "\n",
              "    </div>\n",
              "  </div>\n"
            ],
            "application/vnd.google.colaboratory.intrinsic+json": {
              "type": "dataframe",
              "summary": "{\n  \"name\": \"gsc(x, y, model_params)\",\n  \"rows\": 6,\n  \"fields\": [\n    {\n      \"column\": \"model\",\n      \"properties\": {\n        \"dtype\": \"string\",\n        \"num_unique_values\": 6,\n        \"samples\": [\n          \"random_forest\",\n          \"decision_tree_classifier\",\n          \"k_nearest_neighbors\"\n        ],\n        \"semantic_type\": \"\",\n        \"description\": \"\"\n      }\n    },\n    {\n      \"column\": \"best_score\",\n      \"properties\": {\n        \"dtype\": \"number\",\n        \"std\": 0.061054295508178646,\n        \"min\": 0.8209,\n        \"max\": 0.9672000000000001,\n        \"num_unique_values\": 6,\n        \"samples\": [\n          0.9672000000000001,\n          0.9522,\n          0.8209\n        ],\n        \"semantic_type\": \"\",\n        \"description\": \"\"\n      }\n    },\n    {\n      \"column\": \"best_params\",\n      \"properties\": {\n        \"dtype\": \"object\",\n        \"semantic_type\": \"\",\n        \"description\": \"\"\n      }\n    }\n  ]\n}"
            }
          },
          "metadata": {}
        }
      ]
    },
    {
      "cell_type": "markdown",
      "source": [
        "##### 08.01.01.11 Xgboost"
      ],
      "metadata": {
        "id": "eX5Ri_iPHPky"
      }
    },
    {
      "cell_type": "code",
      "source": [
        "def xgb_classier(\n",
        "    x_train,\n",
        "    y_train,\n",
        "    x_test,\n",
        "    y_test,\n",
        "    save = False,\n",
        "    plot = False,\n",
        "    tree = False,\n",
        "    matrix = False,\n",
        "    unmatch = False,\n",
        "    num_round = 20\n",
        "  ):\n",
        "  try:\n",
        "    title = 'XGB Classification Model'\n",
        "    dtrain = xgb.DMatrix(x_train, label = y_train)\n",
        "    dtest = xgb.DMatrix(x_test, label = y_test)\n",
        "\n",
        "    param = {\n",
        "      'max_depth' : 3,  # the maximum depth of each tree\n",
        "      'eta' : 0.3,  # training step\n",
        "      'silent' : 1,  # logging mode - quiet\n",
        "      'objective' : 'multi:softprob',  # error evaluation for multiclass training\n",
        "      'num_class' : 3  # the number of classes that exist in this datset\n",
        "    }\n",
        "\n",
        "    model = xgb.train(param, dtrain, num_round)\n",
        "    preds = model.predict(dtest)\n",
        "    y_predicted = np.asarray([np.argmax(line) for line in preds])\n",
        "\n",
        "    precision_s = precision_score(y_test, y_predicted, average = 'macro')\n",
        "    accuracy_s = accuracy_score(y_test, y_predicted)\n",
        "\n",
        "    print('=' * 100)\n",
        "    print(title)\n",
        "    print('=' * 100)\n",
        "    print('Precision Score : ', str(round(precision_s * 100, 2)), '%')\n",
        "    #print('Regression Coefficient :', str(train.coef_))\n",
        "    #print('Regression Interception :', str(train.intercept_))\n",
        "    print('Accuracy Score : ', str(round(accuracy_s * 100, 2)), '%')\n",
        "    print('=' * 100)\n",
        "    print('Classification Report\\n', classification_report(y_test, y_predicted))\n",
        "    print('=' * 100)\n",
        "\n",
        "    if save == True:\n",
        "      model.dump_model(title + '.txt')\n",
        "    else:\n",
        "      pass\n",
        "\n",
        "    if plot == True:\n",
        "      xgb.plot_importance(model, importance_type = 'gain')\n",
        "    else:\n",
        "      pass\n",
        "\n",
        "    if tree == True:\n",
        "      xgb.plot_tree(model, num_trees = 0)\n",
        "      xgb.plot_tree(model, num_trees = 9, rankdir = 'LR')\n",
        "    else:\n",
        "      pass\n",
        "\n",
        "    if matrix == True:\n",
        "      cm = confusion_matrix(y_test, y_predicted)\n",
        "\n",
        "      print('Confusion Matrix')\n",
        "      plt.figure(figsize = (5, 3))\n",
        "      sns.heatmap(cm, annot = True, fmt = 'd')\n",
        "      plt.xlabel('Predicted')\n",
        "      plt.ylabel('Real')\n",
        "      plt.show()\n",
        "    else:\n",
        "      pass\n",
        "\n",
        "    if unmatch == True:\n",
        "      print('=' * 100)\n",
        "      print('Unmatched Prediction Result')\n",
        "      print('-' * 100)\n",
        "      for i in range(0, len(y)):\n",
        "        if y_predicted[i] != y[i]:\n",
        "          print ('Predicted : {0}\\nActual: {1}\\n'.format(y_predicted[i], y[i]))\n",
        "    else:\n",
        "      pass\n",
        "  except:\n",
        "    pass"
      ],
      "metadata": {
        "id": "_CdIgPPku7hz"
      },
      "execution_count": 101,
      "outputs": []
    },
    {
      "cell_type": "code",
      "source": [
        "xgb_classier(\n",
        "  x_train,\n",
        "  y_train,\n",
        "  x_test,\n",
        "  y_test,\n",
        "  save = False,\n",
        "  plot = True,\n",
        "  tree = True,\n",
        "  matrix = True,\n",
        "  unmatch = False,\n",
        "  num_round = 50\n",
        ")"
      ],
      "metadata": {
        "id": "EYnzLcpylt09",
        "colab": {
          "base_uri": "https://localhost:8080/",
          "height": 1000
        },
        "outputId": "5cc8c9bb-5e10-431c-8915-f63f364448b2"
      },
      "execution_count": 102,
      "outputs": [
        {
          "output_type": "stream",
          "name": "stderr",
          "text": [
            "/usr/local/lib/python3.10/dist-packages/xgboost/core.py:158: UserWarning: [13:36:59] WARNING: /workspace/src/learner.cc:740: \n",
            "Parameters: { \"silent\" } are not used.\n",
            "\n",
            "  warnings.warn(smsg, UserWarning)\n"
          ]
        },
        {
          "output_type": "stream",
          "name": "stdout",
          "text": [
            "====================================================================================================\n",
            "XGB Classification Model\n",
            "====================================================================================================\n",
            "Precision Score :  98.11 %\n",
            "Accuracy Score :  98.1 %\n",
            "====================================================================================================\n",
            "Classification Report\n",
            "               precision    recall  f1-score   support\n",
            "\n",
            "           0       0.99      0.98      0.98       988\n",
            "           1       0.98      0.99      0.98      1012\n",
            "\n",
            "    accuracy                           0.98      2000\n",
            "   macro avg       0.98      0.98      0.98      2000\n",
            "weighted avg       0.98      0.98      0.98      2000\n",
            "\n",
            "====================================================================================================\n",
            "Confusion Matrix\n"
          ]
        },
        {
          "output_type": "display_data",
          "data": {
            "text/plain": [
              "<Figure size 640x480 with 1 Axes>"
            ],
            "image/png": "[encoded data removed]"
          },
          "metadata": {}
        },
        {
          "output_type": "display_data",
          "data": {
            "text/plain": [
              "<Figure size 640x480 with 1 Axes>"
            ],
            "image/png": "[encoded data removed]"
          },
          "metadata": {}
        },
        {
          "output_type": "display_data",
          "data": {
            "text/plain": [
              "<Figure size 640x480 with 1 Axes>"
            ],
            "image/png": "[encoded data removed]"
          },
          "metadata": {}
        },
        {
          "output_type": "display_data",
          "data": {
            "text/plain": [
              "<Figure size 500x300 with 2 Axes>"
            ],
            "image/png": "[encoded data removed]"
          },
          "metadata": {}
        }
      ]
    },
    {
      "cell_type": "code",
      "source": [
        "def xgb_cv(x, y, nfold = 3, num_round = 10, seed = 123):\n",
        "  try:\n",
        "    dmatrix = xgb.DMatrix(data = x, label = y)\n",
        "    params = {\n",
        "      'objective' : 'binary:logistic',\n",
        "      'max_depth' : 3,\n",
        "      'colsample_bytree': 0.5,\n",
        "      'subsample' : 0.75,\n",
        "      'gamma' : 0.25,\n",
        "      'learning_rate' : 0.3,\n",
        "      'reg_alpha' : 0.01\n",
        "    }\n",
        "    df = xgb.cv(dtrain = dmatrix, params = params, nfold = nfold, num_boost_round = num_round, seed = seed)\n",
        "\n",
        "    accuracy= 1 - df['test-logloss-mean'].iloc[-1]\n",
        "    print('XGB Classifier Cross Validation')\n",
        "    print('=' * 100)\n",
        "    print('Baseline Cross Validation Accuracy :', str(round(accuracy * 100, 2)), '%')\n",
        "    print('=' * 100)\n",
        "\n",
        "    display(df)\n",
        "  except:\n",
        "    pass"
      ],
      "metadata": {
        "id": "0da59CEc3lEQ"
      },
      "execution_count": 103,
      "outputs": []
    },
    {
      "cell_type": "code",
      "source": [
        "xgb_cv(x, y, nfold = 3, num_round = 10, seed = 123)"
      ],
      "metadata": {
        "id": "lqekv7Mb5bOx",
        "colab": {
          "base_uri": "https://localhost:8080/",
          "height": 437
        },
        "outputId": "5231a0bf-f4a9-45cb-c72b-c27ffcf19848"
      },
      "execution_count": 104,
      "outputs": [
        {
          "output_type": "stream",
          "name": "stdout",
          "text": [
            "XGB Classifier Cross Validation\n",
            "====================================================================================================\n",
            "Baseline Cross Validation Accuracy : 83.96 %\n",
            "====================================================================================================\n"
          ]
        },
        {
          "output_type": "display_data",
          "data": {
            "text/plain": [
              "   train-logloss-mean  train-logloss-std  test-logloss-mean  test-logloss-std\n",
              "0            0.571897           0.002104           0.573044          0.000806\n",
              "1            0.425278           0.003571           0.426872          0.001683\n",
              "2            0.336813           0.003960           0.338561          0.003278\n",
              "3            0.292097           0.002987           0.294164          0.002710\n",
              "4            0.261969           0.002879           0.264497          0.003550\n",
              "5            0.227258           0.003457           0.230178          0.004030\n",
              "6            0.203219           0.003893           0.206470          0.003506\n",
              "7            0.181429           0.004161           0.185592          0.003993\n",
              "8            0.169797           0.004709           0.174004          0.002489\n",
              "9            0.155999           0.003969           0.160439          0.002956"
            ],
            "text/html": [
              "\n",
              "  <div id=\"df-30d2610b-ccc8-44ee-b479-87b021e893a7\" class=\"colab-df-container\">\n",
              "    <div>\n",
              "<style scoped>\n",
              "    .dataframe tbody tr th:only-of-type {\n",
              "        vertical-align: middle;\n",
              "    }\n",
              "\n",
              "    .dataframe tbody tr th {\n",
              "        vertical-align: top;\n",
              "    }\n",
              "\n",
              "    .dataframe thead th {\n",
              "        text-align: right;\n",
              "    }\n",
              "</style>\n",
              "<table border=\"1\" class=\"dataframe\">\n",
              "  <thead>\n",
              "    <tr style=\"text-align: right;\">\n",
              "      <th></th>\n",
              "      <th>train-logloss-mean</th>\n",
              "      <th>train-logloss-std</th>\n",
              "      <th>test-logloss-mean</th>\n",
              "      <th>test-logloss-std</th>\n",
              "    </tr>\n",
              "  </thead>\n",
              "  <tbody>\n",
              "    <tr>\n",
              "      <th>0</th>\n",
              "      <td>0.571897</td>\n",
              "      <td>0.002104</td>\n",
              "      <td>0.573044</td>\n",
              "      <td>0.000806</td>\n",
              "    </tr>\n",
              "    <tr>\n",
              "      <th>1</th>\n",
              "      <td>0.425278</td>\n",
              "      <td>0.003571</td>\n",
              "      <td>0.426872</td>\n",
              "      <td>0.001683</td>\n",
              "    </tr>\n",
              "    <tr>\n",
              "      <th>2</th>\n",
              "      <td>0.336813</td>\n",
              "      <td>0.003960</td>\n",
              "      <td>0.338561</td>\n",
              "      <td>0.003278</td>\n",
              "    </tr>\n",
              "    <tr>\n",
              "      <th>3</th>\n",
              "      <td>0.292097</td>\n",
              "      <td>0.002987</td>\n",
              "      <td>0.294164</td>\n",
              "      <td>0.002710</td>\n",
              "    </tr>\n",
              "    <tr>\n",
              "      <th>4</th>\n",
              "      <td>0.261969</td>\n",
              "      <td>0.002879</td>\n",
              "      <td>0.264497</td>\n",
              "      <td>0.003550</td>\n",
              "    </tr>\n",
              "    <tr>\n",
              "      <th>5</th>\n",
              "      <td>0.227258</td>\n",
              "      <td>0.003457</td>\n",
              "      <td>0.230178</td>\n",
              "      <td>0.004030</td>\n",
              "    </tr>\n",
              "    <tr>\n",
              "      <th>6</th>\n",
              "      <td>0.203219</td>\n",
              "      <td>0.003893</td>\n",
              "      <td>0.206470</td>\n",
              "      <td>0.003506</td>\n",
              "    </tr>\n",
              "    <tr>\n",
              "      <th>7</th>\n",
              "      <td>0.181429</td>\n",
              "      <td>0.004161</td>\n",
              "      <td>0.185592</td>\n",
              "      <td>0.003993</td>\n",
              "    </tr>\n",
              "    <tr>\n",
              "      <th>8</th>\n",
              "      <td>0.169797</td>\n",
              "      <td>0.004709</td>\n",
              "      <td>0.174004</td>\n",
              "      <td>0.002489</td>\n",
              "    </tr>\n",
              "    <tr>\n",
              "      <th>9</th>\n",
              "      <td>0.155999</td>\n",
              "      <td>0.003969</td>\n",
              "      <td>0.160439</td>\n",
              "      <td>0.002956</td>\n",
              "    </tr>\n",
              "  </tbody>\n",
              "</table>\n",
              "</div>\n",
              "    <div class=\"colab-df-buttons\">\n",
              "\n",
              "  <div class=\"colab-df-container\">\n",
              "    <button class=\"colab-df-convert\" onclick=\"convertToInteractive('df-30d2610b-ccc8-44ee-b479-87b021e893a7')\"\n",
              "            title=\"Convert this dataframe to an interactive table.\"\n",
              "            style=\"display:none;\">\n",
              "\n",
              "  <svg xmlns=\"http://www.w3.org/2000/svg\" height=\"24px\" viewBox=\"0 -960 960 960\">\n",
              "    <path d=\"M120-120v-720h720v720H120Zm60-500h600v-160H180v160Zm220 220h160v-160H400v160Zm0 220h160v-160H400v160ZM180-400h160v-160H180v160Zm440 0h160v-160H620v160ZM180-180h160v-160H180v160Zm440 0h160v-160H620v160Z\"/>\n",
              "  </svg>\n",
              "    </button>\n",
              "\n",
              "  <style>\n",
              "    .colab-df-container {\n",
              "      display:flex;\n",
              "      gap: 12px;\n",
              "    }\n",
              "\n",
              "    .colab-df-convert {\n",
              "      background-color: #E8F0FE;\n",
              "      border: none;\n",
              "      border-radius: 50%;\n",
              "      cursor: pointer;\n",
              "      display: none;\n",
              "      fill: #1967D2;\n",
              "      height: 32px;\n",
              "      padding: 0 0 0 0;\n",
              "      width: 32px;\n",
              "    }\n",
              "\n",
              "    .colab-df-convert:hover {\n",
              "      background-color: #E2EBFA;\n",
              "      box-shadow: 0px 1px 2px rgba(60, 64, 67, 0.3), 0px 1px 3px 1px rgba(60, 64, 67, 0.15);\n",
              "      fill: #174EA6;\n",
              "    }\n",
              "\n",
              "    .colab-df-buttons div {\n",
              "      margin-bottom: 4px;\n",
              "    }\n",
              "\n",
              "    [theme=dark] .colab-df-convert {\n",
              "      background-color: #3B4455;\n",
              "      fill: #D2E3FC;\n",
              "    }\n",
              "\n",
              "    [theme=dark] .colab-df-convert:hover {\n",
              "      background-color: #434B5C;\n",
              "      box-shadow: 0px 1px 3px 1px rgba(0, 0, 0, 0.15);\n",
              "      filter: drop-shadow(0px 1px 2px rgba(0, 0, 0, 0.3));\n",
              "      fill: #FFFFFF;\n",
              "    }\n",
              "  </style>\n",
              "\n",
              "    <script>\n",
              "      const buttonEl =\n",
              "        document.querySelector('#df-30d2610b-ccc8-44ee-b479-87b021e893a7 button.colab-df-convert');\n",
              "      buttonEl.style.display =\n",
              "        google.colab.kernel.accessAllowed ? 'block' : 'none';\n",
              "\n",
              "      async function convertToInteractive(key) {\n",
              "        const element = document.querySelector('#df-30d2610b-ccc8-44ee-b479-87b021e893a7');\n",
              "        const dataTable =\n",
              "          await google.colab.kernel.invokeFunction('convertToInteractive',\n",
              "                                                    [key], {});\n",
              "        if (!dataTable) return;\n",
              "\n",
              "        const docLinkHtml = 'Like what you see? Visit the ' +\n",
              "          '<a target=\"_blank\" href=https://colab.research.google.com/notebooks/data_table.ipynb>data table notebook</a>'\n",
              "          + ' to learn more about interactive tables.';\n",
              "        element.innerHTML = '';\n",
              "        dataTable['output_type'] = 'display_data';\n",
              "        await google.colab.output.renderOutput(dataTable, element);\n",
              "        const docLink = document.createElement('div');\n",
              "        docLink.innerHTML = docLinkHtml;\n",
              "        element.appendChild(docLink);\n",
              "      }\n",
              "    </script>\n",
              "  </div>\n",
              "\n",
              "\n",
              "<div id=\"df-9bf63083-708d-4b52-ad6e-73ec5760a6cd\">\n",
              "  <button class=\"colab-df-quickchart\" onclick=\"quickchart('df-9bf63083-708d-4b52-ad6e-73ec5760a6cd')\"\n",
              "            title=\"Suggest charts\"\n",
              "            style=\"display:none;\">\n",
              "\n",
              "<svg xmlns=\"http://www.w3.org/2000/svg\" height=\"24px\"viewBox=\"0 0 24 24\"\n",
              "     width=\"24px\">\n",
              "    <g>\n",
              "        <path d=\"M19 3H5c-1.1 0-2 .9-2 2v14c0 1.1.9 2 2 2h14c1.1 0 2-.9 2-2V5c0-1.1-.9-2-2-2zM9 17H7v-7h2v7zm4 0h-2V7h2v10zm4 0h-2v-4h2v4z\"/>\n",
              "    </g>\n",
              "</svg>\n",
              "  </button>\n",
              "\n",
              "<style>\n",
              "  .colab-df-quickchart {\n",
              "      --bg-color: #E8F0FE;\n",
              "      --fill-color: #1967D2;\n",
              "      --hover-bg-color: #E2EBFA;\n",
              "      --hover-fill-color: #174EA6;\n",
              "      --disabled-fill-color: #AAA;\n",
              "      --disabled-bg-color: #DDD;\n",
              "  }\n",
              "\n",
              "  [theme=dark] .colab-df-quickchart {\n",
              "      --bg-color: #3B4455;\n",
              "      --fill-color: #D2E3FC;\n",
              "      --hover-bg-color: #434B5C;\n",
              "      --hover-fill-color: #FFFFFF;\n",
              "      --disabled-bg-color: #3B4455;\n",
              "      --disabled-fill-color: #666;\n",
              "  }\n",
              "\n",
              "  .colab-df-quickchart {\n",
              "    background-color: var(--bg-color);\n",
              "    border: none;\n",
              "    border-radius: 50%;\n",
              "    cursor: pointer;\n",
              "    display: none;\n",
              "    fill: var(--fill-color);\n",
              "    height: 32px;\n",
              "    padding: 0;\n",
              "    width: 32px;\n",
              "  }\n",
              "\n",
              "  .colab-df-quickchart:hover {\n",
              "    background-color: var(--hover-bg-color);\n",
              "    box-shadow: 0 1px 2px rgba(60, 64, 67, 0.3), 0 1px 3px 1px rgba(60, 64, 67, 0.15);\n",
              "    fill: var(--button-hover-fill-color);\n",
              "  }\n",
              "\n",
              "  .colab-df-quickchart-complete:disabled,\n",
              "  .colab-df-quickchart-complete:disabled:hover {\n",
              "    background-color: var(--disabled-bg-color);\n",
              "    fill: var(--disabled-fill-color);\n",
              "    box-shadow: none;\n",
              "  }\n",
              "\n",
              "  .colab-df-spinner {\n",
              "    border: 2px solid var(--fill-color);\n",
              "    border-color: transparent;\n",
              "    border-bottom-color: var(--fill-color);\n",
              "    animation:\n",
              "      spin 1s steps(1) infinite;\n",
              "  }\n",
              "\n",
              "  @keyframes spin {\n",
              "    0% {\n",
              "      border-color: transparent;\n",
              "      border-bottom-color: var(--fill-color);\n",
              "      border-left-color: var(--fill-color);\n",
              "    }\n",
              "    20% {\n",
              "      border-color: transparent;\n",
              "      border-left-color: var(--fill-color);\n",
              "      border-top-color: var(--fill-color);\n",
              "    }\n",
              "    30% {\n",
              "      border-color: transparent;\n",
              "      border-left-color: var(--fill-color);\n",
              "      border-top-color: var(--fill-color);\n",
              "      border-right-color: var(--fill-color);\n",
              "    }\n",
              "    40% {\n",
              "      border-color: transparent;\n",
              "      border-right-color: var(--fill-color);\n",
              "      border-top-color: var(--fill-color);\n",
              "    }\n",
              "    60% {\n",
              "      border-color: transparent;\n",
              "      border-right-color: var(--fill-color);\n",
              "    }\n",
              "    80% {\n",
              "      border-color: transparent;\n",
              "      border-right-color: var(--fill-color);\n",
              "      border-bottom-color: var(--fill-color);\n",
              "    }\n",
              "    90% {\n",
              "      border-color: transparent;\n",
              "      border-bottom-color: var(--fill-color);\n",
              "    }\n",
              "  }\n",
              "</style>\n",
              "\n",
              "  <script>\n",
              "    async function quickchart(key) {\n",
              "      const quickchartButtonEl =\n",
              "        document.querySelector('#' + key + ' button');\n",
              "      quickchartButtonEl.disabled = true;  // To prevent multiple clicks.\n",
              "      quickchartButtonEl.classList.add('colab-df-spinner');\n",
              "      try {\n",
              "        const charts = await google.colab.kernel.invokeFunction(\n",
              "            'suggestCharts', [key], {});\n",
              "      } catch (error) {\n",
              "        console.error('Error during call to suggestCharts:', error);\n",
              "      }\n",
              "      quickchartButtonEl.classList.remove('colab-df-spinner');\n",
              "      quickchartButtonEl.classList.add('colab-df-quickchart-complete');\n",
              "    }\n",
              "    (() => {\n",
              "      let quickchartButtonEl =\n",
              "        document.querySelector('#df-9bf63083-708d-4b52-ad6e-73ec5760a6cd button');\n",
              "      quickchartButtonEl.style.display =\n",
              "        google.colab.kernel.accessAllowed ? 'block' : 'none';\n",
              "    })();\n",
              "  </script>\n",
              "</div>\n",
              "\n",
              "    </div>\n",
              "  </div>\n"
            ],
            "application/vnd.google.colaboratory.intrinsic+json": {
              "type": "dataframe",
              "summary": "{\n  \"name\": \"xgb_cv(x, y, nfold = 3, num_round = 10, seed = 123)\",\n  \"rows\": 10,\n  \"fields\": [\n    {\n      \"column\": \"train-logloss-mean\",\n      \"properties\": {\n        \"dtype\": \"number\",\n        \"std\": 0.13159557530611607,\n        \"min\": 0.15599899631929767,\n        \"max\": 0.5718968249415387,\n        \"num_unique_values\": 10,\n        \"samples\": [\n          0.16979701833364028,\n          0.42527842073393285,\n          0.22725817449832697\n        ],\n        \"semantic_type\": \"\",\n        \"description\": \"\"\n      }\n    },\n    {\n      \"column\": \"train-logloss-std\",\n      \"properties\": {\n        \"dtype\": \"number\",\n        \"std\": 0.0007485733116017661,\n        \"min\": 0.002103683696681835,\n        \"max\": 0.004709044806541437,\n        \"num_unique_values\": 10,\n        \"samples\": [\n          0.004709044806541437,\n          0.003571244270304444,\n          0.0034566837289467154\n        ],\n        \"semantic_type\": \"\",\n        \"description\": \"\"\n      }\n    },\n    {\n      \"column\": \"test-logloss-mean\",\n      \"properties\": {\n        \"dtype\": \"number\",\n        \"std\": 0.13053680308567905,\n        \"min\": 0.16043902160482515,\n        \"max\": 0.5730444951138228,\n        \"num_unique_values\": 10,\n        \"samples\": [\n          0.17400377439918102,\n          0.42687173711803883,\n          0.2301783994484282\n        ],\n        \"semantic_type\": \"\",\n        \"description\": \"\"\n      }\n    },\n    {\n      \"column\": \"test-logloss-std\",\n      \"properties\": {\n        \"dtype\": \"number\",\n        \"std\": 0.0010263362142585793,\n        \"min\": 0.0008056974755222026,\n        \"max\": 0.004030114622848548,\n        \"num_unique_values\": 10,\n        \"samples\": [\n          0.002488790747903263,\n          0.0016830551441552005,\n          0.004030114622848548\n        ],\n        \"semantic_type\": \"\",\n        \"description\": \"\"\n      }\n    }\n  ]\n}"
            }
          },
          "metadata": {}
        }
      ]
    },
    {
      "cell_type": "code",
      "source": [
        "def xgb_rscv(x, y, params, n_iter = 5):\n",
        "  try:\n",
        "    model = xgb.XGBClassifier(random_state = 123)\n",
        "\n",
        "    xgb_rs = RandomizedSearchCV(\n",
        "      estimator = model,\n",
        "      param_distributions = params,\n",
        "      cv = 3,\n",
        "      n_iter = n_iter,\n",
        "      verbose = 2,\n",
        "      random_state = 123\n",
        "    )\n",
        "    xgb_rs.fit(x, y)\n",
        "\n",
        "    print('=' * 100)\n",
        "    print('XGB Classifier Random Search')\n",
        "    print('=' * 100)\n",
        "    print('Best Parameters Found :', xgb_rs.best_params_)\n",
        "    print('Best Accuracy Found :', str(round(xgb_rs.best_score_ * 100, 2)), '%')\n",
        "  except:\n",
        "    pass"
      ],
      "metadata": {
        "id": "cfQfXSyF_akQ"
      },
      "execution_count": 105,
      "outputs": []
    },
    {
      "cell_type": "code",
      "source": [
        "params = {\n",
        "  'max_depth' : list((range(3,12))),\n",
        "  'alpha' : [0,0.001, 0.01,0.1,1],\n",
        "  'subsample' : [0.5,0.75,1],\n",
        "  'learning_rate' : np.linspace(0.01,0.5, 10),\n",
        "  'n_estimators' : [10, 25, 40]\n",
        "}\n",
        "\n",
        "xgb_rscv(x, y, params, n_iter = 10)"
      ],
      "metadata": {
        "id": "dFV-tsuLA76z",
        "colab": {
          "base_uri": "https://localhost:8080/"
        },
        "outputId": "450f8cac-c591-4184-e1a1-0354080d5b4e"
      },
      "execution_count": 106,
      "outputs": [
        {
          "output_type": "stream",
          "name": "stdout",
          "text": [
            "Fitting 3 folds for each of 10 candidates, totalling 30 fits\n",
            "[CV] END alpha=1, learning_rate=0.22777777777777777, max_depth=5, n_estimators=10, subsample=0.5; total time=   0.2s\n",
            "[CV] END alpha=1, learning_rate=0.22777777777777777, max_depth=5, n_estimators=10, subsample=0.5; total time=   0.1s\n",
            "[CV] END alpha=1, learning_rate=0.22777777777777777, max_depth=5, n_estimators=10, subsample=0.5; total time=   0.1s\n",
            "[CV] END alpha=1, learning_rate=0.11888888888888888, max_depth=6, n_estimators=40, subsample=1; total time=   0.2s\n",
            "[CV] END alpha=1, learning_rate=0.11888888888888888, max_depth=6, n_estimators=40, subsample=1; total time=   0.2s\n",
            "[CV] END alpha=1, learning_rate=0.11888888888888888, max_depth=6, n_estimators=40, subsample=1; total time=   0.2s\n",
            "[CV] END alpha=1, learning_rate=0.11888888888888888, max_depth=8, n_estimators=40, subsample=0.75; total time=   0.3s\n",
            "[CV] END alpha=1, learning_rate=0.11888888888888888, max_depth=8, n_estimators=40, subsample=0.75; total time=   0.3s\n",
            "[CV] END alpha=1, learning_rate=0.11888888888888888, max_depth=8, n_estimators=40, subsample=0.75; total time=   0.3s\n",
            "[CV] END alpha=0.001, learning_rate=0.33666666666666667, max_depth=8, n_estimators=25, subsample=1; total time=   0.2s\n",
            "[CV] END alpha=0.001, learning_rate=0.33666666666666667, max_depth=8, n_estimators=25, subsample=1; total time=   0.2s\n",
            "[CV] END alpha=0.001, learning_rate=0.33666666666666667, max_depth=8, n_estimators=25, subsample=1; total time=   0.2s\n",
            "[CV] END alpha=0.001, learning_rate=0.17333333333333334, max_depth=10, n_estimators=40, subsample=0.5; total time=   0.3s\n",
            "[CV] END alpha=0.001, learning_rate=0.17333333333333334, max_depth=10, n_estimators=40, subsample=0.5; total time=   0.3s\n",
            "[CV] END alpha=0.001, learning_rate=0.17333333333333334, max_depth=10, n_estimators=40, subsample=0.5; total time=   0.2s\n",
            "[CV] END alpha=0.01, learning_rate=0.06444444444444444, max_depth=10, n_estimators=10, subsample=1; total time=   0.2s\n",
            "[CV] END alpha=0.01, learning_rate=0.06444444444444444, max_depth=10, n_estimators=10, subsample=1; total time=   0.1s\n",
            "[CV] END alpha=0.01, learning_rate=0.06444444444444444, max_depth=10, n_estimators=10, subsample=1; total time=   0.1s\n",
            "[CV] END alpha=0.1, learning_rate=0.44555555555555554, max_depth=4, n_estimators=10, subsample=1; total time=   0.1s\n",
            "[CV] END alpha=0.1, learning_rate=0.44555555555555554, max_depth=4, n_estimators=10, subsample=1; total time=   0.1s\n",
            "[CV] END alpha=0.1, learning_rate=0.44555555555555554, max_depth=4, n_estimators=10, subsample=1; total time=   0.1s\n",
            "[CV] END alpha=1, learning_rate=0.2822222222222222, max_depth=5, n_estimators=25, subsample=0.75; total time=   0.2s\n",
            "[CV] END alpha=1, learning_rate=0.2822222222222222, max_depth=5, n_estimators=25, subsample=0.75; total time=   0.2s\n",
            "[CV] END alpha=1, learning_rate=0.2822222222222222, max_depth=5, n_estimators=25, subsample=0.75; total time=   0.6s\n",
            "[CV] END alpha=0.01, learning_rate=0.33666666666666667, max_depth=8, n_estimators=25, subsample=0.5; total time=   1.4s\n",
            "[CV] END alpha=0.01, learning_rate=0.33666666666666667, max_depth=8, n_estimators=25, subsample=0.5; total time=   1.4s\n",
            "[CV] END alpha=0.01, learning_rate=0.33666666666666667, max_depth=8, n_estimators=25, subsample=0.5; total time=   0.2s\n",
            "[CV] END alpha=0.001, learning_rate=0.22777777777777777, max_depth=4, n_estimators=25, subsample=0.75; total time=   0.1s\n",
            "[CV] END alpha=0.001, learning_rate=0.22777777777777777, max_depth=4, n_estimators=25, subsample=0.75; total time=   0.1s\n",
            "[CV] END alpha=0.001, learning_rate=0.22777777777777777, max_depth=4, n_estimators=25, subsample=0.75; total time=   0.1s\n",
            "====================================================================================================\n",
            "XGB Classifier Random Search\n",
            "====================================================================================================\n",
            "Best Parameters Found : {'subsample': 1, 'n_estimators': 25, 'max_depth': 8, 'learning_rate': 0.33666666666666667, 'alpha': 0.001}\n",
            "Best Accuracy Found : 96.86 %\n"
          ]
        }
      ]
    }
  ],
  "metadata": {
    "colab": {
      "provenance": [],
      "toc_visible": true,
      "include_colab_link": true
    },
    "kernelspec": {
      "display_name": "Python 3 (ipykernel)",
      "language": "python",
      "name": "python3"
    },
    "language_info": {
      "codemirror_mode": {
        "name": "ipython",
        "version": 3
      },
      "file_extension": ".py",
      "mimetype": "text/x-python",
      "name": "python",
      "nbconvert_exporter": "python",
      "pygments_lexer": "ipython3",
      "version": "3.9.13"
    }
  },
  "nbformat": 4,
  "nbformat_minor": 0
}